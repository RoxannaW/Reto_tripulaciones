{
 "metadata": {
  "language_info": {
   "codemirror_mode": {
    "name": "ipython",
    "version": 3
   },
   "file_extension": ".py",
   "mimetype": "text/x-python",
   "name": "python",
   "nbconvert_exporter": "python",
   "pygments_lexer": "ipython3",
   "version": "3.8.3-final"
  },
  "orig_nbformat": 2,
  "kernelspec": {
   "name": "Python 3.8.3 64-bit",
   "display_name": "Python 3.8.3 64-bit",
   "metadata": {
    "interpreter": {
     "hash": "1baa965d5efe3ac65b79dfc60c0d706280b1da80fedb7760faf2759126c4f253"
    }
   }
  }
 },
 "nbformat": 4,
 "nbformat_minor": 2,
 "cells": [
  {
   "cell_type": "code",
   "execution_count": 1,
   "metadata": {},
   "outputs": [],
   "source": [
    "import time\n",
    "import datetime as dt"
   ]
  },
  {
   "source": [
    "The ideal work rhythm was 52 minutes of work time followed by a 17-minute break,"
   ],
   "cell_type": "markdown",
   "metadata": {}
  },
  {
   "cell_type": "code",
   "execution_count": null,
   "metadata": {},
   "outputs": [],
   "source": [
    "def 52/17(workhours):\n",
    "    work_time = int(workhours) * 60 * 60  #Change hour to parameter workhours\n",
    "    lunch_time = t_now + (t_delta_work / 2)\n",
    "    lunch_time_sec = dt.timedelta(0, (1*60*60)) #Lunch time of one hour. \n",
    "    end_lunch = lunch_time + lunch_time_sec\n",
    "    end_workday = t_now + t_delta_work\n",
    "\n",
    "\n",
    "    t_now = dt.datetime.now()                       # Current time for reference.   [datetime object]\n",
    "    t_work = 52*60                                   # Pomodoro time                 [int, seconds]\n",
    "    t_delta = dt.timedelta(0,t_work)                 # Time delta in mins            [datetime object]\n",
    "    t_break = t_now + t_delta \n",
    "    t_break_seconds =  17*60\n",
    "    t_delta_break = dt.timedelta(0, t_break_seconds)                                # Break time, after pomodoro  \n",
    "    t_fin = t_now + t_delta_break\n",
    "\n",
    "\n"
   ]
  }
 ]
}