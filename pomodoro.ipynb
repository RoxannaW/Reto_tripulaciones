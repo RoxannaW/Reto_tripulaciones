{
 "metadata": {
  "language_info": {
   "codemirror_mode": {
    "name": "ipython",
    "version": 3
   },
   "file_extension": ".py",
   "mimetype": "text/x-python",
   "name": "python",
   "nbconvert_exporter": "python",
   "pygments_lexer": "ipython3",
   "version": "3.8.3-final"
  },
  "orig_nbformat": 2,
  "kernelspec": {
   "name": "Python 3.8.3 64-bit",
   "display_name": "Python 3.8.3 64-bit",
   "metadata": {
    "interpreter": {
     "hash": "1baa965d5efe3ac65b79dfc60c0d706280b1da80fedb7760faf2759126c4f253"
    }
   }
  }
 },
 "nbformat": 4,
 "nbformat_minor": 2,
 "cells": [
  {
   "cell_type": "code",
   "execution_count": 1,
   "metadata": {},
   "outputs": [
    {
     "output_type": "execute_result",
     "data": {
      "text/plain": "&#39;&#39;"
     },
     "metadata": {},
     "execution_count": 1
    }
   ],
   "source": [
    "import time\n",
    "import datetime as dt\n",
    "\n",
    "import tkinter\n",
    "from tkinter import messagebox\n",
    "from tkinter import simpledialog\n",
    "import winsound\n",
    "# hide main window\n",
    "root = tkinter.Tk()\n",
    "root.withdraw()"
   ]
  },
  {
   "cell_type": "code",
   "execution_count": 4,
   "metadata": {},
   "outputs": [],
   "source": [
    "import time\n",
    "import datetime as dt\n",
    "\n",
    "import tkinter\n",
    "from tkinter import messagebox\n",
    "from tkinter import simpledialog\n",
    "import winsound\n",
    "# hide main window\n",
    "root = tkinter.Tk()\n",
    "root.withdraw()\n",
    "\n",
    "def tomato(workhours):\n",
    "\n",
    "    total_pomodoros = 0\n",
    "\n",
    "\n",
    "    # Collect time information\n",
    "    t_now = dt.datetime.now()                       # Current time for reference.   [datetime object]\n",
    "    t_pom = 25*60                                   # Pomodoro time                 [int, seconds]\n",
    "    t_delta = dt.timedelta(0,t_pom)                 # Time delta in mins            [datetime object]\n",
    "    t_fut = t_now + t_delta                         # Future time for reference     [datetime object]\n",
    "    delta_sec = 1#60                                  # Break time, after pomodoro    [int, seconds]\n",
    "    t_fin = t_now + dt.timedelta(0,t_pom+delta_sec) # Final time (w/ 5 mins break)  [datetime object]\n",
    "\n",
    "    work_time = int(workhours) * 60 * 60  #Change hour to parameter workhours\n",
    "    t_delta_work = dt.timedelta(0, work_time)\n",
    "    lunch_time = t_now + (t_delta_work / 2)\n",
    "    lunch_time_sec = dt.timedelta(0, (1*60*60))\n",
    "    end_lunch = lunch_time + lunch_time_sec\n",
    "    end_workday = t_now + t_delta_work\n",
    "\n",
    "   # Main script\n",
    "    while True:\n",
    "        if t_now <= lunch_time:\n",
    "            next_pomo = True\n",
    "        \n",
    "        elif t_now >= lunch_time <= end_lunch:\n",
    "            time.sleep(1*60*60)\n",
    "            t_now = dt.datetime.now()\n",
    "\n",
    "        elif t_now >= end_lunch <= end_workday:\n",
    "            next_pomo = True\n",
    "        \n",
    "        elif t_now >= end_workday:\n",
    "            print(f'Workday complete! \\nYou have completed {total_pomodoros} pomodoros today.')\n",
    "            break\n",
    "        \n",
    "        # Pomodoro time! Code for adding and maintaining the websites to be blocked!\n",
    "        if t_now < t_fut:\n",
    "            print('Time to work!')\n",
    "        ## it is now past working pomodoro, within the break. Delete the websites\n",
    "        elif t_fut <= t_now <= t_fin:\n",
    "            print('5 min break time!')\n",
    "            time.sleep(5*60)\n",
    "            \n",
    "        else:\n",
    "            \n",
    "            total_pomodoros += 1\n",
    "\n",
    "            if total_pomodoros % 4 == 0:\n",
    "                print(\"Time for 15 min break!\")\n",
    "                big_break_time = dt.timedelta(0, (15*60))\n",
    "                end_big_break = t_now + big_break_time\n",
    "                time.sleep(15*60)\n",
    "                t_now = dt.datetime.now()\n",
    "            elif next_pomo == True:\n",
    "                # user needs another pomodoro. Update values to indicate new timeset.\n",
    "                t_now = dt.datetime.now()\n",
    "                t_fut = t_now + dt.timedelta(0,t_pom)\n",
    "                t_fin = t_now + dt.timedelta(0,t_pom+delta_sec)\n",
    "                continue\n",
    "            \n",
    "        # check every 3 seconds and update current time\n",
    "        time.sleep(60)\n",
    "        t_now = dt.datetime.now()\n"
   ]
  },
  {
   "cell_type": "code",
   "execution_count": 5,
   "metadata": {
    "tags": []
   },
   "outputs": [
    {
     "output_type": "stream",
     "name": "stdout",
     "text": "Time to work!\nTime to work!\nTime to work!\nTime to work!\nTime to work!\nTime to work!\nTime to work!\nTime to work!\nTime to work!\nTime to work!\nTime to work!\nTime to work!\nTime to work!\nTime to work!\nTime to work!\nTime to work!\nTime to work!\nTime to work!\nTime to work!\nTime to work!\nTime to work!\nTime to work!\nTime to work!\nTime to work!\nTime to work!\nTime to work!\nTime to work!\nTime to work!\nTime to work!\nTime to work!\nTime to work!\nTime to work!\nTime to work!\nTime to work!\nTime to work!\nTime to work!\nTime to work!\nTime to work!\nTime to work!\nTime to work!\nTime to work!\nTime to work!\nTime to work!\nTime to work!\nTime to work!\nTime to work!\nTime to work!\nTime to work!\nTime to work!\nTime to work!\nTime to work!\nTime to work!\nTime to work!\nTime to work!\nTime to work!\nTime to work!\nTime to work!\nTime to work!\nTime to work!\nTime to work!\nTime to work!\nTime to work!\nTime to work!\nTime to work!\nTime to work!\nTime to work!\nTime to work!\nTime to work!\nTime to work!\nTime to work!\nTime to work!\nTime to work!\nTime to work!\nTime to work!\nTime to work!\nBreak time!\n\u0007\nTime to work!\nTime to work!\nTime to work!\nTime to work!\nTime to work!\nTime to work!\nTime to work!\nTime to work!\nTime to work!\nTime to work!\nTime to work!\nTime to work!\nTime to work!\nTime to work!\nTime to work!\nTime to work!\nTime to work!\nTime to work!\nTime to work!\nTime to work!\nTime to work!\nTime to work!\nTime to work!\nTime to work!\nTime to work!\nTime to work!\nTime to work!\nTime to work!\nTime to work!\nTime to work!\nTime to work!\nTime to work!\nTime to work!\nTime to work!\nTime to work!\nTime to work!\nTime to work!\nTime to work!\nTime to work!\nTime to work!\nTime to work!\nTime to work!\nTime to work!\nTime to work!\nTime to work!\n\u0007\nTime to work!\nTime to work!\nTime to work!\nTime to work!\nTime to work!\nTime to work!\nTime to work!\nTime to work!\nTime to work!\nTime to work!\nTime to work!\nTime to work!\nTime to work!\nTime to work!\nTime to work!\nTime to work!\n"
    }
   ],
   "source": [
    "tomato(8)"
   ]
  },
  {
   "cell_type": "code",
   "execution_count": null,
   "metadata": {},
   "outputs": [],
   "source": []
  }
 ]
}