{
 "metadata": {
  "language_info": {
   "codemirror_mode": {
    "name": "ipython",
    "version": 3
   },
   "file_extension": ".py",
   "mimetype": "text/x-python",
   "name": "python",
   "nbconvert_exporter": "python",
   "pygments_lexer": "ipython3",
   "version": "3.8.3-final"
  },
  "orig_nbformat": 2,
  "kernelspec": {
   "name": "Python 3.8.3 64-bit",
   "display_name": "Python 3.8.3 64-bit",
   "metadata": {
    "interpreter": {
     "hash": "1baa965d5efe3ac65b79dfc60c0d706280b1da80fedb7760faf2759126c4f253"
    }
   }
  }
 },
 "nbformat": 4,
 "nbformat_minor": 2,
 "cells": [
  {
   "cell_type": "code",
   "execution_count": 34,
   "metadata": {},
   "outputs": [],
   "source": [
    "import pandas as pd\n",
    "import numpy as np\n",
    "import random\n",
    "from sklearn.feature_extraction.text import CountVectorizer\n",
    "from sklearn.metrics.pairwise import cosine_similarity"
   ]
  },
  {
   "cell_type": "code",
   "execution_count": 35,
   "metadata": {},
   "outputs": [],
   "source": [
    "#################################################\n",
    "def get_title_from_index(df, index):\n",
    "\treturn df[df.index == index][\"vid_id\"].values[0]"
   ]
  },
  {
   "cell_type": "code",
   "execution_count": 36,
   "metadata": {},
   "outputs": [],
   "source": [
    "def get_index_from_videoID(df, vid_id):\n",
    "    return df[df.vid_id == vid_id].index[0]"
   ]
  },
  {
   "cell_type": "code",
   "execution_count": 37,
   "metadata": {},
   "outputs": [],
   "source": [
    "\n",
    "def combine_features(row): \n",
    "\ttry:\n",
    "\t\treturn row['vid_title'] +\" \"+row['category']+\" \"+row[\"description\"]+\" \"+row[\"tags\"]\n",
    "\texcept:\n",
    "\t\tprint(\"Error:\", row\t)\n",
    "\n",
    "    \n",
    "##################################################"
   ]
  },
  {
   "cell_type": "code",
   "execution_count": 117,
   "metadata": {},
   "outputs": [],
   "source": [
    "def recommender_videos(mood, activity_pref, liked_videos):\n",
    "    \"\"\"\n",
    "\n",
    "    Function that will return a video recommendation based on the mood of the user, the preferred categories and     previously liked videos. \n",
    "\n",
    "    Parameters:\n",
    "    - mood: 1=Happy/content, 2=Tired, 3=Stressed/unhappy\n",
    "    - activity_pref = List of the activities the person has liked (sports, meditation etc.)\n",
    "    - liked_videos = previously liked videos (of all categories)\n",
    "\n",
    "    Function will return a dictionary with the url of the recommended video. \n",
    "\n",
    "    \"\"\"\n",
    "\n",
    "    #user_id = user_id\n",
    "    activity_pref = activity_pref  \n",
    "    target_activity =  random.choice(activity_pref)  ##TODO now target is chosen randomely, maybe depending on                                                              hour or something else?\n",
    "\n",
    "    #print(target_activity)\n",
    "    mood = mood  \n",
    "    liked_videos = liked_videos #previously liked videos\n",
    "                                                                         \n",
    "\n",
    "    df = pd.read_csv(\"df_content_v5.csv\") #Loading content of all data of youtube dataframe\n",
    "    \n",
    "\n",
    "    filtered_df = df[df.sentiment_target == mood] #Filtering dataframe for sentiment and the target activity\n",
    "    df = filtered_df[filtered_df.category == target_activity]\n",
    "    df = df.reset_index() \n",
    "\n",
    "    liked_vid_of_category = []\n",
    "    for elem in liked_videos: \n",
    "        if elem in df['vid_id'].values:\n",
    "            liked_vid_of_category.append(elem)  #selecting the videos of liked_videos that are corresponding to                                                     the category/activity chosen. \n",
    "    vid_to_use = random.choice(liked_vid_of_category) #Select one video to use in the recommendation system.\n",
    "\n",
    "    #print(vid_to_use)\n",
    "    #return df\n",
    "\n",
    "    #-----------------------------------------------------------------------------------------#\n",
    "                                #part of recommending a video#\n",
    "\n",
    "    ##Step 1: Select Features that are could be important\n",
    "    features = ['vid_title','category','description','tags']\n",
    "\n",
    "    #Step 2: Create a column in DF which combines all selected features\n",
    "    for feature in features:\n",
    "        df[feature] = df[feature].fillna('')\n",
    "    \n",
    "    df[\"combined_features\"] = df.apply(combine_features,axis=1)\n",
    "\n",
    "    #return df\n",
    "\n",
    "    ##Step 3: Create count matrix from this new combined column\n",
    "    cv = CountVectorizer()\n",
    "    count_matrix = cv.fit_transform(df[\"combined_features\"])\n",
    "\n",
    "    #pca visualisation \n",
    "    \n",
    "    ##Step 4: Compute the Cosine Similarity based on the count_matrix\n",
    "    cosine_sim = cosine_similarity(count_matrix) \n",
    "    video_user_likes = vid_to_use\n",
    "    \n",
    "    ## Step 5: Get index of this movie from its title\n",
    "    video = get_index_from_videoID(df, video_user_likes)\n",
    "    #print(video)\n",
    "    similar_videos =  list(enumerate(cosine_sim[video]))\n",
    "\n",
    "    ## Step 6: Get a list of similar movies in descending order of similarity score\n",
    "    sorted_similar_videos = sorted(similar_videos,key=lambda x:x[1],reverse=True)\n",
    "    #sort_by_likes = sorted(sorted_similar_videos,key=lambda x:df[\"views\"][x[0]],reverse=True) --> TODO Maybe               filter on likes or views as well?\n",
    "\n",
    "    ## Step 7: Print titles of first 10 recommendations\n",
    "    recommendations = []\n",
    "    i=0\n",
    "    for element in sorted_similar_videos:\n",
    "        recommendations.append(get_title_from_index(df, element[0]))\n",
    "        i += 1\n",
    "        if i>10:\n",
    "            break\n",
    "    \n",
    "\n",
    "    #Step 8: filter dataframe for recommended videos:\n",
    "    df_recommended = df[df['vid_id'].isin(recommendations)]\n",
    "    df_recommended = df_recommended[df_recommended.vid_id != video_user_likes] #eliminate any recommendation         that use already liked (thus watched) before.\n",
    "    \n",
    "    url_vid = df_recommended[[\"url\"]].values[0][0] #getting the url of the first option. #TODO add more then 1 recommendation?\n",
    "\n",
    "    \n",
    "    url = {\"url\": url_vid} #Creating dctionary with url to return. \n",
    "\n",
    "    return url\n"
   ]
  },
  {
   "cell_type": "code",
   "execution_count": 119,
   "metadata": {
    "tags": []
   },
   "outputs": [
    {
     "output_type": "execute_result",
     "data": {
      "text/plain": "{&#39;url&#39;: &#39;https://www.youtube.com/watch?v=niYf1Uzb-OQ&#39;}"
     },
     "metadata": {},
     "execution_count": 119
    }
   ],
   "source": [
    "recommender_videos(mood=1, activity_pref=[\"Workout\", \"Meditation\", \"Educational\"], liked_videos=['5zjZIHsHuDI', 'OCorElLKFQE', 'LNHBMFCzznE'])"
   ]
  },
  {
   "cell_type": "code",
   "execution_count": null,
   "metadata": {},
   "outputs": [],
   "source": []
  }
 ]
}