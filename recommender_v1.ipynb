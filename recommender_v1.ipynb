{
 "metadata": {
  "language_info": {
   "codemirror_mode": {
    "name": "ipython",
    "version": 3
   },
   "file_extension": ".py",
   "mimetype": "text/x-python",
   "name": "python",
   "nbconvert_exporter": "python",
   "pygments_lexer": "ipython3",
   "version": "3.8.3-final"
  },
  "orig_nbformat": 2,
  "kernelspec": {
   "name": "Python 3.8.3 64-bit",
   "display_name": "Python 3.8.3 64-bit",
   "metadata": {
    "interpreter": {
     "hash": "1baa965d5efe3ac65b79dfc60c0d706280b1da80fedb7760faf2759126c4f253"
    }
   }
  }
 },
 "nbformat": 4,
 "nbformat_minor": 2,
 "cells": [
  {
   "cell_type": "code",
   "execution_count": 1,
   "metadata": {},
   "outputs": [],
   "source": [
    "#Content based recommender\n",
    "\n",
    "import pandas as pd\n",
    "import numpy as np\n",
    "from sklearn.feature_extraction.text import CountVectorizer\n",
    "from sklearn.metrics.pairwise import cosine_similarity"
   ]
  },
  {
   "cell_type": "code",
   "execution_count": 25,
   "metadata": {
    "tags": []
   },
   "outputs": [
    {
     "output_type": "stream",
     "name": "stdout",
     "text": "Index([&#39;vid_title&#39;, &#39;vid_id&#39;, &#39;category&#39;, &#39;duration&#39;, &#39;views&#39;, &#39;likes&#39;, &#39;url&#39;,\n       &#39;description&#39;, &#39;tags&#39;, &#39;Likes_Views_ratio&#39;],\n      dtype=&#39;object&#39;)\n"
    }
   ],
   "source": [
    "df = pd.read_csv(\"df_content_v4.csv\")\n",
    "print(df.columns)"
   ]
  },
  {
   "cell_type": "code",
   "execution_count": 6,
   "metadata": {},
   "outputs": [
    {
     "output_type": "execute_result",
     "data": {
      "text/plain": "array([&#39;Workout&#39;, &#39;Stretch&#39;, &#39;Meditation&#39;, &#39;Educational&#39;, &#39;Funny&#39;,\n       &#39;Short Movie&#39;], dtype=object)"
     },
     "metadata": {},
     "execution_count": 6
    }
   ],
   "source": [
    "df.category.unique()"
   ]
  },
  {
   "cell_type": "code",
   "execution_count": 42,
   "metadata": {},
   "outputs": [],
   "source": [
    "def add_sentiment(row):\n",
    "\n",
    "    \"\"\"\n",
    "    1 -> Happy/content\n",
    "    2 -> Tired\n",
    "    3 -> Stressed/unhappy\n",
    "\n",
    "    categories: 'Workout', 'Stretch', 'Meditation', 'Educational', 'Funny',\n",
    "        'Short Movie'\n",
    "    \"\"\"\n",
    "\n",
    "    if row['category'] == 'Workout' :\n",
    "      return [1, 2]\n",
    "    if row['category'] == 'Stretch' :\n",
    "      return [3]\n",
    "    if row['category'] == 'Meditation' :\n",
    "      return [1, 3]\n",
    "    if row['category'] == 'Educational' :\n",
    "      return [1]\n",
    "    if row['category'] == 'Funny' :\n",
    "      return [1, 2, 3]\n",
    "    if row['category'] == 'Short Movie' :\n",
    "      return [1, 3]\n",
    "\n",
    "   "
   ]
  },
  {
   "cell_type": "code",
   "execution_count": 43,
   "metadata": {},
   "outputs": [],
   "source": [
    "df['sentiment_target'] = df.apply (lambda row: add_sentiment(row), axis=1)"
   ]
  },
  {
   "cell_type": "code",
   "execution_count": 125,
   "metadata": {},
   "outputs": [],
   "source": [
    "test = df_users[df_users.User_id == 1]\n",
    "test = test.drop(3, axis=0)\n",
    "test"
   ]
  },
  {
   "cell_type": "code",
   "execution_count": 138,
   "metadata": {},
   "outputs": [
    {
     "output_type": "error",
     "ename": "NameError",
     "evalue": "name &#39;liked_videos&#39; is not defined",
     "traceback": [
      "\u001b[1;31m---------------------------------------------------------------------------\u001b[0m",
      "\u001b[1;31mNameError\u001b[0m                                 Traceback (most recent call last)",
      "\u001b[1;32m&lt;ipython-input-138-a372e23ff58c&gt;\u001b[0m in \u001b[0;36m&lt;module&gt;\u001b[1;34m\u001b[0m\n\u001b[0;32m      1\u001b[0m \u001b[0mliked_videos\u001b[0m\u001b[1;33m:\u001b[0m \u001b[1;33m[\u001b[0m\u001b[1;34m&quot;iFuY20IERq8&quot;\u001b[0m\u001b[1;33m,\u001b[0m \u001b[1;34m&quot;arj7oStGLkU&quot;\u001b[0m\u001b[1;33m]\u001b[0m\u001b[1;33m\u001b[0m\u001b[1;33m\u001b[0m\u001b[0m\n\u001b[1;32m----&gt; 2\u001b[1;33m \u001b[0mprint\u001b[0m\u001b[1;33m(\u001b[0m\u001b[0mliked_videos\u001b[0m\u001b[1;33m)\u001b[0m\u001b[1;33m\u001b[0m\u001b[1;33m\u001b[0m\u001b[0m\n\u001b[0m",
      "\u001b[1;31mNameError\u001b[0m: name &#39;liked_videos&#39; is not defined"
     ]
    }
   ],
   "source": [
    "liked_videos: [\"iFuY20IERq8\", \"arj7oStGLkU\"]\n",
    "print(liked_videos)"
   ]
  },
  {
   "cell_type": "code",
   "execution_count": 140,
   "metadata": {
    "tags": []
   },
   "outputs": [
    {
     "output_type": "error",
     "ename": "IndexError",
     "evalue": "Cannot choose from an empty sequence",
     "traceback": [
      "\u001b[1;31m---------------------------------------------------------------------------\u001b[0m",
      "\u001b[1;31mIndexError\u001b[0m                                Traceback (most recent call last)",
      "\u001b[1;32m&lt;ipython-input-140-a8f1dc8bc515&gt;\u001b[0m in \u001b[0;36m&lt;module&gt;\u001b[1;34m\u001b[0m\n\u001b[0;32m     11\u001b[0m         \u001b[0mliked_videos_of_Catogery\u001b[0m\u001b[1;33m.\u001b[0m\u001b[0mappend\u001b[0m\u001b[1;33m(\u001b[0m\u001b[0melem\u001b[0m\u001b[1;33m)\u001b[0m\u001b[1;33m\u001b[0m\u001b[1;33m\u001b[0m\u001b[0m\n\u001b[0;32m     12\u001b[0m \u001b[1;33m\u001b[0m\u001b[0m\n\u001b[1;32m---&gt; 13\u001b[1;33m \u001b[0mvideo_suggestion\u001b[0m \u001b[1;33m=\u001b[0m \u001b[0mrandom\u001b[0m\u001b[1;33m.\u001b[0m\u001b[0mchoice\u001b[0m\u001b[1;33m(\u001b[0m\u001b[0mliked_videos_of_Catogery\u001b[0m\u001b[1;33m)\u001b[0m\u001b[1;33m\u001b[0m\u001b[1;33m\u001b[0m\u001b[0m\n\u001b[0m\u001b[0;32m     14\u001b[0m \u001b[1;31m#for elem in test.disliked_videos:\u001b[0m\u001b[1;33m\u001b[0m\u001b[1;33m\u001b[0m\u001b[1;33m\u001b[0m\u001b[0m\n\u001b[0;32m     15\u001b[0m \u001b[1;31m#    if elem in filtered_df.elem:\u001b[0m\u001b[1;33m\u001b[0m\u001b[1;33m\u001b[0m\u001b[1;33m\u001b[0m\u001b[0m\n",
      "\u001b[1;32mC:\\Program Files\\Python38\\lib\\random.py\u001b[0m in \u001b[0;36mchoice\u001b[1;34m(self, seq)\u001b[0m\n\u001b[0;32m    288\u001b[0m             \u001b[0mi\u001b[0m \u001b[1;33m=\u001b[0m \u001b[0mself\u001b[0m\u001b[1;33m.\u001b[0m\u001b[0m_randbelow\u001b[0m\u001b[1;33m(\u001b[0m\u001b[0mlen\u001b[0m\u001b[1;33m(\u001b[0m\u001b[0mseq\u001b[0m\u001b[1;33m)\u001b[0m\u001b[1;33m)\u001b[0m\u001b[1;33m\u001b[0m\u001b[1;33m\u001b[0m\u001b[0m\n\u001b[0;32m    289\u001b[0m         \u001b[1;32mexcept\u001b[0m \u001b[0mValueError\u001b[0m\u001b[1;33m:\u001b[0m\u001b[1;33m\u001b[0m\u001b[1;33m\u001b[0m\u001b[0m\n\u001b[1;32m--&gt; 290\u001b[1;33m             \u001b[1;32mraise\u001b[0m \u001b[0mIndexError\u001b[0m\u001b[1;33m(\u001b[0m\u001b[1;34m&#39;Cannot choose from an empty sequence&#39;\u001b[0m\u001b[1;33m)\u001b[0m \u001b[1;32mfrom\u001b[0m \u001b[1;32mNone\u001b[0m\u001b[1;33m\u001b[0m\u001b[1;33m\u001b[0m\u001b[0m\n\u001b[0m\u001b[0;32m    291\u001b[0m         \u001b[1;32mreturn\u001b[0m \u001b[0mseq\u001b[0m\u001b[1;33m[\u001b[0m\u001b[0mi\u001b[0m\u001b[1;33m]\u001b[0m\u001b[1;33m\u001b[0m\u001b[1;33m\u001b[0m\u001b[0m\n\u001b[0;32m    292\u001b[0m \u001b[1;33m\u001b[0m\u001b[0m\n",
      "\u001b[1;31mIndexError\u001b[0m: Cannot choose from an empty sequence"
     ]
    }
   ],
   "source": [
    "df_users = pd.read_json(\"data_users2.json\")\n",
    "test = df_users[df_users.User_id == 1]\n",
    "liked_videos_of_Catogery = []\n",
    "disliked_videos_of_Catogery = []\n",
    "liked_videos =  [\"LNHBMFCzznE\", \"arj7oStGLkU\"]\n",
    "\n",
    "\n",
    "for elem in liked_videos:\n",
    "        #if elem in filtered_df.vid_id:\n",
    "    if filtered_df.vid_id.astype(str).str.contains(elem).any():\n",
    "        liked_videos_of_Catogery.append(elem)\n",
    "\n",
    "video_suggestion = random.choice(liked_videos_of_Catogery)\n",
    "#for elem in test.disliked_videos:\n",
    "#    if elem in filtered_df.elem:\n",
    "#        disliked_videos_of_Catogery.append(elem)\n",
    "\n",
    "#filtered_df = df[(df.category not in  (liked_videos_of_Catogery)) ]\n"
   ]
  },
  {
   "cell_type": "code",
   "execution_count": 114,
   "metadata": {
    "tags": []
   },
   "outputs": [],
   "source": [
    "if filtered_df.vid_id.astype(str).str.contains('arj7oStGLkU').any():\n",
    "    print(\"yes\")"
   ]
  },
  {
   "cell_type": "code",
   "execution_count": 65,
   "metadata": {},
   "outputs": [],
   "source": [
    "#explode the column sentiment target so sentiment target has only one value. \n",
    "\n",
    "df = df.explode('sentiment_target')\n",
    "df.head()\n",
    "df.to_csv(r\"df_content_v5.csv\", index = False)"
   ]
  },
  {
   "cell_type": "code",
   "execution_count": 181,
   "metadata": {
    "tags": []
   },
   "outputs": [
    {
     "output_type": "stream",
     "name": "stdout",
     "text": "Error: Series([], dtype: float64)\n"
    },
    {
     "output_type": "error",
     "ename": "ValueError",
     "evalue": "empty vocabulary; perhaps the documents only contain stop words",
     "traceback": [
      "\u001b[1;31m---------------------------------------------------------------------------\u001b[0m",
      "\u001b[1;31mValueError\u001b[0m                                Traceback (most recent call last)",
      "\u001b[1;32m&lt;ipython-input-181-f11287403998&gt;\u001b[0m in \u001b[0;36m&lt;module&gt;\u001b[1;34m\u001b[0m\n\u001b[0;32m     49\u001b[0m \u001b[1;33m\u001b[0m\u001b[0m\n\u001b[0;32m     50\u001b[0m \u001b[1;33m\u001b[0m\u001b[0m\n\u001b[1;32m---&gt; 51\u001b[1;33m \u001b[0mx\u001b[0m \u001b[1;33m=\u001b[0m \u001b[0mrecommender_videos\u001b[0m\u001b[1;33m(\u001b[0m\u001b[0mmood\u001b[0m\u001b[1;33m=\u001b[0m\u001b[1;36m1\u001b[0m\u001b[1;33m,\u001b[0m \u001b[0mactivity_pref\u001b[0m\u001b[1;33m=\u001b[0m\u001b[1;33m[\u001b[0m\u001b[1;34m&quot;Workout&quot;\u001b[0m\u001b[1;33m,\u001b[0m \u001b[1;34m&quot;meditation&quot;\u001b[0m\u001b[1;33m,\u001b[0m \u001b[1;34m&quot;Educational&quot;\u001b[0m\u001b[1;33m]\u001b[0m\u001b[1;33m,\u001b[0m \u001b[0mtime\u001b[0m\u001b[1;33m=\u001b[0m\u001b[1;34m&quot;morning&quot;\u001b[0m\u001b[1;33m,\u001b[0m \u001b[0muser_id\u001b[0m\u001b[1;33m=\u001b[0m\u001b[1;36m1\u001b[0m\u001b[1;33m)\u001b[0m\u001b[1;33m\u001b[0m\u001b[1;33m\u001b[0m\u001b[0m\n\u001b[0m",
      "\u001b[1;32m&lt;ipython-input-181-f11287403998&gt;\u001b[0m in \u001b[0;36mrecommender_videos\u001b[1;34m(mood, activity_pref, time, user_id)\u001b[0m\n\u001b[0;32m     42\u001b[0m     \u001b[1;31m##Step 4: Create count matrix from this new combined column\u001b[0m\u001b[1;33m\u001b[0m\u001b[1;33m\u001b[0m\u001b[1;33m\u001b[0m\u001b[0m\n\u001b[0;32m     43\u001b[0m     \u001b[0mcv\u001b[0m \u001b[1;33m=\u001b[0m \u001b[0mCountVectorizer\u001b[0m\u001b[1;33m(\u001b[0m\u001b[1;33m)\u001b[0m\u001b[1;33m\u001b[0m\u001b[1;33m\u001b[0m\u001b[0m\n\u001b[1;32m---&gt; 44\u001b[1;33m     \u001b[0mcount_matrix\u001b[0m \u001b[1;33m=\u001b[0m \u001b[0mcv\u001b[0m\u001b[1;33m.\u001b[0m\u001b[0mfit_transform\u001b[0m\u001b[1;33m(\u001b[0m\u001b[0mdf\u001b[0m\u001b[1;33m[\u001b[0m\u001b[1;34m&quot;combined_features&quot;\u001b[0m\u001b[1;33m]\u001b[0m\u001b[1;33m)\u001b[0m\u001b[1;33m\u001b[0m\u001b[1;33m\u001b[0m\u001b[0m\n\u001b[0m\u001b[0;32m     45\u001b[0m \u001b[1;33m\u001b[0m\u001b[0m\n\u001b[0;32m     46\u001b[0m     \u001b[1;31m##Step 5: Compute the Cosine Similarity based on the count_matrix\u001b[0m\u001b[1;33m\u001b[0m\u001b[1;33m\u001b[0m\u001b[1;33m\u001b[0m\u001b[0m\n",
      "\u001b[1;32m~\\AppData\\Roaming\\Python\\Python38\\site-packages\\sklearn\\feature_extraction\\text.py\u001b[0m in \u001b[0;36mfit_transform\u001b[1;34m(self, raw_documents, y)\u001b[0m\n\u001b[0;32m   1196\u001b[0m         \u001b[0mmax_features\u001b[0m \u001b[1;33m=\u001b[0m \u001b[0mself\u001b[0m\u001b[1;33m.\u001b[0m\u001b[0mmax_features\u001b[0m\u001b[1;33m\u001b[0m\u001b[1;33m\u001b[0m\u001b[0m\n\u001b[0;32m   1197\u001b[0m \u001b[1;33m\u001b[0m\u001b[0m\n\u001b[1;32m-&gt; 1198\u001b[1;33m         vocabulary, X = self._count_vocab(raw_documents,\n\u001b[0m\u001b[0;32m   1199\u001b[0m                                           self.fixed_vocabulary_)\n\u001b[0;32m   1200\u001b[0m \u001b[1;33m\u001b[0m\u001b[0m\n",
      "\u001b[1;32m~\\AppData\\Roaming\\Python\\Python38\\site-packages\\sklearn\\feature_extraction\\text.py\u001b[0m in \u001b[0;36m_count_vocab\u001b[1;34m(self, raw_documents, fixed_vocab)\u001b[0m\n\u001b[0;32m   1127\u001b[0m             \u001b[0mvocabulary\u001b[0m \u001b[1;33m=\u001b[0m \u001b[0mdict\u001b[0m\u001b[1;33m(\u001b[0m\u001b[0mvocabulary\u001b[0m\u001b[1;33m)\u001b[0m\u001b[1;33m\u001b[0m\u001b[1;33m\u001b[0m\u001b[0m\n\u001b[0;32m   1128\u001b[0m             \u001b[1;32mif\u001b[0m \u001b[1;32mnot\u001b[0m \u001b[0mvocabulary\u001b[0m\u001b[1;33m:\u001b[0m\u001b[1;33m\u001b[0m\u001b[1;33m\u001b[0m\u001b[0m\n\u001b[1;32m-&gt; 1129\u001b[1;33m                 raise ValueError(&quot;empty vocabulary; perhaps the documents only&quot;\n\u001b[0m\u001b[0;32m   1130\u001b[0m                                  &quot; contain stop words&quot;)\n\u001b[0;32m   1131\u001b[0m \u001b[1;33m\u001b[0m\u001b[0m\n",
      "\u001b[1;31mValueError\u001b[0m: empty vocabulary; perhaps the documents only contain stop words"
     ]
    }
   ],
   "source": [
    "import random \n",
    "def combine_features(row):\n",
    "\ttry:\n",
    "\t\treturn row['vid_title'] +\" \"+row['category']+\" \"+row[\"description\"]+\" \"+row[\"tags\"]\n",
    "\texcept:\n",
    "\t\tprint(\"Error:\", row\t)\n",
    "\n",
    "\n",
    "def recommender_videos(mood, activity_pref, time, user_id):\n",
    "\n",
    "    activity_pref = activity_pref\n",
    "    target_activity =  random.choice(activity_pref)\n",
    "    mood = mood\n",
    "    time = time\n",
    "    liked_videos = ['GwRzjFQa_Og', 'OsbV1_tA1oU', 'arj7oStGLkU']\n",
    "    vid_to_use = random.choice(liked_videos)                                                  #liked_videos #List of videos previous liked. \n",
    "\n",
    "    df = pd.read_csv(\"df_content_v5.csv\") #Loading content of all data\n",
    "    df_users = pd.read_json(\"data_users.json\")\n",
    "\n",
    "    df_users[df_users.User_id == user_id]\n",
    "\n",
    "\n",
    "    filtered_df = df[(df.category.isin(activity_pref)) & (df.sentiment_target == mood)]\n",
    "    filtered_df = filtered_df[filtered_df.category == target_activity]\n",
    "    \n",
    "\n",
    "    for elem in liked_videos: \n",
    "        df = filtered_df[filtered_df['vid_id']!= elem]   #Removing the already liked videos of the                     dataframe.\n",
    "\n",
    "    #return df\n",
    "\n",
    "    ##Step 2: Select Features that are could be important\n",
    "    features = ['vid_title','category','description','tags']\n",
    "\n",
    "    #Step 3: Create a column in DF which combines all selected features\n",
    "    for feature in features:\n",
    "        df[feature] = df[feature].fillna('')\n",
    "    \n",
    "    df[\"combined_features\"] = df.apply(combine_features,axis=1)\n",
    "\n",
    "    ##Step 4: Create count matrix from this new combined column\n",
    "    cv = CountVectorizer()\n",
    "    count_matrix = cv.fit_transform(df[\"combined_features\"])\n",
    "\n",
    "    ##Step 5: Compute the Cosine Similarity based on the count_matrix\n",
    "    cosine_sim = cosine_similarity(count_matrix) \n",
    "    video_user_likes = \"iFuY20IERq8\"\n",
    "    \n",
    "    ## Step 6: Get a list of similar movies in descending order of similarity score\n",
    "    sorted_similar_videos = sorted(similar_movies,key=lambda x:x[1],reverse=True)\n",
    "\n",
    "x = recommender_videos(mood=1, activity_pref=[\"Workout\", \"meditation\", \"Educational\"], time=\"morning\", user_id=1)\n",
    "\n",
    "    i=0\n",
    "recommendations = []\n",
    "print(\"Suggesting top 5 videos in order of likes:\\n\")\n",
    "for element in sort_by_likes:\n",
    "    print(get_title_from_index(element[0]))\n",
    "    recommendations.append(get_title_from_index(element[0]))\n",
    "    i=i+1\n",
    "    if i>5:\n",
    "        break"
   ]
  },
  {
   "cell_type": "code",
   "execution_count": 177,
   "metadata": {},
   "outputs": [],
   "source": []
  },
  {
   "cell_type": "code",
   "execution_count": 145,
   "metadata": {
    "tags": []
   },
   "outputs": [
    {
     "output_type": "stream",
     "name": "stdout",
     "text": "GwRzjFQa_Og\nOsbV1_tA1oU\narj7oStGLkU\n"
    }
   ],
   "source": [
    "##Step 2: Select Features that are could be important\n",
    "\n",
    "features = ['vid_title','category','description','tags']\n",
    "\n",
    "##Step 3: Create a column in DF which combines all selected features\n",
    "for feature in features:\n",
    "\tdf[feature] = df[feature].fillna('')\n",
    "\n",
    "def combine_features(row):\n",
    "\ttry:\n",
    "\t\treturn row['vid_title'] +\" \"+row['category']+\" \"+row[\"description\"]+\" \"+row[\"tags\"]\n",
    "\texcept:\n",
    "\t\tprint(\"Error:\", row\t)\n",
    "\n",
    "df[\"combined_features\"] = df.apply(combine_features,axis=1)\n",
    "\n",
    "print(\"Combined Features:\", df[\"combined_features\"].head())\n",
    "\n",
    "##Step 4: Create count matrix from this new combined column\n",
    "cv = CountVectorizer()\n",
    "\n",
    "count_matrix = cv.fit_transform(df[\"combined_features\"])\n",
    "\n",
    "\n",
    "##Step 5: Compute the Cosine Similarity based on the count_matrix\n",
    "cosine_sim = cosine_similarity(count_matrix) \n",
    "video_user_likes = \"iFuY20IERq8\"\n",
    "\n",
    "## Step 6: Get index of this movie from its title\n",
    "video = get_index_from_videoID(video_user_likes)\n",
    "similar_videos =  list(enumerate(cosine_sim[video]))\n",
    "\n",
    "## Step 7: Get a list of similar movies in descending order of similarity score\n",
    "sorted_similar_videos = sorted(similar_movies,key=lambda x:x[1],reverse=True)\n",
    "#sort_by_likes = sorted(sorted_similar_videos,key=lambda x:df[\"views\"][x[0]],reverse=True)\n",
    "\n",
    "## Step 8: Print titles of first 50 movies\n",
    "recommendations = []\n",
    "i=0\n",
    "for element in sorted_similar_videos:\n",
    "\trecommendations.append(get_title_from_index(element[0]))\n",
    "\ti += 1\n",
    "\tif i>10:\n",
    "\t\tbreak\n",
    "\n",
    "#Filter dataframe for the movie recommendations\n",
    "df = df[df['vid_id'].isin(recommendations)]\n",
    "\n",
    "#Save the url of the best recommendation in dictionary to send in Json format. \n",
    "for elem in df.url.head(1):\n",
    "    print(elem)\n",
    "    j_son_to_send = {\"url\" : elem}\n",
    "    print(j_son_to_send)"
   ]
  },
  {
   "cell_type": "code",
   "execution_count": null,
   "metadata": {},
   "outputs": [],
   "source": []
  },
  {
   "cell_type": "code",
   "execution_count": null,
   "metadata": {},
   "outputs": [],
   "source": []
  },
  {
   "cell_type": "code",
   "execution_count": 58,
   "metadata": {},
   "outputs": [
    {
     "output_type": "execute_result",
     "data": {
      "text/plain": "                                             vid_title       vid_id  \\\n0    5 Minute Abs Desk Workout | Exercises For a Fl...  5zjZIHsHuDI   \n1    Real Time Desk Exercises &amp;amp; Stretches - Ask...  CAq9vV7gkrs   \n2    Standing Desk Workout - 5 Exercises to do at Work  9N6ZQz-CV44   \n3    Lose hanging lower belly fat sitting - Beginne...  0x_MsUr3tag   \n4    12 Core Strengthening Exercises You Can Do In ...  dM0rrWFbMpg   \n..                                                 ...          ...   \n376  How Real Is Fake News? | Sharyl Attkisson | TE...  UQcCIzjz9_s   \n377  The brain-changing benefits of exercise | Wend...  BHY0FxzoKZE   \n378  How to sound smart in your TEDx Talk | Will St...  8S0FDjFBj8o   \n379  The skill of self confidence | Dr. Ivan Joseph...  w-HYZv6HzAs   \n380   How to make stress your friend | Kelly McGonigal  RcGyVTAoXEU   \n\n        category  duration     views   likes  \\\n0        Workout      6.42     36974    1261   \n1        Workout     11.12     14449     230   \n2        Workout      5.23     22612     313   \n3        Workout     14.32    906033   19711   \n4        Workout      5.97    161880    1828   \n..           ...       ...       ...     ...   \n376  Educational      9.70    409370   11331   \n377  Educational     13.05   5625588  194472   \n378  Educational      5.93  10254849  290828   \n379  Educational     13.35  20315513  347323   \n380  Educational     14.48  10638048  156810   \n\n                                             url  \\\n0    https://www.youtube.com/watch?v=5zjZIHsHuDI   \n1    https://www.youtube.com/watch?v=CAq9vV7gkrs   \n2    https://www.youtube.com/watch?v=9N6ZQz-CV44   \n3    https://www.youtube.com/watch?v=0x_MsUr3tag   \n4    https://www.youtube.com/watch?v=dM0rrWFbMpg   \n..                                           ...   \n376  https://www.youtube.com/watch?v=UQcCIzjz9_s   \n377  https://www.youtube.com/watch?v=BHY0FxzoKZE   \n378  https://www.youtube.com/watch?v=8S0FDjFBj8o   \n379  https://www.youtube.com/watch?v=w-HYZv6HzAs   \n380  https://www.youtube.com/watch?v=RcGyVTAoXEU   \n\n                                           description  \\\n0    This 5 minute seated abs workout is perfect to...   \n1    These desk exercises and stretches are easy to...   \n2    5 Exercises to do at a Stand-Up Desk, benefits...   \n3    Members share their journeys https://www.insta...   \n4    Try ANY of these 12 exercises while you&#39;re sti...   \n..                                                 ...   \n376  Was the effort to focus America&#39;s attention on...   \n377  What&#39;s the most transformative thing that you ...   \n378  This talk was given at a local TEDx event, pro...   \n379  Never miss a talk! SUBSCRIBE to the TEDx chann...   \n380  Visit http://TED.com to get our entire library...   \n\n                                                  tags  Likes_Views_ratio  \\\n0    [&#39;abs&#39;, &#39;abs workout&#39;, &#39;desk workout&#39;, &#39;desk w...           3.410505   \n1    [&#39;desk exercises&#39;, &#39;desk exercise&#39;, &#39;exercise ...           1.591806   \n2    [&#39;stand up desk converter&#39;, &#39;best stand up des...           1.384221   \n3    [&#39;hanamilly&#39;, &#39;cardio hiit workout&#39;, &#39;home wor...           2.175528   \n4    [&#39;core exercises&#39;, &#39;core strengthening&#39;, &#39;core...           1.129232   \n..                                                 ...                ...   \n376  [&#39;TEDxTalks&#39;, &#39;English&#39;, &#39;Global Issues&#39;, &#39;Jou...           2.767912   \n377  [&#39;TEDTalk&#39;, &#39;TEDTalks&#39;, &#39;biology&#39;, &#39;brain&#39;, &#39;h...           3.456919   \n378  [&#39;ted x&#39;, &#39;How-to (Website Category)&#39;, &#39;Intell...           2.836005   \n379  [&#39;sports&#39;, &#39;Ryerson&#39;, &#39;recruitment&#39;, &#39;athletic...           1.709644   \n380  [&#39;TEDTalk&#39;, &#39;TEDTalks&#39;, &#39;TED Talk&#39;, &#39;TED Talks...           1.474049   \n\n    sentiment_target  \n0                  1  \n1                  1  \n2                  1  \n3                  1  \n4                  1  \n..               ...  \n376                1  \n377                1  \n378                1  \n379                1  \n380                1  \n\n[188 rows x 11 columns]",
      "text/html": "<div>\n<style scoped>\n    .dataframe tbody tr th:only-of-type {\n        vertical-align: middle;\n    }\n\n    .dataframe tbody tr th {\n        vertical-align: top;\n    }\n\n    .dataframe thead th {\n        text-align: right;\n    }\n</style>\n<table border=\"1\" class=\"dataframe\">\n  <thead>\n    <tr style=\"text-align: right;\">\n      <th></th>\n      <th>vid_title</th>\n      <th>vid_id</th>\n      <th>category</th>\n      <th>duration</th>\n      <th>views</th>\n      <th>likes</th>\n      <th>url</th>\n      <th>description</th>\n      <th>tags</th>\n      <th>Likes_Views_ratio</th>\n      <th>sentiment_target</th>\n    </tr>\n  </thead>\n  <tbody>\n    <tr>\n      <th>0</th>\n      <td>5 Minute Abs Desk Workout | Exercises For a Fl...</td>\n      <td>5zjZIHsHuDI</td>\n      <td>Workout</td>\n      <td>6.42</td>\n      <td>36974</td>\n      <td>1261</td>\n      <td>https://www.youtube.com/watch?v=5zjZIHsHuDI</td>\n      <td>This 5 minute seated abs workout is perfect to...</td>\n      <td>['abs', 'abs workout', 'desk workout', 'desk w...</td>\n      <td>3.410505</td>\n      <td>1</td>\n    </tr>\n    <tr>\n      <th>1</th>\n      <td>Real Time Desk Exercises &amp;amp; Stretches - Ask...</td>\n      <td>CAq9vV7gkrs</td>\n      <td>Workout</td>\n      <td>11.12</td>\n      <td>14449</td>\n      <td>230</td>\n      <td>https://www.youtube.com/watch?v=CAq9vV7gkrs</td>\n      <td>These desk exercises and stretches are easy to...</td>\n      <td>['desk exercises', 'desk exercise', 'exercise ...</td>\n      <td>1.591806</td>\n      <td>1</td>\n    </tr>\n    <tr>\n      <th>2</th>\n      <td>Standing Desk Workout - 5 Exercises to do at Work</td>\n      <td>9N6ZQz-CV44</td>\n      <td>Workout</td>\n      <td>5.23</td>\n      <td>22612</td>\n      <td>313</td>\n      <td>https://www.youtube.com/watch?v=9N6ZQz-CV44</td>\n      <td>5 Exercises to do at a Stand-Up Desk, benefits...</td>\n      <td>['stand up desk converter', 'best stand up des...</td>\n      <td>1.384221</td>\n      <td>1</td>\n    </tr>\n    <tr>\n      <th>3</th>\n      <td>Lose hanging lower belly fat sitting - Beginne...</td>\n      <td>0x_MsUr3tag</td>\n      <td>Workout</td>\n      <td>14.32</td>\n      <td>906033</td>\n      <td>19711</td>\n      <td>https://www.youtube.com/watch?v=0x_MsUr3tag</td>\n      <td>Members share their journeys https://www.insta...</td>\n      <td>['hanamilly', 'cardio hiit workout', 'home wor...</td>\n      <td>2.175528</td>\n      <td>1</td>\n    </tr>\n    <tr>\n      <th>4</th>\n      <td>12 Core Strengthening Exercises You Can Do In ...</td>\n      <td>dM0rrWFbMpg</td>\n      <td>Workout</td>\n      <td>5.97</td>\n      <td>161880</td>\n      <td>1828</td>\n      <td>https://www.youtube.com/watch?v=dM0rrWFbMpg</td>\n      <td>Try ANY of these 12 exercises while you're sti...</td>\n      <td>['core exercises', 'core strengthening', 'core...</td>\n      <td>1.129232</td>\n      <td>1</td>\n    </tr>\n    <tr>\n      <th>...</th>\n      <td>...</td>\n      <td>...</td>\n      <td>...</td>\n      <td>...</td>\n      <td>...</td>\n      <td>...</td>\n      <td>...</td>\n      <td>...</td>\n      <td>...</td>\n      <td>...</td>\n      <td>...</td>\n    </tr>\n    <tr>\n      <th>376</th>\n      <td>How Real Is Fake News? | Sharyl Attkisson | TE...</td>\n      <td>UQcCIzjz9_s</td>\n      <td>Educational</td>\n      <td>9.70</td>\n      <td>409370</td>\n      <td>11331</td>\n      <td>https://www.youtube.com/watch?v=UQcCIzjz9_s</td>\n      <td>Was the effort to focus America's attention on...</td>\n      <td>['TEDxTalks', 'English', 'Global Issues', 'Jou...</td>\n      <td>2.767912</td>\n      <td>1</td>\n    </tr>\n    <tr>\n      <th>377</th>\n      <td>The brain-changing benefits of exercise | Wend...</td>\n      <td>BHY0FxzoKZE</td>\n      <td>Educational</td>\n      <td>13.05</td>\n      <td>5625588</td>\n      <td>194472</td>\n      <td>https://www.youtube.com/watch?v=BHY0FxzoKZE</td>\n      <td>What's the most transformative thing that you ...</td>\n      <td>['TEDTalk', 'TEDTalks', 'biology', 'brain', 'h...</td>\n      <td>3.456919</td>\n      <td>1</td>\n    </tr>\n    <tr>\n      <th>378</th>\n      <td>How to sound smart in your TEDx Talk | Will St...</td>\n      <td>8S0FDjFBj8o</td>\n      <td>Educational</td>\n      <td>5.93</td>\n      <td>10254849</td>\n      <td>290828</td>\n      <td>https://www.youtube.com/watch?v=8S0FDjFBj8o</td>\n      <td>This talk was given at a local TEDx event, pro...</td>\n      <td>['ted x', 'How-to (Website Category)', 'Intell...</td>\n      <td>2.836005</td>\n      <td>1</td>\n    </tr>\n    <tr>\n      <th>379</th>\n      <td>The skill of self confidence | Dr. Ivan Joseph...</td>\n      <td>w-HYZv6HzAs</td>\n      <td>Educational</td>\n      <td>13.35</td>\n      <td>20315513</td>\n      <td>347323</td>\n      <td>https://www.youtube.com/watch?v=w-HYZv6HzAs</td>\n      <td>Never miss a talk! SUBSCRIBE to the TEDx chann...</td>\n      <td>['sports', 'Ryerson', 'recruitment', 'athletic...</td>\n      <td>1.709644</td>\n      <td>1</td>\n    </tr>\n    <tr>\n      <th>380</th>\n      <td>How to make stress your friend | Kelly McGonigal</td>\n      <td>RcGyVTAoXEU</td>\n      <td>Educational</td>\n      <td>14.48</td>\n      <td>10638048</td>\n      <td>156810</td>\n      <td>https://www.youtube.com/watch?v=RcGyVTAoXEU</td>\n      <td>Visit http://TED.com to get our entire library...</td>\n      <td>['TEDTalk', 'TEDTalks', 'TED Talk', 'TED Talks...</td>\n      <td>1.474049</td>\n      <td>1</td>\n    </tr>\n  </tbody>\n</table>\n<p>188 rows × 11 columns</p>\n</div>"
     },
     "metadata": {},
     "execution_count": 58
    }
   ],
   "source": [
    "def recommender_videos()\n",
    "\n",
    "\n",
    "\n",
    "\n",
    "\n",
    "df[(df.category.isin(activity_pref)) & (df.sentiment_target == mood)]"
   ]
  },
  {
   "cell_type": "code",
   "execution_count": 56,
   "metadata": {},
   "outputs": [
    {
     "output_type": "execute_result",
     "data": {
      "text/plain": "                                             vid_title       vid_id  \\\n0    5 Minute Abs Desk Workout | Exercises For a Fl...  5zjZIHsHuDI   \n1    Real Time Desk Exercises &amp;amp; Stretches - Ask...  CAq9vV7gkrs   \n2    Standing Desk Workout - 5 Exercises to do at Work  9N6ZQz-CV44   \n3    Lose hanging lower belly fat sitting - Beginne...  0x_MsUr3tag   \n4    12 Core Strengthening Exercises You Can Do In ...  dM0rrWFbMpg   \n..                                                 ...          ...   \n490  Short Animation Movie - Monkaa Blender Cartoon...  fC4KqedgvJQ   \n491  THE BOX - A multi-award winning animated short...  KwCtWfwYlkw   \n492  **Award Winning** Animated Short Film: &amp;quot;L...  QieZx_Elbb4   \n493  &amp;quot;Model Citizen&amp;quot; | Dystopian Animated...  mVLrBJYGxk4   \n494                     Partly Cloudy Pixar Short Film  9yOxx_4oOMs   \n\n        category  duration    views   likes  \\\n0        Workout      6.42    36974    1261   \n1        Workout     11.12    14449     230   \n2        Workout      5.23    22612     313   \n3        Workout     14.32   906033   19711   \n4        Workout      5.97   161880    1828   \n..           ...       ...      ...     ...   \n490  Short Movie      6.05   115922     921   \n491  Short Movie      6.82  1529985   72745   \n492  Short Movie     10.33  1401928   18089   \n493  Short Movie      5.07  6971026  355522   \n494  Short Movie      5.83   898954    3727   \n\n                                             url  \\\n0    https://www.youtube.com/watch?v=5zjZIHsHuDI   \n1    https://www.youtube.com/watch?v=CAq9vV7gkrs   \n2    https://www.youtube.com/watch?v=9N6ZQz-CV44   \n3    https://www.youtube.com/watch?v=0x_MsUr3tag   \n4    https://www.youtube.com/watch?v=dM0rrWFbMpg   \n..                                           ...   \n490  https://www.youtube.com/watch?v=fC4KqedgvJQ   \n491  https://www.youtube.com/watch?v=KwCtWfwYlkw   \n492  https://www.youtube.com/watch?v=QieZx_Elbb4   \n493  https://www.youtube.com/watch?v=mVLrBJYGxk4   \n494  https://www.youtube.com/watch?v=9yOxx_4oOMs   \n\n                                           description  \\\n0    This 5 minute seated abs workout is perfect to...   \n1    These desk exercises and stretches are easy to...   \n2    5 Exercises to do at a Stand-Up Desk, benefits...   \n3    Members share their journeys https://www.insta...   \n4    Try ANY of these 12 exercises while you&#39;re sti...   \n..                                                 ...   \n490  Monkaa is a short animation movie; cartoon fil...   \n491  https://www.instagram.com/mervecirisoglucotur ...   \n492  **Award Winning** Animated Stop Motion Short F...   \n493  Created by David James Armsby.\\nhttps://www.fa...   \n494                                                      \n\n                                                  tags  Likes_Views_ratio  \\\n0    [&#39;abs&#39;, &#39;abs workout&#39;, &#39;desk workout&#39;, &#39;desk w...           3.410505   \n1    [&#39;desk exercises&#39;, &#39;desk exercise&#39;, &#39;exercise ...           1.591806   \n2    [&#39;stand up desk converter&#39;, &#39;best stand up des...           1.384221   \n3    [&#39;hanamilly&#39;, &#39;cardio hiit workout&#39;, &#39;home wor...           2.175528   \n4    [&#39;core exercises&#39;, &#39;core strengthening&#39;, &#39;core...           1.129232   \n..                                                 ...                ...   \n490  [&#39;Animation Movie&#39;, &#39;Cartoon (TV Genre)&#39;, &#39;Ble...           0.794500   \n491  [&#39;animation&#39;, &#39;the box&#39;, &#39;award-winning&#39;, &#39;fes...           4.754622   \n492  [&#39;CGMeetup&#39;, &#39;CG Meetup&#39;, &#39;cgi&#39;, &#39;short film&#39;,...           1.290295   \n493  [&#39;animated short&#39;, &#39;animated short film&#39;, &#39;pix...           5.099995   \n494     [&#39;Partly&#39;, &#39;Cloudy&#39;, &#39;Pixar&#39;, &#39;Short&#39;, &#39;Film&#39;]           0.414593   \n\n    sentiment_target  \n0                  1  \n1                  1  \n2                  1  \n3                  1  \n4                  1  \n..               ...  \n490                1  \n491                1  \n492                1  \n493                1  \n494                1  \n\n[448 rows x 11 columns]",
      "text/html": "<div>\n<style scoped>\n    .dataframe tbody tr th:only-of-type {\n        vertical-align: middle;\n    }\n\n    .dataframe tbody tr th {\n        vertical-align: top;\n    }\n\n    .dataframe thead th {\n        text-align: right;\n    }\n</style>\n<table border=\"1\" class=\"dataframe\">\n  <thead>\n    <tr style=\"text-align: right;\">\n      <th></th>\n      <th>vid_title</th>\n      <th>vid_id</th>\n      <th>category</th>\n      <th>duration</th>\n      <th>views</th>\n      <th>likes</th>\n      <th>url</th>\n      <th>description</th>\n      <th>tags</th>\n      <th>Likes_Views_ratio</th>\n      <th>sentiment_target</th>\n    </tr>\n  </thead>\n  <tbody>\n    <tr>\n      <th>0</th>\n      <td>5 Minute Abs Desk Workout | Exercises For a Fl...</td>\n      <td>5zjZIHsHuDI</td>\n      <td>Workout</td>\n      <td>6.42</td>\n      <td>36974</td>\n      <td>1261</td>\n      <td>https://www.youtube.com/watch?v=5zjZIHsHuDI</td>\n      <td>This 5 minute seated abs workout is perfect to...</td>\n      <td>['abs', 'abs workout', 'desk workout', 'desk w...</td>\n      <td>3.410505</td>\n      <td>1</td>\n    </tr>\n    <tr>\n      <th>1</th>\n      <td>Real Time Desk Exercises &amp;amp; Stretches - Ask...</td>\n      <td>CAq9vV7gkrs</td>\n      <td>Workout</td>\n      <td>11.12</td>\n      <td>14449</td>\n      <td>230</td>\n      <td>https://www.youtube.com/watch?v=CAq9vV7gkrs</td>\n      <td>These desk exercises and stretches are easy to...</td>\n      <td>['desk exercises', 'desk exercise', 'exercise ...</td>\n      <td>1.591806</td>\n      <td>1</td>\n    </tr>\n    <tr>\n      <th>2</th>\n      <td>Standing Desk Workout - 5 Exercises to do at Work</td>\n      <td>9N6ZQz-CV44</td>\n      <td>Workout</td>\n      <td>5.23</td>\n      <td>22612</td>\n      <td>313</td>\n      <td>https://www.youtube.com/watch?v=9N6ZQz-CV44</td>\n      <td>5 Exercises to do at a Stand-Up Desk, benefits...</td>\n      <td>['stand up desk converter', 'best stand up des...</td>\n      <td>1.384221</td>\n      <td>1</td>\n    </tr>\n    <tr>\n      <th>3</th>\n      <td>Lose hanging lower belly fat sitting - Beginne...</td>\n      <td>0x_MsUr3tag</td>\n      <td>Workout</td>\n      <td>14.32</td>\n      <td>906033</td>\n      <td>19711</td>\n      <td>https://www.youtube.com/watch?v=0x_MsUr3tag</td>\n      <td>Members share their journeys https://www.insta...</td>\n      <td>['hanamilly', 'cardio hiit workout', 'home wor...</td>\n      <td>2.175528</td>\n      <td>1</td>\n    </tr>\n    <tr>\n      <th>4</th>\n      <td>12 Core Strengthening Exercises You Can Do In ...</td>\n      <td>dM0rrWFbMpg</td>\n      <td>Workout</td>\n      <td>5.97</td>\n      <td>161880</td>\n      <td>1828</td>\n      <td>https://www.youtube.com/watch?v=dM0rrWFbMpg</td>\n      <td>Try ANY of these 12 exercises while you're sti...</td>\n      <td>['core exercises', 'core strengthening', 'core...</td>\n      <td>1.129232</td>\n      <td>1</td>\n    </tr>\n    <tr>\n      <th>...</th>\n      <td>...</td>\n      <td>...</td>\n      <td>...</td>\n      <td>...</td>\n      <td>...</td>\n      <td>...</td>\n      <td>...</td>\n      <td>...</td>\n      <td>...</td>\n      <td>...</td>\n      <td>...</td>\n    </tr>\n    <tr>\n      <th>490</th>\n      <td>Short Animation Movie - Monkaa Blender Cartoon...</td>\n      <td>fC4KqedgvJQ</td>\n      <td>Short Movie</td>\n      <td>6.05</td>\n      <td>115922</td>\n      <td>921</td>\n      <td>https://www.youtube.com/watch?v=fC4KqedgvJQ</td>\n      <td>Monkaa is a short animation movie; cartoon fil...</td>\n      <td>['Animation Movie', 'Cartoon (TV Genre)', 'Ble...</td>\n      <td>0.794500</td>\n      <td>1</td>\n    </tr>\n    <tr>\n      <th>491</th>\n      <td>THE BOX - A multi-award winning animated short...</td>\n      <td>KwCtWfwYlkw</td>\n      <td>Short Movie</td>\n      <td>6.82</td>\n      <td>1529985</td>\n      <td>72745</td>\n      <td>https://www.youtube.com/watch?v=KwCtWfwYlkw</td>\n      <td>https://www.instagram.com/mervecirisoglucotur ...</td>\n      <td>['animation', 'the box', 'award-winning', 'fes...</td>\n      <td>4.754622</td>\n      <td>1</td>\n    </tr>\n    <tr>\n      <th>492</th>\n      <td>**Award Winning** Animated Short Film: &amp;quot;L...</td>\n      <td>QieZx_Elbb4</td>\n      <td>Short Movie</td>\n      <td>10.33</td>\n      <td>1401928</td>\n      <td>18089</td>\n      <td>https://www.youtube.com/watch?v=QieZx_Elbb4</td>\n      <td>**Award Winning** Animated Stop Motion Short F...</td>\n      <td>['CGMeetup', 'CG Meetup', 'cgi', 'short film',...</td>\n      <td>1.290295</td>\n      <td>1</td>\n    </tr>\n    <tr>\n      <th>493</th>\n      <td>&amp;quot;Model Citizen&amp;quot; | Dystopian Animated...</td>\n      <td>mVLrBJYGxk4</td>\n      <td>Short Movie</td>\n      <td>5.07</td>\n      <td>6971026</td>\n      <td>355522</td>\n      <td>https://www.youtube.com/watch?v=mVLrBJYGxk4</td>\n      <td>Created by David James Armsby.\\nhttps://www.fa...</td>\n      <td>['animated short', 'animated short film', 'pix...</td>\n      <td>5.099995</td>\n      <td>1</td>\n    </tr>\n    <tr>\n      <th>494</th>\n      <td>Partly Cloudy Pixar Short Film</td>\n      <td>9yOxx_4oOMs</td>\n      <td>Short Movie</td>\n      <td>5.83</td>\n      <td>898954</td>\n      <td>3727</td>\n      <td>https://www.youtube.com/watch?v=9yOxx_4oOMs</td>\n      <td></td>\n      <td>['Partly', 'Cloudy', 'Pixar', 'Short', 'Film']</td>\n      <td>0.414593</td>\n      <td>1</td>\n    </tr>\n  </tbody>\n</table>\n<p>448 rows × 11 columns</p>\n</div>"
     },
     "metadata": {},
     "execution_count": 56
    }
   ],
   "source": [
    "df[df.sentiment_target == 1]"
   ]
  },
  {
   "cell_type": "code",
   "execution_count": null,
   "metadata": {},
   "outputs": [],
   "source": []
  }
 ]
}