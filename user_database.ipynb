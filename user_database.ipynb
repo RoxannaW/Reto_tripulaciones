{
 "metadata": {
  "language_info": {
   "codemirror_mode": {
    "name": "ipython",
    "version": 3
   },
   "file_extension": ".py",
   "mimetype": "text/x-python",
   "name": "python",
   "nbconvert_exporter": "python",
   "pygments_lexer": "ipython3",
   "version": "3.8.3-final"
  },
  "orig_nbformat": 2,
  "kernelspec": {
   "name": "Python 3.8.3 64-bit",
   "display_name": "Python 3.8.3 64-bit",
   "metadata": {
    "interpreter": {
     "hash": "1baa965d5efe3ac65b79dfc60c0d706280b1da80fedb7760faf2759126c4f253"
    }
   }
  }
 },
 "nbformat": 4,
 "nbformat_minor": 2,
 "cells": [
  {
   "cell_type": "code",
   "execution_count": 3,
   "metadata": {},
   "outputs": [],
   "source": [
    "import pandas as pd\n",
    "import numpy as np"
   ]
  },
  {
   "cell_type": "code",
   "execution_count": 14,
   "metadata": {},
   "outputs": [],
   "source": [
    "# Creating empty database\n",
    "df_users = pd.DataFrame({'User_id': pd.Series([], dtype='int'),\n",
    "                    'User_name': pd.Series([], dtype='str'),\n",
    "                   'User_age': pd.Series([], dtype='int'),\n",
    "                   'Work_hours': pd.Series([], dtype='float'),\n",
    "                   'Activity_pref': pd.Series([], dtype='str'),\n",
    "                   'Work_split': pd.Series([], dtype='str'),\n",
    "                   'Liked_videos': pd.Series([], dtype='str'),\n",
    "                   'Mood': pd.Series([], dtype='str'),\n",
    "                   'Distr_daily': pd.Series([], dtype='int'),\n",
    "                   'Distr_total': pd.Series([], dtype='int')})\n"
   ]
  },
  {
   "cell_type": "code",
   "execution_count": 15,
   "metadata": {},
   "outputs": [
    {
     "output_type": "execute_result",
     "data": {
      "text/plain": "Empty DataFrame\nColumns: [User_id, User_name, User_age, Work_hours, Activity_pref, Work_split, Liked_videos, Mood, Distr_daily, Distr_total]\nIndex: []",
      "text/html": "<div>\n<style scoped>\n    .dataframe tbody tr th:only-of-type {\n        vertical-align: middle;\n    }\n\n    .dataframe tbody tr th {\n        vertical-align: top;\n    }\n\n    .dataframe thead th {\n        text-align: right;\n    }\n</style>\n<table border=\"1\" class=\"dataframe\">\n  <thead>\n    <tr style=\"text-align: right;\">\n      <th></th>\n      <th>User_id</th>\n      <th>User_name</th>\n      <th>User_age</th>\n      <th>Work_hours</th>\n      <th>Activity_pref</th>\n      <th>Work_split</th>\n      <th>Liked_videos</th>\n      <th>Mood</th>\n      <th>Distr_daily</th>\n      <th>Distr_total</th>\n    </tr>\n  </thead>\n  <tbody>\n  </tbody>\n</table>\n</div>"
     },
     "metadata": {},
     "execution_count": 15
    }
   ],
   "source": [
    "df_users"
   ]
  },
  {
   "cell_type": "code",
   "execution_count": 19,
   "metadata": {},
   "outputs": [],
   "source": [
    "# add new user and info\n",
    "\n",
    "df_users = df_users.append({'User_id': 1, 'User_name': 'Tom', 'User_age': 30, 'Work_hours': 8, 'Activity_pref': [\"Yoga\", \"Sports\", \"Ted Talks\"], 'Work_split': 'Pomodoro', 'Liked_videos': ['iFuY20IERq8', \"arj7oStGLkU\",'GwRzjFQa_Og'], 'Mood': 'Tired', 'Distr_daily':50, 'Distr_total':150 }, ignore_index=True)\n",
    "df_users = df_users.append({'User_id': 2, 'User_name': 'Mary', 'User_age': 28, 'Work_hours': 8, 'Activity_pref': [\"Yoga\", \"Siesta\", \"Walking\"], 'Work_split': 'Pomodoro', 'Liked_videos': 'iFuY20IERq8', 'Mood': 'Stressed', 'Distr_daily':100, 'Distr_total':600 }, ignore_index=True)\n",
    "df_users = df_users.append({'User_id': 3, 'User_name': 'Hendrik', 'User_age': 41, 'Work_hours': 8, 'Activity_pref': [\"Stretch\", \"Movies\", \"Workout\"], 'Work_split': 'Pomodoro', 'Liked_videos': 'iFuY20IERq8', 'Mood': 'Happy', 'Distr_daily':5, 'Distr_total':20 }, ignore_index=True)\n"
   ]
  },
  {
   "cell_type": "code",
   "execution_count": 17,
   "metadata": {},
   "outputs": [
    {
     "output_type": "execute_result",
     "data": {
      "text/plain": "   User_id User_name  User_age  Work_hours               Activity_pref  \\\n0        1       Tom        30         8.0   [Yoga, Sports, Ted Talks]   \n1        2      Mary        28         8.0     [Yoga, Siesta, Walking]   \n2        3   Hendrik        41         8.0  [Stretch, Movies, Workout]   \n\n  Work_split                Liked_videos      Mood  Distr_daily  Distr_total  \n0   Pomodoro  [iFuY20IERq8, arj7oStGLkU]     Tired           50          150  \n1   Pomodoro                 iFuY20IERq8  Stressed          100          600  \n2   Pomodoro                 iFuY20IERq8     Happy            5           20  ",
      "text/html": "<div>\n<style scoped>\n    .dataframe tbody tr th:only-of-type {\n        vertical-align: middle;\n    }\n\n    .dataframe tbody tr th {\n        vertical-align: top;\n    }\n\n    .dataframe thead th {\n        text-align: right;\n    }\n</style>\n<table border=\"1\" class=\"dataframe\">\n  <thead>\n    <tr style=\"text-align: right;\">\n      <th></th>\n      <th>User_id</th>\n      <th>User_name</th>\n      <th>User_age</th>\n      <th>Work_hours</th>\n      <th>Activity_pref</th>\n      <th>Work_split</th>\n      <th>Liked_videos</th>\n      <th>Mood</th>\n      <th>Distr_daily</th>\n      <th>Distr_total</th>\n    </tr>\n  </thead>\n  <tbody>\n    <tr>\n      <th>0</th>\n      <td>1</td>\n      <td>Tom</td>\n      <td>30</td>\n      <td>8.0</td>\n      <td>[Yoga, Sports, Ted Talks]</td>\n      <td>Pomodoro</td>\n      <td>[iFuY20IERq8, arj7oStGLkU]</td>\n      <td>Tired</td>\n      <td>50</td>\n      <td>150</td>\n    </tr>\n    <tr>\n      <th>1</th>\n      <td>2</td>\n      <td>Mary</td>\n      <td>28</td>\n      <td>8.0</td>\n      <td>[Yoga, Siesta, Walking]</td>\n      <td>Pomodoro</td>\n      <td>iFuY20IERq8</td>\n      <td>Stressed</td>\n      <td>100</td>\n      <td>600</td>\n    </tr>\n    <tr>\n      <th>2</th>\n      <td>3</td>\n      <td>Hendrik</td>\n      <td>41</td>\n      <td>8.0</td>\n      <td>[Stretch, Movies, Workout]</td>\n      <td>Pomodoro</td>\n      <td>iFuY20IERq8</td>\n      <td>Happy</td>\n      <td>5</td>\n      <td>20</td>\n    </tr>\n  </tbody>\n</table>\n</div>"
     },
     "metadata": {},
     "execution_count": 17
    }
   ],
   "source": [
    "df_users"
   ]
  },
  {
   "cell_type": "code",
   "execution_count": 12,
   "metadata": {},
   "outputs": [],
   "source": [
    "#Function to add new users?"
   ]
  },
  {
   "cell_type": "code",
   "execution_count": 8,
   "metadata": {},
   "outputs": [],
   "source": [
    "def add_user(name, age, workhours, activity_pref, work_split, mood):\n",
    "    global df_users\n",
    "    id = df_users.User_id.max() + 1\n",
    "    df_users = df_users.append({'User_id': id, 'User_name': name, 'User_age': int(age), 'Work_hours': int(workhours), 'Activity_pref': activity_pref, 'Work_split': work_split, 'Liked_videos':None, 'Mood':None , 'Distr_daily': 0, 'Distr_total':0 }, ignore_index=True)"
   ]
  },
  {
   "cell_type": "code",
   "execution_count": 9,
   "metadata": {},
   "outputs": [],
   "source": [
    "add_user(\"Maria\", 23, 8, [\"Workout\", \"Whatsapp\"], \"Pomodoro\", \"happy\")"
   ]
  },
  {
   "cell_type": "code",
   "execution_count": 10,
   "metadata": {},
   "outputs": [
    {
     "output_type": "execute_result",
     "data": {
      "text/plain": "   User_id User_name  User_age  Work_hours               Activity_pref  \\\n0        1       Tom        30         8.0   [Yoga, Sports, Ted Talks]   \n1        2      Mary        28         8.0     [Yoga, Siesta, Walking]   \n2        3   Hendrik        41         8.0  [Stretch, Movies, Workout]   \n3        4     Maria        23         8.0         [Workout, Whatsapp]   \n\n  Work_split Liked_videos      Mood  Distr_daily  Distr_total  \n0   Pomodoro  iFuY20IERq8     Tired           50          150  \n1   Pomodoro  iFuY20IERq8  Stressed          100          600  \n2   Pomodoro  iFuY20IERq8     Happy            5           20  \n3   Pomodoro         None      None            0            0  ",
      "text/html": "<div>\n<style scoped>\n    .dataframe tbody tr th:only-of-type {\n        vertical-align: middle;\n    }\n\n    .dataframe tbody tr th {\n        vertical-align: top;\n    }\n\n    .dataframe thead th {\n        text-align: right;\n    }\n</style>\n<table border=\"1\" class=\"dataframe\">\n  <thead>\n    <tr style=\"text-align: right;\">\n      <th></th>\n      <th>User_id</th>\n      <th>User_name</th>\n      <th>User_age</th>\n      <th>Work_hours</th>\n      <th>Activity_pref</th>\n      <th>Work_split</th>\n      <th>Liked_videos</th>\n      <th>Mood</th>\n      <th>Distr_daily</th>\n      <th>Distr_total</th>\n    </tr>\n  </thead>\n  <tbody>\n    <tr>\n      <th>0</th>\n      <td>1</td>\n      <td>Tom</td>\n      <td>30</td>\n      <td>8.0</td>\n      <td>[Yoga, Sports, Ted Talks]</td>\n      <td>Pomodoro</td>\n      <td>iFuY20IERq8</td>\n      <td>Tired</td>\n      <td>50</td>\n      <td>150</td>\n    </tr>\n    <tr>\n      <th>1</th>\n      <td>2</td>\n      <td>Mary</td>\n      <td>28</td>\n      <td>8.0</td>\n      <td>[Yoga, Siesta, Walking]</td>\n      <td>Pomodoro</td>\n      <td>iFuY20IERq8</td>\n      <td>Stressed</td>\n      <td>100</td>\n      <td>600</td>\n    </tr>\n    <tr>\n      <th>2</th>\n      <td>3</td>\n      <td>Hendrik</td>\n      <td>41</td>\n      <td>8.0</td>\n      <td>[Stretch, Movies, Workout]</td>\n      <td>Pomodoro</td>\n      <td>iFuY20IERq8</td>\n      <td>Happy</td>\n      <td>5</td>\n      <td>20</td>\n    </tr>\n    <tr>\n      <th>3</th>\n      <td>4</td>\n      <td>Maria</td>\n      <td>23</td>\n      <td>8.0</td>\n      <td>[Workout, Whatsapp]</td>\n      <td>Pomodoro</td>\n      <td>None</td>\n      <td>None</td>\n      <td>0</td>\n      <td>0</td>\n    </tr>\n  </tbody>\n</table>\n</div>"
     },
     "metadata": {},
     "execution_count": 10
    }
   ],
   "source": [
    "df_users"
   ]
  },
  {
   "cell_type": "code",
   "execution_count": 11,
   "metadata": {},
   "outputs": [
    {
     "output_type": "execute_result",
     "data": {
      "text/plain": "   User_id User_name  User_age  Work_hours               Activity_pref  \\\n0        1       Tom        30         8.0   [Yoga, Sports, Ted Talks]   \n1        2      Mary        28         8.0     [Yoga, Siesta, Walking]   \n2        3   Hendrik        41         8.0  [Stretch, Movies, Workout]   \n3        4     Maria        23         8.0         [Workout, Whatsapp]   \n\n  Work_split Liked_videos      Mood  Distr_daily  Distr_total  \n0   Pomodoro  iFuY20IERq8     Tired           50          150  \n1   Pomodoro  arj7oStGLkU  Stressed          100          600  \n2   Pomodoro  iFuY20IERq8     Happy            5           20  \n3   Pomodoro         None      None            0            0  ",
      "text/html": "<div>\n<style scoped>\n    .dataframe tbody tr th:only-of-type {\n        vertical-align: middle;\n    }\n\n    .dataframe tbody tr th {\n        vertical-align: top;\n    }\n\n    .dataframe thead th {\n        text-align: right;\n    }\n</style>\n<table border=\"1\" class=\"dataframe\">\n  <thead>\n    <tr style=\"text-align: right;\">\n      <th></th>\n      <th>User_id</th>\n      <th>User_name</th>\n      <th>User_age</th>\n      <th>Work_hours</th>\n      <th>Activity_pref</th>\n      <th>Work_split</th>\n      <th>Liked_videos</th>\n      <th>Mood</th>\n      <th>Distr_daily</th>\n      <th>Distr_total</th>\n    </tr>\n  </thead>\n  <tbody>\n    <tr>\n      <th>0</th>\n      <td>1</td>\n      <td>Tom</td>\n      <td>30</td>\n      <td>8.0</td>\n      <td>[Yoga, Sports, Ted Talks]</td>\n      <td>Pomodoro</td>\n      <td>iFuY20IERq8</td>\n      <td>Tired</td>\n      <td>50</td>\n      <td>150</td>\n    </tr>\n    <tr>\n      <th>1</th>\n      <td>2</td>\n      <td>Mary</td>\n      <td>28</td>\n      <td>8.0</td>\n      <td>[Yoga, Siesta, Walking]</td>\n      <td>Pomodoro</td>\n      <td>arj7oStGLkU</td>\n      <td>Stressed</td>\n      <td>100</td>\n      <td>600</td>\n    </tr>\n    <tr>\n      <th>2</th>\n      <td>3</td>\n      <td>Hendrik</td>\n      <td>41</td>\n      <td>8.0</td>\n      <td>[Stretch, Movies, Workout]</td>\n      <td>Pomodoro</td>\n      <td>iFuY20IERq8</td>\n      <td>Happy</td>\n      <td>5</td>\n      <td>20</td>\n    </tr>\n    <tr>\n      <th>3</th>\n      <td>4</td>\n      <td>Maria</td>\n      <td>23</td>\n      <td>8.0</td>\n      <td>[Workout, Whatsapp]</td>\n      <td>Pomodoro</td>\n      <td>None</td>\n      <td>None</td>\n      <td>0</td>\n      <td>0</td>\n    </tr>\n  </tbody>\n</table>\n</div>"
     },
     "metadata": {},
     "execution_count": 11
    }
   ],
   "source": [
    "#Change specific value of column\n",
    "df_users.at[1, 'Liked_videos'] = \"arj7oStGLkU\" \n",
    "df_users"
   ]
  },
  {
   "cell_type": "code",
   "execution_count": 20,
   "metadata": {},
   "outputs": [],
   "source": [
    "#Save dataframe as Json \n",
    "\n",
    "df_users.to_json(r'data_users2.json', orient='columns')"
   ]
  },
  {
   "cell_type": "code",
   "execution_count": 54,
   "metadata": {},
   "outputs": [
    {
     "output_type": "execute_result",
     "data": {
      "text/plain": "   User_id User_name  User_age  Work_hours               Activity_pref  \\\n0      1.0       Tom      30.0         8.0   [Yoga, Sports, Ted Talks]   \n1      2.0      Mary      28.0         8.0     [Yoga, Siesta, Walking]   \n2      3.0   Hendrik      41.0         8.0  [Stretch, Movies, Workout]   \n3      4.0     Maria      23.0         8.0         [Workout, Whatsapp]   \n4      NaN      None       NaN         NaN                        None   \n\n  Work_split Liked_videos      Mood  Distr_daily  Distr_total  \n0   Pomodoro  iFuY20IERq8     Tired         50.0        150.0  \n1   Pomodoro  iFuY20IERq8  Stressed        100.0        600.0  \n2   Pomodoro  iFuY20IERq8     Happy          5.0         20.0  \n3   Pomodoro         None      None          0.0          0.0  \n4       None         None     Happy          NaN          NaN  ",
      "text/html": "<div>\n<style scoped>\n    .dataframe tbody tr th:only-of-type {\n        vertical-align: middle;\n    }\n\n    .dataframe tbody tr th {\n        vertical-align: top;\n    }\n\n    .dataframe thead th {\n        text-align: right;\n    }\n</style>\n<table border=\"1\" class=\"dataframe\">\n  <thead>\n    <tr style=\"text-align: right;\">\n      <th></th>\n      <th>User_id</th>\n      <th>User_name</th>\n      <th>User_age</th>\n      <th>Work_hours</th>\n      <th>Activity_pref</th>\n      <th>Work_split</th>\n      <th>Liked_videos</th>\n      <th>Mood</th>\n      <th>Distr_daily</th>\n      <th>Distr_total</th>\n    </tr>\n  </thead>\n  <tbody>\n    <tr>\n      <th>0</th>\n      <td>1.0</td>\n      <td>Tom</td>\n      <td>30.0</td>\n      <td>8.0</td>\n      <td>[Yoga, Sports, Ted Talks]</td>\n      <td>Pomodoro</td>\n      <td>iFuY20IERq8</td>\n      <td>Tired</td>\n      <td>50.0</td>\n      <td>150.0</td>\n    </tr>\n    <tr>\n      <th>1</th>\n      <td>2.0</td>\n      <td>Mary</td>\n      <td>28.0</td>\n      <td>8.0</td>\n      <td>[Yoga, Siesta, Walking]</td>\n      <td>Pomodoro</td>\n      <td>iFuY20IERq8</td>\n      <td>Stressed</td>\n      <td>100.0</td>\n      <td>600.0</td>\n    </tr>\n    <tr>\n      <th>2</th>\n      <td>3.0</td>\n      <td>Hendrik</td>\n      <td>41.0</td>\n      <td>8.0</td>\n      <td>[Stretch, Movies, Workout]</td>\n      <td>Pomodoro</td>\n      <td>iFuY20IERq8</td>\n      <td>Happy</td>\n      <td>5.0</td>\n      <td>20.0</td>\n    </tr>\n    <tr>\n      <th>3</th>\n      <td>4.0</td>\n      <td>Maria</td>\n      <td>23.0</td>\n      <td>8.0</td>\n      <td>[Workout, Whatsapp]</td>\n      <td>Pomodoro</td>\n      <td>None</td>\n      <td>None</td>\n      <td>0.0</td>\n      <td>0.0</td>\n    </tr>\n    <tr>\n      <th>4</th>\n      <td>NaN</td>\n      <td>None</td>\n      <td>NaN</td>\n      <td>NaN</td>\n      <td>None</td>\n      <td>None</td>\n      <td>None</td>\n      <td>Happy</td>\n      <td>NaN</td>\n      <td>NaN</td>\n    </tr>\n  </tbody>\n</table>\n</div>"
     },
     "metadata": {},
     "execution_count": 54
    }
   ],
   "source": [
    "#Testing to download Json from url. ---> order columns is different?\n",
    "import requests\n",
    "\n",
    "my_dict = requests.get('http://localhost:6060/get/dataframe').json()\n",
    "df = pd.DataFrame.from_dict(my_dict)\n",
    "\n",
    "#Setting order of columns correctly. \n",
    "df = df[[ 'User_id', 'User_name', 'User_age', 'Work_hours',\t'Activity_pref', 'Work_split', 'Liked_videos',\t'Mood',\t'Distr_daily', 'Distr_total']]\n",
    "\n",
    "df"
   ]
  },
  {
   "source": [
    "--------------"
   ],
   "cell_type": "markdown",
   "metadata": {}
  },
  {
   "cell_type": "code",
   "execution_count": null,
   "metadata": {},
   "outputs": [],
   "source": [
    "#Daily dataframe for moods and distractions for each user id? "
   ]
  },
  {
   "cell_type": "code",
   "execution_count": 19,
   "metadata": {},
   "outputs": [],
   "source": [
    "df_daily_user = pd.DataFrame({'User_id': pd.Series([], dtype='int'),\n",
    "                    'Mood': pd.Series([], dtype='str'),\n",
    "                   'Distr_hour': pd.Series([], dtype='timedelta64[ns]'),\n",
    "                   'Distr_count': pd.Series([], dtype='int')})"
   ]
  },
  {
   "cell_type": "code",
   "execution_count": 20,
   "metadata": {},
   "outputs": [],
   "source": [
    "import datetime"
   ]
  },
  {
   "cell_type": "code",
   "execution_count": 42,
   "metadata": {},
   "outputs": [],
   "source": [
    "df_test = df_daily_user.append({'User_id': 1, 'Mood':'Tired', 'Distr_hour': pd.to_datetime('10:30:00'), 'Distr_count' : 2\n",
    "}, ignore_index=True)"
   ]
  },
  {
   "cell_type": "code",
   "execution_count": 43,
   "metadata": {
    "tags": []
   },
   "outputs": [
    {
     "output_type": "execute_result",
     "data": {
      "text/plain": "   User_id   Mood          Distr_hour  Distr_count\n0        1  Tired 2020-10-06 10:30:00            2",
      "text/html": "<div>\n<style scoped>\n    .dataframe tbody tr th:only-of-type {\n        vertical-align: middle;\n    }\n\n    .dataframe tbody tr th {\n        vertical-align: top;\n    }\n\n    .dataframe thead th {\n        text-align: right;\n    }\n</style>\n<table border=\"1\" class=\"dataframe\">\n  <thead>\n    <tr style=\"text-align: right;\">\n      <th></th>\n      <th>User_id</th>\n      <th>Mood</th>\n      <th>Distr_hour</th>\n      <th>Distr_count</th>\n    </tr>\n  </thead>\n  <tbody>\n    <tr>\n      <th>0</th>\n      <td>1</td>\n      <td>Tired</td>\n      <td>2020-10-06 10:30:00</td>\n      <td>2</td>\n    </tr>\n  </tbody>\n</table>\n</div>"
     },
     "metadata": {},
     "execution_count": 43
    }
   ],
   "source": [
    "df_test"
   ]
  },
  {
   "cell_type": "code",
   "execution_count": 44,
   "metadata": {},
   "outputs": [],
   "source": [
    "df_test = df_test.append({'Distr_hour': pd.to_datetime('12:19:00'), 'Distr_count' : 51\n",
    "}, ignore_index=True)"
   ]
  },
  {
   "cell_type": "code",
   "execution_count": 45,
   "metadata": {},
   "outputs": [],
   "source": [
    "df_test = df_test.append({'Distr_hour': pd.to_datetime('12:45:00'), 'Distr_count' : 55\n",
    "}, ignore_index=True)"
   ]
  },
  {
   "cell_type": "code",
   "execution_count": 46,
   "metadata": {},
   "outputs": [],
   "source": [
    "df_test = df_test.append({'Distr_hour': pd.to_datetime('13:25:00'), 'Distr_count' : 61\n",
    "}, ignore_index=True)"
   ]
  },
  {
   "cell_type": "code",
   "execution_count": 47,
   "metadata": {},
   "outputs": [],
   "source": [
    "df_test = df_test.append({'Distr_hour': pd.to_datetime('15:41:00'), 'Distr_count' : 65\n",
    "}, ignore_index=True)"
   ]
  },
  {
   "cell_type": "code",
   "execution_count": 48,
   "metadata": {},
   "outputs": [
    {
     "output_type": "execute_result",
     "data": {
      "text/plain": "   User_id   Mood          Distr_hour  Distr_count\n0      1.0  Tired 2020-10-06 10:30:00            2\n1      NaN    NaN 2020-10-06 12:19:00           51\n2      NaN    NaN 2020-10-06 12:45:00           55\n3      NaN    NaN 2020-10-06 13:25:00           61\n4      NaN    NaN 2020-10-06 15:41:00           65",
      "text/html": "<div>\n<style scoped>\n    .dataframe tbody tr th:only-of-type {\n        vertical-align: middle;\n    }\n\n    .dataframe tbody tr th {\n        vertical-align: top;\n    }\n\n    .dataframe thead th {\n        text-align: right;\n    }\n</style>\n<table border=\"1\" class=\"dataframe\">\n  <thead>\n    <tr style=\"text-align: right;\">\n      <th></th>\n      <th>User_id</th>\n      <th>Mood</th>\n      <th>Distr_hour</th>\n      <th>Distr_count</th>\n    </tr>\n  </thead>\n  <tbody>\n    <tr>\n      <th>0</th>\n      <td>1.0</td>\n      <td>Tired</td>\n      <td>2020-10-06 10:30:00</td>\n      <td>2</td>\n    </tr>\n    <tr>\n      <th>1</th>\n      <td>NaN</td>\n      <td>NaN</td>\n      <td>2020-10-06 12:19:00</td>\n      <td>51</td>\n    </tr>\n    <tr>\n      <th>2</th>\n      <td>NaN</td>\n      <td>NaN</td>\n      <td>2020-10-06 12:45:00</td>\n      <td>55</td>\n    </tr>\n    <tr>\n      <th>3</th>\n      <td>NaN</td>\n      <td>NaN</td>\n      <td>2020-10-06 13:25:00</td>\n      <td>61</td>\n    </tr>\n    <tr>\n      <th>4</th>\n      <td>NaN</td>\n      <td>NaN</td>\n      <td>2020-10-06 15:41:00</td>\n      <td>65</td>\n    </tr>\n  </tbody>\n</table>\n</div>"
     },
     "metadata": {},
     "execution_count": 48
    }
   ],
   "source": [
    "df_test"
   ]
  },
  {
   "cell_type": "code",
   "execution_count": 28,
   "metadata": {},
   "outputs": [],
   "source": [
    "import matplotlib.pyplot as plt\n",
    "import matplotlib.dates as mdates\n",
    "import plotly.express as px"
   ]
  },
  {
   "cell_type": "code",
   "execution_count": 32,
   "metadata": {
    "tags": []
   },
   "outputs": [
    {
     "output_type": "stream",
     "name": "stdout",
     "text": "&lt;class &#39;pandas.core.frame.DataFrame&#39;&gt;\nRangeIndex: 5 entries, 0 to 4\nData columns (total 4 columns):\n #   Column       Non-Null Count  Dtype          \n---  ------       --------------  -----          \n 0   User_id      1 non-null      float64        \n 1   Mood         1 non-null      object         \n 2   Distr_hour   5 non-null      timedelta64[ns]\n 3   Distr_count  5 non-null      int64          \ndtypes: float64(1), int64(1), object(1), timedelta64[ns](1)\nmemory usage: 288.0+ bytes\n"
    }
   ],
   "source": [
    "df_test.info()"
   ]
  },
  {
   "cell_type": "code",
   "execution_count": 51,
   "metadata": {},
   "outputs": [
    {
     "output_type": "display_data",
     "data": {
      "application/vnd.plotly.v1+json": {
       "config": {
        "plotlyServerURL": "https://plot.ly"
       },
       "data": [
        {
         "hovertemplate": "Distr_hour=%{x}<br>Distr_count=%{y}<extra></extra>",
         "legendgroup": "",
         "line": {
          "color": "#636efa",
          "dash": "solid"
         },
         "mode": "lines",
         "name": "",
         "orientation": "v",
         "showlegend": false,
         "type": "scatter",
         "x": [
          "2020-10-06T10:30:00",
          "2020-10-06T12:19:00",
          "2020-10-06T12:45:00",
          "2020-10-06T13:25:00",
          "2020-10-06T15:41:00"
         ],
         "xaxis": "x",
         "y": [
          2,
          51,
          55,
          61,
          65
         ],
         "yaxis": "y"
        }
       ],
       "layout": {
        "legend": {
         "tracegroupgap": 0
        },
        "margin": {
         "t": 60
        },
        "template": {
         "data": {
          "bar": [
           {
            "error_x": {
             "color": "#2a3f5f"
            },
            "error_y": {
             "color": "#2a3f5f"
            },
            "marker": {
             "line": {
              "color": "#E5ECF6",
              "width": 0.5
             }
            },
            "type": "bar"
           }
          ],
          "barpolar": [
           {
            "marker": {
             "line": {
              "color": "#E5ECF6",
              "width": 0.5
             }
            },
            "type": "barpolar"
           }
          ],
          "carpet": [
           {
            "aaxis": {
             "endlinecolor": "#2a3f5f",
             "gridcolor": "white",
             "linecolor": "white",
             "minorgridcolor": "white",
             "startlinecolor": "#2a3f5f"
            },
            "baxis": {
             "endlinecolor": "#2a3f5f",
             "gridcolor": "white",
             "linecolor": "white",
             "minorgridcolor": "white",
             "startlinecolor": "#2a3f5f"
            },
            "type": "carpet"
           }
          ],
          "choropleth": [
           {
            "colorbar": {
             "outlinewidth": 0,
             "ticks": ""
            },
            "type": "choropleth"
           }
          ],
          "contour": [
           {
            "colorbar": {
             "outlinewidth": 0,
             "ticks": ""
            },
            "colorscale": [
             [
              0,
              "#0d0887"
             ],
             [
              0.1111111111111111,
              "#46039f"
             ],
             [
              0.2222222222222222,
              "#7201a8"
             ],
             [
              0.3333333333333333,
              "#9c179e"
             ],
             [
              0.4444444444444444,
              "#bd3786"
             ],
             [
              0.5555555555555556,
              "#d8576b"
             ],
             [
              0.6666666666666666,
              "#ed7953"
             ],
             [
              0.7777777777777778,
              "#fb9f3a"
             ],
             [
              0.8888888888888888,
              "#fdca26"
             ],
             [
              1,
              "#f0f921"
             ]
            ],
            "type": "contour"
           }
          ],
          "contourcarpet": [
           {
            "colorbar": {
             "outlinewidth": 0,
             "ticks": ""
            },
            "type": "contourcarpet"
           }
          ],
          "heatmap": [
           {
            "colorbar": {
             "outlinewidth": 0,
             "ticks": ""
            },
            "colorscale": [
             [
              0,
              "#0d0887"
             ],
             [
              0.1111111111111111,
              "#46039f"
             ],
             [
              0.2222222222222222,
              "#7201a8"
             ],
             [
              0.3333333333333333,
              "#9c179e"
             ],
             [
              0.4444444444444444,
              "#bd3786"
             ],
             [
              0.5555555555555556,
              "#d8576b"
             ],
             [
              0.6666666666666666,
              "#ed7953"
             ],
             [
              0.7777777777777778,
              "#fb9f3a"
             ],
             [
              0.8888888888888888,
              "#fdca26"
             ],
             [
              1,
              "#f0f921"
             ]
            ],
            "type": "heatmap"
           }
          ],
          "heatmapgl": [
           {
            "colorbar": {
             "outlinewidth": 0,
             "ticks": ""
            },
            "colorscale": [
             [
              0,
              "#0d0887"
             ],
             [
              0.1111111111111111,
              "#46039f"
             ],
             [
              0.2222222222222222,
              "#7201a8"
             ],
             [
              0.3333333333333333,
              "#9c179e"
             ],
             [
              0.4444444444444444,
              "#bd3786"
             ],
             [
              0.5555555555555556,
              "#d8576b"
             ],
             [
              0.6666666666666666,
              "#ed7953"
             ],
             [
              0.7777777777777778,
              "#fb9f3a"
             ],
             [
              0.8888888888888888,
              "#fdca26"
             ],
             [
              1,
              "#f0f921"
             ]
            ],
            "type": "heatmapgl"
           }
          ],
          "histogram": [
           {
            "marker": {
             "colorbar": {
              "outlinewidth": 0,
              "ticks": ""
             }
            },
            "type": "histogram"
           }
          ],
          "histogram2d": [
           {
            "colorbar": {
             "outlinewidth": 0,
             "ticks": ""
            },
            "colorscale": [
             [
              0,
              "#0d0887"
             ],
             [
              0.1111111111111111,
              "#46039f"
             ],
             [
              0.2222222222222222,
              "#7201a8"
             ],
             [
              0.3333333333333333,
              "#9c179e"
             ],
             [
              0.4444444444444444,
              "#bd3786"
             ],
             [
              0.5555555555555556,
              "#d8576b"
             ],
             [
              0.6666666666666666,
              "#ed7953"
             ],
             [
              0.7777777777777778,
              "#fb9f3a"
             ],
             [
              0.8888888888888888,
              "#fdca26"
             ],
             [
              1,
              "#f0f921"
             ]
            ],
            "type": "histogram2d"
           }
          ],
          "histogram2dcontour": [
           {
            "colorbar": {
             "outlinewidth": 0,
             "ticks": ""
            },
            "colorscale": [
             [
              0,
              "#0d0887"
             ],
             [
              0.1111111111111111,
              "#46039f"
             ],
             [
              0.2222222222222222,
              "#7201a8"
             ],
             [
              0.3333333333333333,
              "#9c179e"
             ],
             [
              0.4444444444444444,
              "#bd3786"
             ],
             [
              0.5555555555555556,
              "#d8576b"
             ],
             [
              0.6666666666666666,
              "#ed7953"
             ],
             [
              0.7777777777777778,
              "#fb9f3a"
             ],
             [
              0.8888888888888888,
              "#fdca26"
             ],
             [
              1,
              "#f0f921"
             ]
            ],
            "type": "histogram2dcontour"
           }
          ],
          "mesh3d": [
           {
            "colorbar": {
             "outlinewidth": 0,
             "ticks": ""
            },
            "type": "mesh3d"
           }
          ],
          "parcoords": [
           {
            "line": {
             "colorbar": {
              "outlinewidth": 0,
              "ticks": ""
             }
            },
            "type": "parcoords"
           }
          ],
          "pie": [
           {
            "automargin": true,
            "type": "pie"
           }
          ],
          "scatter": [
           {
            "marker": {
             "colorbar": {
              "outlinewidth": 0,
              "ticks": ""
             }
            },
            "type": "scatter"
           }
          ],
          "scatter3d": [
           {
            "line": {
             "colorbar": {
              "outlinewidth": 0,
              "ticks": ""
             }
            },
            "marker": {
             "colorbar": {
              "outlinewidth": 0,
              "ticks": ""
             }
            },
            "type": "scatter3d"
           }
          ],
          "scattercarpet": [
           {
            "marker": {
             "colorbar": {
              "outlinewidth": 0,
              "ticks": ""
             }
            },
            "type": "scattercarpet"
           }
          ],
          "scattergeo": [
           {
            "marker": {
             "colorbar": {
              "outlinewidth": 0,
              "ticks": ""
             }
            },
            "type": "scattergeo"
           }
          ],
          "scattergl": [
           {
            "marker": {
             "colorbar": {
              "outlinewidth": 0,
              "ticks": ""
             }
            },
            "type": "scattergl"
           }
          ],
          "scattermapbox": [
           {
            "marker": {
             "colorbar": {
              "outlinewidth": 0,
              "ticks": ""
             }
            },
            "type": "scattermapbox"
           }
          ],
          "scatterpolar": [
           {
            "marker": {
             "colorbar": {
              "outlinewidth": 0,
              "ticks": ""
             }
            },
            "type": "scatterpolar"
           }
          ],
          "scatterpolargl": [
           {
            "marker": {
             "colorbar": {
              "outlinewidth": 0,
              "ticks": ""
             }
            },
            "type": "scatterpolargl"
           }
          ],
          "scatterternary": [
           {
            "marker": {
             "colorbar": {
              "outlinewidth": 0,
              "ticks": ""
             }
            },
            "type": "scatterternary"
           }
          ],
          "surface": [
           {
            "colorbar": {
             "outlinewidth": 0,
             "ticks": ""
            },
            "colorscale": [
             [
              0,
              "#0d0887"
             ],
             [
              0.1111111111111111,
              "#46039f"
             ],
             [
              0.2222222222222222,
              "#7201a8"
             ],
             [
              0.3333333333333333,
              "#9c179e"
             ],
             [
              0.4444444444444444,
              "#bd3786"
             ],
             [
              0.5555555555555556,
              "#d8576b"
             ],
             [
              0.6666666666666666,
              "#ed7953"
             ],
             [
              0.7777777777777778,
              "#fb9f3a"
             ],
             [
              0.8888888888888888,
              "#fdca26"
             ],
             [
              1,
              "#f0f921"
             ]
            ],
            "type": "surface"
           }
          ],
          "table": [
           {
            "cells": {
             "fill": {
              "color": "#EBF0F8"
             },
             "line": {
              "color": "white"
             }
            },
            "header": {
             "fill": {
              "color": "#C8D4E3"
             },
             "line": {
              "color": "white"
             }
            },
            "type": "table"
           }
          ]
         },
         "layout": {
          "annotationdefaults": {
           "arrowcolor": "#2a3f5f",
           "arrowhead": 0,
           "arrowwidth": 1
          },
          "coloraxis": {
           "colorbar": {
            "outlinewidth": 0,
            "ticks": ""
           }
          },
          "colorscale": {
           "diverging": [
            [
             0,
             "#8e0152"
            ],
            [
             0.1,
             "#c51b7d"
            ],
            [
             0.2,
             "#de77ae"
            ],
            [
             0.3,
             "#f1b6da"
            ],
            [
             0.4,
             "#fde0ef"
            ],
            [
             0.5,
             "#f7f7f7"
            ],
            [
             0.6,
             "#e6f5d0"
            ],
            [
             0.7,
             "#b8e186"
            ],
            [
             0.8,
             "#7fbc41"
            ],
            [
             0.9,
             "#4d9221"
            ],
            [
             1,
             "#276419"
            ]
           ],
           "sequential": [
            [
             0,
             "#0d0887"
            ],
            [
             0.1111111111111111,
             "#46039f"
            ],
            [
             0.2222222222222222,
             "#7201a8"
            ],
            [
             0.3333333333333333,
             "#9c179e"
            ],
            [
             0.4444444444444444,
             "#bd3786"
            ],
            [
             0.5555555555555556,
             "#d8576b"
            ],
            [
             0.6666666666666666,
             "#ed7953"
            ],
            [
             0.7777777777777778,
             "#fb9f3a"
            ],
            [
             0.8888888888888888,
             "#fdca26"
            ],
            [
             1,
             "#f0f921"
            ]
           ],
           "sequentialminus": [
            [
             0,
             "#0d0887"
            ],
            [
             0.1111111111111111,
             "#46039f"
            ],
            [
             0.2222222222222222,
             "#7201a8"
            ],
            [
             0.3333333333333333,
             "#9c179e"
            ],
            [
             0.4444444444444444,
             "#bd3786"
            ],
            [
             0.5555555555555556,
             "#d8576b"
            ],
            [
             0.6666666666666666,
             "#ed7953"
            ],
            [
             0.7777777777777778,
             "#fb9f3a"
            ],
            [
             0.8888888888888888,
             "#fdca26"
            ],
            [
             1,
             "#f0f921"
            ]
           ]
          },
          "colorway": [
           "#636efa",
           "#EF553B",
           "#00cc96",
           "#ab63fa",
           "#FFA15A",
           "#19d3f3",
           "#FF6692",
           "#B6E880",
           "#FF97FF",
           "#FECB52"
          ],
          "font": {
           "color": "#2a3f5f"
          },
          "geo": {
           "bgcolor": "white",
           "lakecolor": "white",
           "landcolor": "#E5ECF6",
           "showlakes": true,
           "showland": true,
           "subunitcolor": "white"
          },
          "hoverlabel": {
           "align": "left"
          },
          "hovermode": "closest",
          "mapbox": {
           "style": "light"
          },
          "paper_bgcolor": "white",
          "plot_bgcolor": "#E5ECF6",
          "polar": {
           "angularaxis": {
            "gridcolor": "white",
            "linecolor": "white",
            "ticks": ""
           },
           "bgcolor": "#E5ECF6",
           "radialaxis": {
            "gridcolor": "white",
            "linecolor": "white",
            "ticks": ""
           }
          },
          "scene": {
           "xaxis": {
            "backgroundcolor": "#E5ECF6",
            "gridcolor": "white",
            "gridwidth": 2,
            "linecolor": "white",
            "showbackground": true,
            "ticks": "",
            "zerolinecolor": "white"
           },
           "yaxis": {
            "backgroundcolor": "#E5ECF6",
            "gridcolor": "white",
            "gridwidth": 2,
            "linecolor": "white",
            "showbackground": true,
            "ticks": "",
            "zerolinecolor": "white"
           },
           "zaxis": {
            "backgroundcolor": "#E5ECF6",
            "gridcolor": "white",
            "gridwidth": 2,
            "linecolor": "white",
            "showbackground": true,
            "ticks": "",
            "zerolinecolor": "white"
           }
          },
          "shapedefaults": {
           "line": {
            "color": "#2a3f5f"
           }
          },
          "ternary": {
           "aaxis": {
            "gridcolor": "white",
            "linecolor": "white",
            "ticks": ""
           },
           "baxis": {
            "gridcolor": "white",
            "linecolor": "white",
            "ticks": ""
           },
           "bgcolor": "#E5ECF6",
           "caxis": {
            "gridcolor": "white",
            "linecolor": "white",
            "ticks": ""
           }
          },
          "title": {
           "x": 0.05
          },
          "xaxis": {
           "automargin": true,
           "gridcolor": "white",
           "linecolor": "white",
           "ticks": "",
           "title": {
            "standoff": 15
           },
           "zerolinecolor": "white",
           "zerolinewidth": 2
          },
          "yaxis": {
           "automargin": true,
           "gridcolor": "white",
           "linecolor": "white",
           "ticks": "",
           "title": {
            "standoff": 15
           },
           "zerolinecolor": "white",
           "zerolinewidth": 2
          }
         }
        },
        "xaxis": {
         "anchor": "y",
         "domain": [
          0,
          1
         ],
         "title": {
          "text": "Distr_hour"
         }
        },
        "yaxis": {
         "anchor": "x",
         "domain": [
          0,
          1
         ],
         "title": {
          "text": "Distr_count"
         }
        }
       }
      }
     },
     "metadata": {}
    }
   ],
   "source": [
    "px.line(data_frame=df_test, x=\"Distr_hour\", y=\"Distr_count\")"
   ]
  },
  {
   "cell_type": "code",
   "execution_count": null,
   "metadata": {},
   "outputs": [],
   "source": []
  }
 ]
}