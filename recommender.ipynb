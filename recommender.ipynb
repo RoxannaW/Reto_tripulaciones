{
 "metadata": {
  "language_info": {
   "codemirror_mode": {
    "name": "ipython",
    "version": 3
   },
   "file_extension": ".py",
   "mimetype": "text/x-python",
   "name": "python",
   "nbconvert_exporter": "python",
   "pygments_lexer": "ipython3",
   "version": "3.8.3-final"
  },
  "orig_nbformat": 2,
  "kernelspec": {
   "name": "Python 3.8.3 64-bit",
   "display_name": "Python 3.8.3 64-bit",
   "metadata": {
    "interpreter": {
     "hash": "1baa965d5efe3ac65b79dfc60c0d706280b1da80fedb7760faf2759126c4f253"
    }
   }
  }
 },
 "nbformat": 4,
 "nbformat_minor": 2,
 "cells": [
  {
   "source": [
    "Content-based recommenders: suggest similar items based on a particular item. This system uses item metadata, such as genre, director, description, actors, etc. for movies, to make these recommendations. The general idea behind these recommender systems is that if a person likes a particular item, he or she will also like an item that is similar to it. And to recommend that, it will make use of the user's past item metadata. A good example could be YouTube, where based on your history, it suggests you new videos that you could potentially watch.\n",
    "\n",
    "--> Then also add Simple recommender feature:\n",
    "This offer generalized recommendations to every user, based on movie popularity and/or genre. The basic idea behind this system is that movies that are more popular and critically acclaimed will have a higher probability of being liked by the average audience. An example could be IMDB Top 250.\n",
    "\n",
    "Source: https://github.com/codeheroku/Introduction-to-Machine-Learning/blob/master/Building%20a%20Movie%20Recommendation%20Engine/Assignment%20Solution.ipynb"
   ],
   "cell_type": "markdown",
   "metadata": {}
  },
  {
   "cell_type": "code",
   "execution_count": null,
   "metadata": {},
   "outputs": [],
   "source": []
  },
  {
   "cell_type": "code",
   "execution_count": 2,
   "metadata": {},
   "outputs": [],
   "source": [
    "#Content based recommender\n",
    "\n",
    "import pandas as pd\n",
    "import numpy as np\n",
    "from sklearn.feature_extraction.text import CountVectorizer\n",
    "from sklearn.metrics.pairwise import cosine_similarity"
   ]
  },
  {
   "cell_type": "code",
   "execution_count": 3,
   "metadata": {},
   "outputs": [],
   "source": [
    "###### helper functions. Use them when needed #######\n",
    "def get_title_from_index(index):\n",
    "\treturn df[df.index == index][\"vid_id\"].values[0]\n",
    "\n",
    "def get_index_from_videoID(vid_id):\n",
    "\treturn df[df.vid_id == vid_id].index[0]\n",
    "\n",
    "    \n",
    "##################################################"
   ]
  },
  {
   "cell_type": "code",
   "execution_count": 4,
   "metadata": {
    "tags": []
   },
   "outputs": [
    {
     "output_type": "stream",
     "name": "stdout",
     "text": [
      "Index(['vid_title', 'vid_id', 'category', 'duration', 'views', 'likes', 'url',\n       'description', 'tags'],\n      dtype='object')\n"
     ]
    }
   ],
   "source": [
    "##Step 1: Read CSV File\n",
    "df = pd.read_csv(\"df_content_v2.csv\")\n",
    "print(df.columns)"
   ]
  },
  {
   "cell_type": "code",
   "execution_count": 5,
   "metadata": {},
   "outputs": [],
   "source": [
    "##Step 2: Select Features that are could be important\n",
    "\n",
    "features = ['vid_title','category','description','tags']"
   ]
  },
  {
   "cell_type": "code",
   "execution_count": 6,
   "metadata": {
    "tags": []
   },
   "outputs": [
    {
     "output_type": "stream",
     "name": "stdout",
     "text": [
      "Combined Features: 0    5 Minute Abs Desk Workout | Exercises For a Fl...\n1    Real Time Desk Exercises &amp; Stretches - Ask...\n2    Standing Desk Workout - 5 Exercises to do at W...\n3    Easy 10-Minute Workout You Can Do at Your Desk...\n4    How to Get Your Daily Workout at Your Desk | W...\nName: combined_features, dtype: object\n"
     ]
    }
   ],
   "source": [
    "##Step 3: Create a column in DF which combines all selected features\n",
    "for feature in features:\n",
    "\tdf[feature] = df[feature].fillna('')\n",
    "\n",
    "def combine_features(row):\n",
    "\ttry:\n",
    "\t\treturn row['vid_title'] +\" \"+row['category']+\" \"+row[\"description\"]+\" \"+row[\"tags\"]\n",
    "\texcept:\n",
    "\t\tprint(\"Error:\", row\t)\n",
    "\n",
    "df[\"combined_features\"] = df.apply(combine_features,axis=1)\n",
    "\n",
    "print(\"Combined Features:\", df[\"combined_features\"].head())"
   ]
  },
  {
   "cell_type": "code",
   "execution_count": 7,
   "metadata": {},
   "outputs": [
    {
     "output_type": "stream",
     "name": "stdout",
     "text": [
      "  (0, 6725)\t5\n  (0, 680)\t10\n  (0, 3120)\t5\n  (0, 11418)\t22\n  (0, 3842)\t2\n  (0, 4207)\t6\n  (0, 4138)\t4\n  (0, 1613)\t3\n  (0, 10390)\t3\n  (0, 9077)\t2\n  (0, 5447)\t3\n  (0, 7676)\t1\n  (0, 10490)\t7\n  (0, 10510)\t1\n  (0, 11577)\t5\n  (0, 10684)\t1\n  (0, 1052)\t7\n  (0, 1993)\t1\n  (0, 3982)\t2\n  (0, 5213)\t8\n  (0, 2413)\t1\n  (0, 7379)\t6\n  (0, 1303)\t5\n  (0, 11410)\t3\n  (0, 6255)\t8\n  :\t:\n  (699, 11633)\t1\n  (699, 5216)\t1\n  (699, 6921)\t1\n  (699, 3994)\t1\n  (699, 9229)\t1\n  (699, 1005)\t1\n  (699, 1267)\t1\n  (699, 9653)\t1\n  (699, 9996)\t1\n  (699, 9170)\t1\n  (699, 8580)\t1\n  (699, 10922)\t1\n  (699, 7022)\t1\n  (699, 8761)\t1\n  (699, 3194)\t1\n  (699, 8726)\t1\n  (699, 1239)\t1\n  (699, 9651)\t1\n  (699, 1416)\t1\n  (699, 3449)\t1\n  (699, 1270)\t2\n  (699, 3683)\t1\n  (699, 6675)\t1\n  (699, 4572)\t1\n  (699, 10122)\t1\n"
     ]
    }
   ],
   "source": [
    "##Step 4: Create count matrix from this new combined column\n",
    "cv = CountVectorizer()\n",
    "\n",
    "count_matrix = cv.fit_transform(df[\"combined_features\"])\n",
    "print(count_matrix)"
   ]
  },
  {
   "cell_type": "code",
   "execution_count": 8,
   "metadata": {},
   "outputs": [],
   "source": [
    "##Step 5: Compute the Cosine Similarity based on the count_matrix\n",
    "cosine_sim = cosine_similarity(count_matrix) \n",
    "video_user_likes = \"GwRzjFQa_Og\""
   ]
  },
  {
   "cell_type": "code",
   "execution_count": 9,
   "metadata": {
    "tags": []
   },
   "outputs": [
    {
     "output_type": "stream",
     "name": "stdout",
     "text": [
      "501\n"
     ]
    }
   ],
   "source": [
    "## Step 6: Get index of this movie from its title\n",
    "video = get_index_from_videoID(video_user_likes)\n",
    "similar_videos =  list(enumerate(cosine_sim[video]))\n",
    "print(video)"
   ]
  },
  {
   "cell_type": "code",
   "execution_count": 10,
   "metadata": {},
   "outputs": [],
   "source": [
    "## Step 7: Get a list of similar movies in descending order of similarity score\n",
    "sorted_similar_videos = sorted(similar_videos,key=lambda x:x[1],reverse=True)"
   ]
  },
  {
   "cell_type": "code",
   "execution_count": 11,
   "metadata": {
    "tags": []
   },
   "outputs": [],
   "source": [
    "sort_by_likes = sorted(sorted_similar_videos,key=lambda x:df[\"views\"][x[0]],reverse=True)"
   ]
  },
  {
   "cell_type": "code",
   "execution_count": 12,
   "metadata": {
    "tags": []
   },
   "outputs": [
    {
     "output_type": "stream",
     "name": "stdout",
     "text": [
      "Suggesting top 5 videos in order of likes:\n\n07d2dXHYb94\nRKU6x1n9Hak\nrZi_8t0xK44\nafghBre8NlI\nDODLEX4zzLQ\nTb4B0Fc8V_A\n"
     ]
    }
   ],
   "source": [
    "i=0\n",
    "recommendations = []\n",
    "print(\"Suggesting top 5 videos in order of likes:\\n\")\n",
    "for element in sort_by_likes:\n",
    "    print(get_title_from_index(element[0]))\n",
    "    recommendations.append(get_title_from_index(element[0]))\n",
    "    i=i+1\n",
    "    if i>5:\n",
    "        break"
   ]
  },
  {
   "cell_type": "code",
   "execution_count": 13,
   "metadata": {
    "tags": []
   },
   "outputs": [],
   "source": [
    "## Step 8: Print titles of first 50 movies\n",
    "recommendations = []\n",
    "i=0\n",
    "for element in sorted_similar_videos:\n",
    "\trecommendations.append(get_title_from_index(element[0]))\n",
    "\ti += 1\n",
    "\tif i>10:\n",
    "\t\tbreak"
   ]
  },
  {
   "cell_type": "code",
   "execution_count": 15,
   "metadata": {},
   "outputs": [
    {
     "output_type": "execute_result",
     "data": {
      "text/plain": "                                             vid_title       vid_id  \\\n656  Award Winning Hindi Short Film | The Blue Helm...  kHq0jniKmIE   \n658  Dear Biwi ( Short Film ) | Rahim Pardesi | Hee...  iFuY20IERq8   \n659          Painkiller | Dark Comedy Short Film | MYM  HgZIYY1Ty7o   \n666  Award Winning Hindi Short Film | Masala Steps ...  24Db-vgCsDE   \n667         Stationary (2020) | Drama Short Film | MYM  WSvsRe4hqCs   \n676           JOY (2020) | Drama Short Film | MYM [2K]  qIwPsgP9KSg   \n679  WAJOOD (Selfhood) वजूद | Short Film | Bawra Ma...  r6qmspmMvS0   \n680  SHIN-CHAN - HIMAWARI : शीन चैन 2 SHORT FILM | ...  DqbSXcLMr7c   \n687  The Twist | Short Film | Ritvik Sahore | Susha...  AxOe5CiNydg   \n693  ਮਾੜਾ ਸਮਾਂ true story #RishtayForever New punja...  Y5neQNTNPO8   \n696  Award Winning Hindi Short Film | Tabeeb -The P...  CFRCAyfA1Xo   \n\n        category  duration    views   likes  \\\n656  Short Movie      9.97   222396    5966   \n658  Short Movie      9.45  1384524   65139   \n659  Short Movie     14.50  1510439   32423   \n666  Short Movie     20.93   235225    5355   \n667  Short Movie     12.78   172883    3800   \n676  Short Movie     23.05    34864    2694   \n679  Short Movie     12.22  4360699   31449   \n680  Short Movie     12.00   215851   10560   \n687  Short Movie     13.35  3444180  120202   \n693  Short Movie     10.38    10930     576   \n696  Short Movie     28.75   117603    1264   \n\n                                             url  \\\n656  https://www.youtube.com/watch?v=kHq0jniKmIE   \n658  https://www.youtube.com/watch?v=iFuY20IERq8   \n659  https://www.youtube.com/watch?v=HgZIYY1Ty7o   \n666  https://www.youtube.com/watch?v=24Db-vgCsDE   \n667  https://www.youtube.com/watch?v=WSvsRe4hqCs   \n676  https://www.youtube.com/watch?v=qIwPsgP9KSg   \n679  https://www.youtube.com/watch?v=r6qmspmMvS0   \n680  https://www.youtube.com/watch?v=DqbSXcLMr7c   \n687  https://www.youtube.com/watch?v=AxOe5CiNydg   \n693  https://www.youtube.com/watch?v=Y5neQNTNPO8   \n696  https://www.youtube.com/watch?v=CFRCAyfA1Xo   \n\n                                           description  \\\n656  Mira, mid fifties lives alone in an apartment ...   \n658  Dear Biwi ( Short Film ) | Rahim Pardesi | Hee...   \n659  A &quot;dark comedy short film&quot; which sees street-s...   \n666  An investment advisor Paresh (Vikram Kochhar) ...   \n667  Taking place in a parked car over the course o...   \n676  Joy is an emotional short film following the s...   \n679  We all deserve to be loved, don&#39;t we? \\nWAJOOD...   \n680  Shin Chan Is A Short Film About A Boy Shin Cha...   \n687  👉🏻 SUBSCRIBE to Zee Music Company - https://bi...   \n693  Hello friends,\\nthis is Raman Saroya the owner...   \n696  This Hindi film is story of Doctor Sushanth wh...   \n\n                                                  tags  \\\n656  [&#39;short film&#39;, &#39;short film hindi&#39;, &#39;hindi shor...   \n658  [&#39;rahim pardesi&#39;, &#39;new rahim pardesi video&#39;, &#39;...   \n659  [&#39;painkiller short film&#39;, &#39;dark comedy short f...   \n666  [&#39;hindi short films award winning&#39;, &#39;husband w...   \n667  [&#39;short film&#39;, &#39;short film uk&#39;, &#39;short drama f...   \n676  [&#39;joy 2020&#39;, &#39;short film 2020&#39;, &#39;joy&#39;, &#39;joy mo...   \n679  [&#39;Wajood&#39;, &#39;Selfhood&#39;, &#39;Bawra Manjhi&#39;, &#39;vishal...   \n680  [&#39;dogs love&#39;, &#39;short film&#39;, &#39;new short film&#39;, ...   \n687  [&#39;The Twist&#39;, &#39;short film&#39;, &#39;short movie&#39;, &#39;sh...   \n693  [&#39;RISHTAYFOREVER&#39;, &#39;PUNJABI VIDEOS&#39;, &#39;rishtay ...   \n696  [&#39;short film&#39;, &#39;short film hindi&#39;, &#39;hindi shor...   \n\n                                     combined_features  \n656  Award Winning Hindi Short Film | The Blue Helm...  \n658  Dear Biwi ( Short Film ) | Rahim Pardesi | Hee...  \n659  Painkiller | Dark Comedy Short Film | MYM Shor...  \n666  Award Winning Hindi Short Film | Masala Steps ...  \n667  Stationary (2020) | Drama Short Film | MYM Sho...  \n676  JOY (2020) | Drama Short Film | MYM [2K] Short...  \n679  WAJOOD (Selfhood) वजूद | Short Film | Bawra Ma...  \n680  SHIN-CHAN - HIMAWARI : शीन चैन 2 SHORT FILM | ...  \n687  The Twist | Short Film | Ritvik Sahore | Susha...  \n693  ਮਾੜਾ ਸਮਾਂ true story #RishtayForever New punja...  \n696  Award Winning Hindi Short Film | Tabeeb -The P...  ",
      "text/html": "<div>\n<style scoped>\n    .dataframe tbody tr th:only-of-type {\n        vertical-align: middle;\n    }\n\n    .dataframe tbody tr th {\n        vertical-align: top;\n    }\n\n    .dataframe thead th {\n        text-align: right;\n    }\n</style>\n<table border=\"1\" class=\"dataframe\">\n  <thead>\n    <tr style=\"text-align: right;\">\n      <th></th>\n      <th>vid_title</th>\n      <th>vid_id</th>\n      <th>category</th>\n      <th>duration</th>\n      <th>views</th>\n      <th>likes</th>\n      <th>url</th>\n      <th>description</th>\n      <th>tags</th>\n      <th>combined_features</th>\n    </tr>\n  </thead>\n  <tbody>\n    <tr>\n      <th>656</th>\n      <td>Award Winning Hindi Short Film | The Blue Helm...</td>\n      <td>kHq0jniKmIE</td>\n      <td>Short Movie</td>\n      <td>9.97</td>\n      <td>222396</td>\n      <td>5966</td>\n      <td>https://www.youtube.com/watch?v=kHq0jniKmIE</td>\n      <td>Mira, mid fifties lives alone in an apartment ...</td>\n      <td>['short film', 'short film hindi', 'hindi shor...</td>\n      <td>Award Winning Hindi Short Film | The Blue Helm...</td>\n    </tr>\n    <tr>\n      <th>658</th>\n      <td>Dear Biwi ( Short Film ) | Rahim Pardesi | Hee...</td>\n      <td>iFuY20IERq8</td>\n      <td>Short Movie</td>\n      <td>9.45</td>\n      <td>1384524</td>\n      <td>65139</td>\n      <td>https://www.youtube.com/watch?v=iFuY20IERq8</td>\n      <td>Dear Biwi ( Short Film ) | Rahim Pardesi | Hee...</td>\n      <td>['rahim pardesi', 'new rahim pardesi video', '...</td>\n      <td>Dear Biwi ( Short Film ) | Rahim Pardesi | Hee...</td>\n    </tr>\n    <tr>\n      <th>659</th>\n      <td>Painkiller | Dark Comedy Short Film | MYM</td>\n      <td>HgZIYY1Ty7o</td>\n      <td>Short Movie</td>\n      <td>14.50</td>\n      <td>1510439</td>\n      <td>32423</td>\n      <td>https://www.youtube.com/watch?v=HgZIYY1Ty7o</td>\n      <td>A \"dark comedy short film\" which sees street-s...</td>\n      <td>['painkiller short film', 'dark comedy short f...</td>\n      <td>Painkiller | Dark Comedy Short Film | MYM Shor...</td>\n    </tr>\n    <tr>\n      <th>666</th>\n      <td>Award Winning Hindi Short Film | Masala Steps ...</td>\n      <td>24Db-vgCsDE</td>\n      <td>Short Movie</td>\n      <td>20.93</td>\n      <td>235225</td>\n      <td>5355</td>\n      <td>https://www.youtube.com/watch?v=24Db-vgCsDE</td>\n      <td>An investment advisor Paresh (Vikram Kochhar) ...</td>\n      <td>['hindi short films award winning', 'husband w...</td>\n      <td>Award Winning Hindi Short Film | Masala Steps ...</td>\n    </tr>\n    <tr>\n      <th>667</th>\n      <td>Stationary (2020) | Drama Short Film | MYM</td>\n      <td>WSvsRe4hqCs</td>\n      <td>Short Movie</td>\n      <td>12.78</td>\n      <td>172883</td>\n      <td>3800</td>\n      <td>https://www.youtube.com/watch?v=WSvsRe4hqCs</td>\n      <td>Taking place in a parked car over the course o...</td>\n      <td>['short film', 'short film uk', 'short drama f...</td>\n      <td>Stationary (2020) | Drama Short Film | MYM Sho...</td>\n    </tr>\n    <tr>\n      <th>676</th>\n      <td>JOY (2020) | Drama Short Film | MYM [2K]</td>\n      <td>qIwPsgP9KSg</td>\n      <td>Short Movie</td>\n      <td>23.05</td>\n      <td>34864</td>\n      <td>2694</td>\n      <td>https://www.youtube.com/watch?v=qIwPsgP9KSg</td>\n      <td>Joy is an emotional short film following the s...</td>\n      <td>['joy 2020', 'short film 2020', 'joy', 'joy mo...</td>\n      <td>JOY (2020) | Drama Short Film | MYM [2K] Short...</td>\n    </tr>\n    <tr>\n      <th>679</th>\n      <td>WAJOOD (Selfhood) वजूद | Short Film | Bawra Ma...</td>\n      <td>r6qmspmMvS0</td>\n      <td>Short Movie</td>\n      <td>12.22</td>\n      <td>4360699</td>\n      <td>31449</td>\n      <td>https://www.youtube.com/watch?v=r6qmspmMvS0</td>\n      <td>We all deserve to be loved, don't we? \\nWAJOOD...</td>\n      <td>['Wajood', 'Selfhood', 'Bawra Manjhi', 'vishal...</td>\n      <td>WAJOOD (Selfhood) वजूद | Short Film | Bawra Ma...</td>\n    </tr>\n    <tr>\n      <th>680</th>\n      <td>SHIN-CHAN - HIMAWARI : शीन चैन 2 SHORT FILM | ...</td>\n      <td>DqbSXcLMr7c</td>\n      <td>Short Movie</td>\n      <td>12.00</td>\n      <td>215851</td>\n      <td>10560</td>\n      <td>https://www.youtube.com/watch?v=DqbSXcLMr7c</td>\n      <td>Shin Chan Is A Short Film About A Boy Shin Cha...</td>\n      <td>['dogs love', 'short film', 'new short film', ...</td>\n      <td>SHIN-CHAN - HIMAWARI : शीन चैन 2 SHORT FILM | ...</td>\n    </tr>\n    <tr>\n      <th>687</th>\n      <td>The Twist | Short Film | Ritvik Sahore | Susha...</td>\n      <td>AxOe5CiNydg</td>\n      <td>Short Movie</td>\n      <td>13.35</td>\n      <td>3444180</td>\n      <td>120202</td>\n      <td>https://www.youtube.com/watch?v=AxOe5CiNydg</td>\n      <td>👉🏻 SUBSCRIBE to Zee Music Company - https://bi...</td>\n      <td>['The Twist', 'short film', 'short movie', 'sh...</td>\n      <td>The Twist | Short Film | Ritvik Sahore | Susha...</td>\n    </tr>\n    <tr>\n      <th>693</th>\n      <td>ਮਾੜਾ ਸਮਾਂ true story #RishtayForever New punja...</td>\n      <td>Y5neQNTNPO8</td>\n      <td>Short Movie</td>\n      <td>10.38</td>\n      <td>10930</td>\n      <td>576</td>\n      <td>https://www.youtube.com/watch?v=Y5neQNTNPO8</td>\n      <td>Hello friends,\\nthis is Raman Saroya the owner...</td>\n      <td>['RISHTAYFOREVER', 'PUNJABI VIDEOS', 'rishtay ...</td>\n      <td>ਮਾੜਾ ਸਮਾਂ true story #RishtayForever New punja...</td>\n    </tr>\n    <tr>\n      <th>696</th>\n      <td>Award Winning Hindi Short Film | Tabeeb -The P...</td>\n      <td>CFRCAyfA1Xo</td>\n      <td>Short Movie</td>\n      <td>28.75</td>\n      <td>117603</td>\n      <td>1264</td>\n      <td>https://www.youtube.com/watch?v=CFRCAyfA1Xo</td>\n      <td>This Hindi film is story of Doctor Sushanth wh...</td>\n      <td>['short film', 'short film hindi', 'hindi shor...</td>\n      <td>Award Winning Hindi Short Film | Tabeeb -The P...</td>\n    </tr>\n  </tbody>\n</table>\n</div>"
     },
     "metadata": {},
     "execution_count": 15
    }
   ],
   "source": [
    "#filter dataframe for recommended videos:\n",
    "df[df['vid_id'].isin(recommendations)]"
   ]
  },
  {
   "cell_type": "code",
   "execution_count": null,
   "metadata": {},
   "outputs": [],
   "source": []
  }
 ]
}