{
 "metadata": {
  "language_info": {
   "codemirror_mode": {
    "name": "ipython",
    "version": 3
   },
   "file_extension": ".py",
   "mimetype": "text/x-python",
   "name": "python",
   "nbconvert_exporter": "python",
   "pygments_lexer": "ipython3",
   "version": "3.8.3-final"
  },
  "orig_nbformat": 2,
  "kernelspec": {
   "name": "Python 3.8.3 64-bit",
   "display_name": "Python 3.8.3 64-bit",
   "metadata": {
    "interpreter": {
     "hash": "1baa965d5efe3ac65b79dfc60c0d706280b1da80fedb7760faf2759126c4f253"
    }
   }
  }
 },
 "nbformat": 4,
 "nbformat_minor": 2,
 "cells": [
  {
   "source": [
    "* The Draugiem Group, which used a computer application to track the work habits of employees.\n",
    "\n",
    "    --> The ideal work rhythm was 52 minutes of work time followed by a 17-minute break.\n",
    "\n",
    "The human brain naturally works in bursts of high activity that last about an hour, and then it switches to low activity for a while. When that happens, it's in your best interest to take a break"
   ],
   "cell_type": "markdown",
   "metadata": {}
  },
  {
   "source": [
    "*  The Pomodoro Technique \n",
    "\n",
    "    --> A work sessions of 25 minutes followed by a five-minute break, with a 15-minute break at least once every two hours. \n",
    "\n",
    "Important note: To get the full benefit of a break, you must completely disconnect from work. Ideally, stand up from your desk and walk away from your computer. In fact, going for a walk is one of the most effective ways to take a break, Bradberry says."
   ],
   "cell_type": "markdown",
   "metadata": {}
  },
  {
   "cell_type": "code",
   "execution_count": 23,
   "metadata": {},
   "outputs": [
    {
     "output_type": "error",
     "ename": "SyntaxError",
     "evalue": "invalid syntax (&lt;ipython-input-23-f0d6780f25d8&gt;, line 4)",
     "traceback": [
      "\u001b[1;36m  File \u001b[1;32m&quot;&lt;ipython-input-23-f0d6780f25d8&gt;&quot;\u001b[1;36m, line \u001b[1;32m4\u001b[0m\n\u001b[1;33m    1 tomaten ronde = 25 min werk + 5 min pauze = 30 min\u001b[0m\n\u001b[1;37m      ^\u001b[0m\n\u001b[1;31mSyntaxError\u001b[0m\u001b[1;31m:\u001b[0m invalid syntax\n"
     ]
    }
   ],
   "source": [
    "import time\n",
    "import datetime as dt\n",
    "\n",
    "1 tomaten ronde = 25 min werk + 5 min pauze = 30 min\n",
    "na 4 tomaten rondes -> 15 min pauze.\n",
    "\n",
    "\n",
    "4 tomaten rondes heb je 2 uur 15 min gewerkt. \n",
    "na 8 rondes heb je 4 uur 30 min gewerkt\n",
    "\n",
    "1 uur pauze = \n",
    "\n",
    "plus nog 4 rondes -> 6 uur 45 min\n",
    "plus 1 ronde -> \n"
   ]
  },
  {
   "cell_type": "code",
   "execution_count": 2,
   "metadata": {},
   "outputs": [
    {
     "output_type": "error",
     "ename": "SyntaxError",
     "evalue": "invalid syntax (&lt;ipython-input-2-34d5186e9fef&gt;, line 1)",
     "traceback": [
      "\u001b[1;36m  File \u001b[1;32m&quot;&lt;ipython-input-2-34d5186e9fef&gt;&quot;\u001b[1;36m, line \u001b[1;32m1\u001b[0m\n\u001b[1;33m    get-pomodori 17.00\u001b[0m\n\u001b[1;37m                 ^\u001b[0m\n\u001b[1;31mSyntaxError\u001b[0m\u001b[1;31m:\u001b[0m invalid syntax\n"
     ]
    }
   ],
   "source": [
    "t_now = dt.datetime.now()\n",
    "#t_pom = time to work\n",
    "t_pom = 25*60\n",
    "t_delta = dt.timedelta(0, t_pom)\n",
    "#t_fut = time the works ends and the break starts\n",
    "t_fut = t_now + t_delta\n",
    "delta_sec = 5*60\n",
    "#t_fin = time when break is over\n",
    "t_fin= t_now + dt.timedelta(0, t_pom+delta_sec)"
   ]
  },
  {
   "cell_type": "code",
   "execution_count": 22,
   "metadata": {},
   "outputs": [],
   "source": [
    "def pomodoro(nr_of_pomodoro):\n",
    "    breaks = 0\n",
    "    pomodoro = 0\n",
    "    while True:\n",
    "        if t_now < t_fut:\n",
    "            print(\"Time to work!\")\n",
    "        elif t_fut <= t_now <= t_fin:\n",
    "            if breaks == 0:\n",
    "                print(\"break time!\")\n",
    "                #make alarm go off\n",
    "                breaks += 1\n",
    "        else:\n",
    "            print(\"finished!\")\n",
    "            breaks = 0\n",
    "            #make alarm go off\n",
    "            pomodoro += 1\n",
    "            if pomodoro != nr_of_pomodoro:\n",
    "                t_now = dt.datetime.now()\n",
    "                t_fut = t_now + dt.timedelta(0, t_pom)\n",
    "                t_fin = t_now + dt.timedelta(0, t_pom+delta_sec)\n",
    "                continue\n",
    "            elif pomodoo == nr_of_pomodoro:\n",
    "                print(\"Worday done!\")\n",
    "                break \n",
    "\n",
    "        print(\"busy working....\")\n",
    "        time.sleep(20)\n",
    "        t_now = dt.datetime.now()\n",
    "        timenow = t_now.strftime(\"%H:%M\")\n"
   ]
  },
  {
   "cell_type": "code",
   "execution_count": null,
   "metadata": {},
   "outputs": [],
   "source": []
  }
 ]
}