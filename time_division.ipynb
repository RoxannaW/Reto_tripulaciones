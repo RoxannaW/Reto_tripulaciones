{
 "metadata": {
  "language_info": {
   "codemirror_mode": {
    "name": "ipython",
    "version": 3
   },
   "file_extension": ".py",
   "mimetype": "text/x-python",
   "name": "python",
   "nbconvert_exporter": "python",
   "pygments_lexer": "ipython3",
   "version": "3.8.3-final"
  },
  "orig_nbformat": 2,
  "kernelspec": {
   "name": "Python 3.8.3 64-bit",
   "display_name": "Python 3.8.3 64-bit",
   "metadata": {
    "interpreter": {
     "hash": "1baa965d5efe3ac65b79dfc60c0d706280b1da80fedb7760faf2759126c4f253"
    }
   }
  }
 },
 "nbformat": 4,
 "nbformat_minor": 2,
 "cells": [
  {
   "source": [
    "* The Draugiem Group, which used a computer application to track the work habits of employees.\n",
    "\n",
    "    --> The ideal work rhythm was 52 minutes of work time followed by a 17-minute break.\n",
    "\n",
    "The human brain naturally works in bursts of high activity that last about an hour, and then it switches to low activity for a while. When that happens, it's in your best interest to take a break"
   ],
   "cell_type": "markdown",
   "metadata": {}
  },
  {
   "source": [
    "*  The Pomodoro Technique \n",
    "\n",
    "    --> A work sessions of 25 minutes followed by a five-minute break, with a 15-minute break at least once every two hours. \n",
    "\n",
    "Important note: To get the full benefit of a break, you must completely disconnect from work. Ideally, stand up from your desk and walk away from your computer. In fact, going for a walk is one of the most effective ways to take a break, Bradberry says."
   ],
   "cell_type": "markdown",
   "metadata": {}
  },
  {
   "cell_type": "code",
   "execution_count": 23,
   "metadata": {},
   "outputs": [
    {
     "output_type": "error",
     "ename": "SyntaxError",
     "evalue": "invalid syntax (&lt;ipython-input-23-f0d6780f25d8&gt;, line 4)",
     "traceback": [
      "\u001b[1;36m  File \u001b[1;32m&quot;&lt;ipython-input-23-f0d6780f25d8&gt;&quot;\u001b[1;36m, line \u001b[1;32m4\u001b[0m\n\u001b[1;33m    1 tomaten ronde = 25 min werk + 5 min pauze = 30 min\u001b[0m\n\u001b[1;37m      ^\u001b[0m\n\u001b[1;31mSyntaxError\u001b[0m\u001b[1;31m:\u001b[0m invalid syntax\n"
     ]
    }
   ],
   "source": [
    "\n",
    "8 uur werk + 1 uur pauze  = 9 uur in totaal.\n",
    "-----------------------------------------------\n",
    "1 tomaten ronde = 25 min werk + 5 min pauze = 30 min\n",
    "na 4 tomaten rondes -> 15 min pauze.\n",
    "\n",
    "\n",
    "4 tomaten rondes heb je 2 uur 15 min gewerkt. \n",
    "na 8 rondes heb je 4 uur 30 min gewerkt\n",
    "\n",
    "1 uur pauze = 5.30 v/d 9\n",
    "\n",
    "plus nog 4 rondes -> 7 uur 45 min  nog-> 1.15 te gaan\n",
    "na 2 tomaten rondes: 8.45\n",
    "rest afwerken. \n",
    "\n",
    "dus in totaal als 9 uur werkt: 14 tomaten rondes gedaan en 1 uur pauze. \n",
    "plus 1 ronde -> \n",
    "\n",
    "--------------------------------------------------\n",
    "8 uur werk + 11/2 uur pauze = 8.30\n",
    "\n",
    "na 8 rondes heb je 4 uur 30 min gewerkt\n",
    "\n",
    "plus pauze = 5 uur in je dag. \n",
    "\n",
    "na 4 rondes:  7.15 gewerkt > nog 1.15 te gaan\n",
    "nog 2 tomaten \n"
   ]
  },
  {
   "cell_type": "code",
   "execution_count": 1,
   "metadata": {},
   "outputs": [],
   "source": [
    "import time\n",
    "import datetime as dt\n"
   ]
  },
  {
   "cell_type": "code",
   "execution_count": 3,
   "metadata": {},
   "outputs": [],
   "source": [
    "t_now = dt.datetime.now()\n",
    "#t_pom = time to work\n",
    "t_pom = 25*60\n",
    "t_delta = dt.timedelta(0, t_pom)\n",
    "#t_fut = time the works ends and the break starts\n",
    "t_fut = t_now + t_delta\n",
    "delta_sec = 5*60\n",
    "#t_fin = time when break is over\n",
    "t_fin= t_now + dt.timedelta(0, t_pom+delta_sec)"
   ]
  },
  {
   "cell_type": "code",
   "execution_count": 9,
   "metadata": {
    "tags": []
   },
   "outputs": [
    {
     "output_type": "stream",
     "name": "stdout",
     "text": "2020-10-03 11:29:56.243938\n2020-10-03 11:54:56.243938\n"
    }
   ],
   "source": [
    "t_now\n",
    "t_pom = 25*60\n",
    "t_delta = dt.timedelta(0, t_pom)\n",
    "\n",
    "print(t_now)\n",
    "t_fut = t_now + t_delta\n",
    "print(t_fut)"
   ]
  },
  {
   "cell_type": "code",
   "execution_count": 4,
   "metadata": {},
   "outputs": [],
   "source": []
  },
  {
   "cell_type": "code",
   "execution_count": 2,
   "metadata": {},
   "outputs": [],
   "source": [
    "def pomodoro(workhours=None):\n",
    "    breaks = 0\n",
    "    big_break = 0\n",
    "\n",
    "    t_now = dt.datetime.now()\n",
    "    #t_pom = time to work\n",
    "    t_pom = 25*60\n",
    "    t_delta = dt.timedelta(0, t_pom)\n",
    "    #t_fut = time the works ends and the break starts\n",
    "    t_fut = t_now + t_delta\n",
    "        \n",
    "    work_time = int(workhours) * 60 * 60  #Change hour to parameter workhours\n",
    "    t_delta_work = dt.timedelta(0, work_time)\n",
    "    lunch_time = t_now + (t_delta_work / 2)\n",
    "    end_workday = t_now + t_delta_work\n",
    "    print(\"Time to work!\")\n",
    "    print(\"start time is:\", t_now)\n",
    "    print(\"Lunch time is:\", lunch_time)\n",
    "    print(\"End time is:\", end_workday)\n",
    "    \n",
    "\n",
    "    while True:\n",
    "\n",
    "        if not t_now >= lunch_time:\n",
    "            if t_now < t_fut:\n",
    "                print()\n",
    "            elif t_now >= t_fut:\n",
    "                if breaks != 4:\n",
    "                    print(\"break time of 5 min!\")\n",
    "                    #make alarm go off\n",
    "                    breaks += 1\n",
    "                    small_break_time = dt.timedelta(0, (5*60))\n",
    "                    end_small_break = t_now + small_break_time\n",
    "                    time.sleep(5*60)\n",
    "                    t_now = dt.datetime.now()\n",
    "                    if t_now >= end_small_break:\n",
    "                        print(\"back to work!\")\n",
    "                        t_now = dt.datetime.now()\n",
    "                        t_fut = t_now + dt.timedelta(0, t_pom)\n",
    "                        continue\n",
    "                elif breaks == 4:\n",
    "                    big_break += 1\n",
    "                    breaks = 0\n",
    "                    print(\"Time for a 15 minute break!\")\n",
    "                    big_break_time = dt.timedelta(0, (15*60))\n",
    "                    end_big_break = t_now + big_break_time\n",
    "                    time.sleep(15*60)\n",
    "                    t_now = dt.datetime.now()\n",
    "                    if t_now >= end_big_break:\n",
    "                        print(\"back to work!\")\n",
    "                        t_now = dt.datetime.now()\n",
    "                        t_fut = t_now + dt.timedelta(0, t_pom)\n",
    "                        continue\n",
    "\n",
    "        if t_now >= lunch_time:\n",
    "            lunch_time_sec = dt.timedelta(0, (1*60*60))\n",
    "            end_lunch = t_now + lunch_time_sec\n",
    "            if t_now >= lunch_time <= end_lunch:\n",
    "                print(\"Lunch time!\")\n",
    "                time.sleep(1*60*60)\n",
    "                t_now = dt.datetime.now()\n",
    "            \n",
    "                if t_now >= end_lunch:\n",
    "                    print(\"back to work!\")\n",
    "                    t_now = dt.datetime.now()\n",
    "                    t_fut = t_now + dt.timedelta(0, t_pom)\n",
    "                    continue\n",
    "            else:\n",
    "                continue\n",
    "\n",
    "        \n",
    "        if t_now >= lunch_time <= end_workday:\n",
    "            if t_now < t_fut:\n",
    "                print(\"Time to work!\")\n",
    "            elif t_now >= t_fut:\n",
    "                if breaks != 4:\n",
    "                    print(\"break time of 5 min!\")\n",
    "                    #make alarm go off\n",
    "                    breaks += 1\n",
    "                    small_break_time = dt.timedelta(0, (5*60))\n",
    "                    end_small_break = t_now + small_break_time\n",
    "                    time.sleep(5*60)\n",
    "                    t_now = dt.datetime.now()\n",
    "                    if t_now >= end_small_break:\n",
    "                        print(\"back to work!\")\n",
    "                        t_now = dt.datetime.now()\n",
    "                        t_fut = t_now + dt.timedelta(0, t_pom)\n",
    "                        continue\n",
    "                elif breaks == 4:\n",
    "                    big_break += 1\n",
    "                    breaks = 0 \n",
    "                    print(\"Time for a 15 minute break!\")\n",
    "                    big_break_time = dt.timedelta(0, (15*60))\n",
    "                    end_big_break = t_now + big_break_time\n",
    "                    time.sleep(15*60)\n",
    "                    t_now = dt.datetime.now()\n",
    "                    if t_now >= end_big_break:\n",
    "                        print(\"back to work!\")\n",
    "                        t_now = dt.datetime.now()\n",
    "                        t_fut = t_now + dt.timedelta(0, t_pom)\n",
    "                        continue\n",
    "\n",
    "        if t_now >= end_workday:\n",
    "            print(\"You reached the end of your workday. Well done!\")\n",
    "\n",
    "\n",
    "        \n",
    "\n",
    "        print(\"busy working....\")\n",
    "        time.sleep(60)\n",
    "        t_now = dt.datetime.now()\n",
    "        timenow = t_now.strftime(\"%H:%M\")\n",
    "        #print(\"Time now:\", timenow)"
   ]
  },
  {
   "cell_type": "code",
   "execution_count": 3,
   "metadata": {
    "tags": []
   },
   "outputs": [
    {
     "output_type": "stream",
     "name": "stdout",
     "text": "2020-10-03 13:17:24.487467\n2020-10-03 17:17:24.487467\n2020-10-03 21:17:24.487467\n"
    }
   ],
   "source": [
    "t_now = dt.datetime.now()\n",
    "t_pom = 25*60\n",
    "t_delta = dt.timedelta(0, work_time)\n",
    "work_time = 8 * 60 * 60\n",
    "lunch_time = t_now + (t_delta / 2)\n",
    "\n",
    "end_workday = t_now + t_delta\n",
    "print(t_now)\n",
    "print(lunch_time)\n",
    "print(end_workday)"
   ]
  },
  {
   "cell_type": "code",
   "execution_count": null,
   "metadata": {},
   "outputs": [],
   "source": []
  }
 ]
}