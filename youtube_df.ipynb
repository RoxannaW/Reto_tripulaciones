{
 "metadata": {
  "language_info": {
   "codemirror_mode": {
    "name": "ipython",
    "version": 3
   },
   "file_extension": ".py",
   "mimetype": "text/x-python",
   "name": "python",
   "nbconvert_exporter": "python",
   "pygments_lexer": "ipython3",
   "version": "3.8.3-final"
  },
  "orig_nbformat": 2,
  "kernelspec": {
   "name": "Python 3.8.3 64-bit",
   "display_name": "Python 3.8.3 64-bit",
   "metadata": {
    "interpreter": {
     "hash": "1baa965d5efe3ac65b79dfc60c0d706280b1da80fedb7760faf2759126c4f253"
    }
   }
  }
 },
 "nbformat": 4,
 "nbformat_minor": 2,
 "cells": [
  {
   "cell_type": "code",
   "execution_count": 14,
   "metadata": {},
   "outputs": [],
   "source": [
    "import re\n",
    "from datetime import timedelta\n",
    "from key_test import api_key"
   ]
  },
  {
   "cell_type": "code",
   "execution_count": 15,
   "metadata": {},
   "outputs": [],
   "source": [
    "from googleapiclient.discovery import build\n",
    "key = api_key\n",
    "youtube = build('youtube', 'v3', developerKey=key)"
   ]
  },
  {
   "cell_type": "code",
   "execution_count": 16,
   "metadata": {},
   "outputs": [
    {
     "output_type": "execute_result",
     "data": {
      "text/plain": "700"
     },
     "metadata": {},
     "execution_count": 16
    }
   ],
   "source": [
    "search_terms = ['desk workout', '5 minute workout', '10 minute workout', 'desk stretches', 'stretching exercises during work', '5 minute office workout', '5 minute guided meditation ', '10 minute guided meditation ', '15 minute guided meditation', 'short guided meditation for work ', 'ted talk', 'funny animal videos', 'funny videos', 'short movie']\n",
    "\n",
    "14 * 50"
   ]
  },
  {
   "cell_type": "code",
   "execution_count": 17,
   "metadata": {
    "tags": [
     "outputPrepend"
    ]
   },
   "outputs": [
    {
     "output_type": "stream",
     "name": "stdout",
     "text": "height&#39;: 90}, &#39;medium&#39;: {&#39;url&#39;: &#39;https://i.ytimg.com/vi/07d2dXHYb94/mqdefault.jpg&#39;, &#39;width&#39;: 320, &#39;height&#39;: 180}, &#39;high&#39;: {&#39;url&#39;: &#39;https://i.ytimg.com/vi/07d2dXHYb94/hqdefault.jpg&#39;, &#39;width&#39;: 480, &#39;height&#39;: 360}}, &#39;channelTitle&#39;: &#39;Southeastern Guide Dogs&#39;, &#39;liveBroadcastContent&#39;: &#39;none&#39;, &#39;publishTime&#39;: &#39;2018-10-24T20:00:14Z&#39;}}\n{&#39;kind&#39;: &#39;youtube#searchResult&#39;, &#39;etag&#39;: &#39;Bo6qFlg_SHLsJ4lcM5JpSJ5l2j4&#39;, &#39;id&#39;: {&#39;kind&#39;: &#39;youtube#video&#39;, &#39;videoId&#39;: &#39;LWVszQoVnGY&#39;}, &#39;snippet&#39;: {&#39;publishedAt&#39;: &#39;2019-11-29T05:30:00Z&#39;, &#39;channelId&#39;: &#39;UCWnTC8o8AycL6a2eRrKSdBg&#39;, &#39;title&#39;: &#39;Hindi Touching Short Film - Baalak | An emotional drama filled with sentiments &amp;amp; emotions&#39;, &#39;description&#39;: &#39;A film about a girl moving to Kolkata for her new job. She chooses a hotel for overnight stay where an incident makes her realize that life revolves in a circle and ...&#39;, &#39;thumbnails&#39;: {&#39;default&#39;: {&#39;url&#39;: &#39;https://i.ytimg.com/vi/LWVszQoVnGY/default.jpg&#39;, &#39;width&#39;: 120, &#39;height&#39;: 90}, &#39;medium&#39;: {&#39;url&#39;: &#39;https://i.ytimg.com/vi/LWVszQoVnGY/mqdefault.jpg&#39;, &#39;width&#39;: 320, &#39;height&#39;: 180}, &#39;high&#39;: {&#39;url&#39;: &#39;https://i.ytimg.com/vi/LWVszQoVnGY/hqdefault.jpg&#39;, &#39;width&#39;: 480, &#39;height&#39;: 360}}, &#39;channelTitle&#39;: &#39;Pocket Films - Indian Short Films&#39;, &#39;liveBroadcastContent&#39;: &#39;none&#39;, &#39;publishTime&#39;: &#39;2019-11-29T05:30:00Z&#39;}}\n{&#39;kind&#39;: &#39;youtube#searchResult&#39;, &#39;etag&#39;: &#39;Yq7PWMzcuvptxX9VViYJtNt_rhY&#39;, &#39;id&#39;: {&#39;kind&#39;: &#39;youtube#video&#39;, &#39;videoId&#39;: &#39;3_DQmfFjTlU&#39;}, &#39;snippet&#39;: {&#39;publishedAt&#39;: &#39;2019-08-09T16:00:00Z&#39;, &#39;channelId&#39;: &#39;UCMOB6uDg7e-h8OuCw8dK2_Q&#39;, &#39;title&#39;: &#39;Horror Short Film “Backstroke” | ALTER&#39;, &#39;description&#39;: &quot;You can&#39;t see what&#39;s below the surface. “Backstroke” by Robbie Barclay Subscribe to ALTER on YouTube: https://goo.gl/LnXRC3 #ALTER #horror #shortfilm ...&quot;, &#39;thumbnails&#39;: {&#39;default&#39;: {&#39;url&#39;: &#39;https://i.ytimg.com/vi/3_DQmfFjTlU/default.jpg&#39;, &#39;width&#39;: 120, &#39;height&#39;: 90}, &#39;medium&#39;: {&#39;url&#39;: &#39;https://i.ytimg.com/vi/3_DQmfFjTlU/mqdefault.jpg&#39;, &#39;width&#39;: 320, &#39;height&#39;: 180}, &#39;high&#39;: {&#39;url&#39;: &#39;https://i.ytimg.com/vi/3_DQmfFjTlU/hqdefault.jpg&#39;, &#39;width&#39;: 480, &#39;height&#39;: 360}}, &#39;channelTitle&#39;: &#39;ALTER&#39;, &#39;liveBroadcastContent&#39;: &#39;none&#39;, &#39;publishTime&#39;: &#39;2019-08-09T16:00:00Z&#39;}}\n{&#39;kind&#39;: &#39;youtube#searchResult&#39;, &#39;etag&#39;: &#39;0219FhNhAa61-hSffeBKBrkz3iw&#39;, &#39;id&#39;: {&#39;kind&#39;: &#39;youtube#video&#39;, &#39;videoId&#39;: &#39;CC6HuEpPUE4&#39;}, &#39;snippet&#39;: {&#39;publishedAt&#39;: &#39;2020-09-30T11:30:01Z&#39;, &#39;channelId&#39;: &#39;UCnmc_PeDpqp5ww2PcB4dU9w&#39;, &#39;title&#39;: &#39;Haba Goba | Tridha Choudhury and Ritwik Bhowmik | Short Film | TTT&#39;, &#39;description&#39;: &#39;Tap CC icon for subtitles* Getting intimate takes a lot of planning in &quot;these times&quot;. Nandini and Kush have done all that and more for their &quot;special&quot; date. But will ...&#39;, &#39;thumbnails&#39;: {&#39;default&#39;: {&#39;url&#39;: &#39;https://i.ytimg.com/vi/CC6HuEpPUE4/default.jpg&#39;, &#39;width&#39;: 120, &#39;height&#39;: 90}, &#39;medium&#39;: {&#39;url&#39;: &#39;https://i.ytimg.com/vi/CC6HuEpPUE4/mqdefault.jpg&#39;, &#39;width&#39;: 320, &#39;height&#39;: 180}, &#39;high&#39;: {&#39;url&#39;: &#39;https://i.ytimg.com/vi/CC6HuEpPUE4/hqdefault.jpg&#39;, &#39;width&#39;: 480, &#39;height&#39;: 360}}, &#39;channelTitle&#39;: &#39;Terribly Tiny Tales&#39;, &#39;liveBroadcastContent&#39;: &#39;none&#39;, &#39;publishTime&#39;: &#39;2020-09-30T11:30:01Z&#39;}}\n{&#39;kind&#39;: &#39;youtube#searchResult&#39;, &#39;etag&#39;: &#39;Jgf_-ljimGZH26mzlKlWJtpsLCc&#39;, &#39;id&#39;: {&#39;kind&#39;: &#39;youtube#video&#39;, &#39;videoId&#39;: &#39;AxOe5CiNydg&#39;}, &#39;snippet&#39;: {&#39;publishedAt&#39;: &#39;2020-04-29T06:31:16Z&#39;, &#39;channelId&#39;: &#39;UCFFbwnve3yF62-tVXkTyHqg&#39;, &#39;title&#39;: &#39;The Twist | Short Film | Ritvik Sahore | Sushama Deshpande | Gayatri Salkar | Uttara Krishnadas&#39;, &#39;description&#39;: &#39;SUBSCRIBE to Zee Music Company - https://bit.ly/2yPcBkS What happens when the most popular girl from your school asks you for a favour? Watch Shlok battle ...&#39;, &#39;thumbnails&#39;: {&#39;default&#39;: {&#39;url&#39;: &#39;https://i.ytimg.com/vi/AxOe5CiNydg/default.jpg&#39;, &#39;width&#39;: 120, &#39;height&#39;: 90}, &#39;medium&#39;: {&#39;url&#39;: &#39;https://i.ytimg.com/vi/AxOe5CiNydg/mqdefault.jpg&#39;, &#39;width&#39;: 320, &#39;height&#39;: 180}, &#39;high&#39;: {&#39;url&#39;: &#39;https://i.ytimg.com/vi/AxOe5CiNydg/hqdefault.jpg&#39;, &#39;width&#39;: 480, &#39;height&#39;: 360}}, &#39;channelTitle&#39;: &#39;Zee Music Company&#39;, &#39;liveBroadcastContent&#39;: &#39;none&#39;, &#39;publishTime&#39;: &#39;2020-04-29T06:31:16Z&#39;}}\n{&#39;kind&#39;: &#39;youtube#searchResult&#39;, &#39;etag&#39;: &#39;yLYX_jIlYElpcnOZuZuVx2WTvIQ&#39;, &#39;id&#39;: {&#39;kind&#39;: &#39;youtube#video&#39;, &#39;videoId&#39;: &#39;t8TC8sosVXs&#39;}, &#39;snippet&#39;: {&#39;publishedAt&#39;: &#39;2020-09-30T02:33:13Z&#39;, &#39;channelId&#39;: &#39;UCYrhJG8HinSv9fUz0tJTqmw&#39;, &#39;title&#39;: &#39;ਨਜਾਇਜ਼ ਸਬੰਧ ਮੈਡਮ ਨਾਲ Nazayaz Sambandh punjabi short movie Angad tv Abhepur&#39;, &#39;description&#39;: &#39;Download Nostra Pro App &amp; Earn Money with your Sports Knowledge. App Link - http://bit.ly/NostraS Download to get Rs 100 Sign up Bonus only for my Users ...&#39;, &#39;thumbnails&#39;: {&#39;default&#39;: {&#39;url&#39;: &#39;https://i.ytimg.com/vi/t8TC8sosVXs/default.jpg&#39;, &#39;width&#39;: 120, &#39;height&#39;: 90}, &#39;medium&#39;: {&#39;url&#39;: &#39;https://i.ytimg.com/vi/t8TC8sosVXs/mqdefault.jpg&#39;, &#39;width&#39;: 320, &#39;height&#39;: 180}, &#39;high&#39;: {&#39;url&#39;: &#39;https://i.ytimg.com/vi/t8TC8sosVXs/hqdefault.jpg&#39;, &#39;width&#39;: 480, &#39;height&#39;: 360}}, &#39;channelTitle&#39;: &#39;Angad tv Abhepur&#39;, &#39;liveBroadcastContent&#39;: &#39;none&#39;, &#39;publishTime&#39;: &#39;2020-09-30T02:33:13Z&#39;}}\n{&#39;kind&#39;: &#39;youtube#searchResult&#39;, &#39;etag&#39;: &#39;yI6wyCqCQkFsNMVFjUHi9VLu_Hs&#39;, &#39;id&#39;: {&#39;kind&#39;: &#39;youtube#video&#39;, &#39;videoId&#39;: &#39;KbpQM3NiJrI&#39;}, &#39;snippet&#39;: {&#39;publishedAt&#39;: &#39;2020-07-18T09:30:10Z&#39;, &#39;channelId&#39;: &#39;UCKdX5TtJb6urNG1xEcDOeuQ&#39;, &#39;title&#39;: &#39;Royal Stag Barrel Select Large Short Films | The Relationship Manager | Falguni Thakore&#39;, &#39;description&#39;: &quot;Relationships are never easy. And making adjustments aren&#39;t always the answer. Watch now- &#39;The Relationship Manager&#39;, a hard-hitting tale by ...&quot;, &#39;thumbnails&#39;: {&#39;default&#39;: {&#39;url&#39;: &#39;https://i.ytimg.com/vi/KbpQM3NiJrI/default.jpg&#39;, &#39;width&#39;: 120, &#39;height&#39;: 90}, &#39;medium&#39;: {&#39;url&#39;: &#39;https://i.ytimg.com/vi/KbpQM3NiJrI/mqdefault.jpg&#39;, &#39;width&#39;: 320, &#39;height&#39;: 180}, &#39;high&#39;: {&#39;url&#39;: &#39;https://i.ytimg.com/vi/KbpQM3NiJrI/hqdefault.jpg&#39;, &#39;width&#39;: 480, &#39;height&#39;: 360}}, &#39;channelTitle&#39;: &#39;LargeShortFilms&#39;, &#39;liveBroadcastContent&#39;: &#39;none&#39;, &#39;publishTime&#39;: &#39;2020-07-18T09:30:10Z&#39;}}\n{&#39;kind&#39;: &#39;youtube#searchResult&#39;, &#39;etag&#39;: &#39;5of5CkONEPosUemLYsvaVCtwQ1Q&#39;, &#39;id&#39;: {&#39;kind&#39;: &#39;youtube#video&#39;, &#39;videoId&#39;: &#39;2KP0aDTVtFI&#39;}, &#39;snippet&#39;: {&#39;publishedAt&#39;: &#39;2020-03-02T10:30:03Z&#39;, &#39;channelId&#39;: &#39;UCKdX5TtJb6urNG1xEcDOeuQ&#39;, &#39;title&#39;: &#39;Devi | Kajol | Royal Stag Barrel Select Large Short Films&#39;, &#39;description&#39;: &#39;A tale of sisterhood. A tale of suffering. A tale of truth. Watch Devi, a powerful short by #PriyankaBanerjee &amp; produced by Electric Apples Entertainment.&#39;, &#39;thumbnails&#39;: {&#39;default&#39;: {&#39;url&#39;: &#39;https://i.ytimg.com/vi/2KP0aDTVtFI/default.jpg&#39;, &#39;width&#39;: 120, &#39;height&#39;: 90}, &#39;medium&#39;: {&#39;url&#39;: &#39;https://i.ytimg.com/vi/2KP0aDTVtFI/mqdefault.jpg&#39;, &#39;width&#39;: 320, &#39;height&#39;: 180}, &#39;high&#39;: {&#39;url&#39;: &#39;https://i.ytimg.com/vi/2KP0aDTVtFI/hqdefault.jpg&#39;, &#39;width&#39;: 480, &#39;height&#39;: 360}}, &#39;channelTitle&#39;: &#39;LargeShortFilms&#39;, &#39;liveBroadcastContent&#39;: &#39;none&#39;, &#39;publishTime&#39;: &#39;2020-03-02T10:30:03Z&#39;}}\n{&#39;kind&#39;: &#39;youtube#searchResult&#39;, &#39;etag&#39;: &#39;C4fzfUdIABE2ZLHcnaSG_PA6A5Q&#39;, &#39;id&#39;: {&#39;kind&#39;: &#39;youtube#video&#39;, &#39;videoId&#39;: &#39;vD5Pvzt8KS0&#39;}, &#39;snippet&#39;: {&#39;publishedAt&#39;: &#39;2020-09-05T12:00:12Z&#39;, &#39;channelId&#39;: &#39;UCrVeKMF9m2VbACbIwlu86BQ&#39;, &#39;title&#39;: &#39;Short Movie - KUYUP (2020)&#39;, &#39;description&#39;: &#39;GJLS Channel berkerjasama dengan Make Creative Studio untuk menghibur para penonton. Cast Ananta Rispo sebagai Dirinya sendiri Arif Alfiansyah sebagai ...&#39;, &#39;thumbnails&#39;: {&#39;default&#39;: {&#39;url&#39;: &#39;https://i.ytimg.com/vi/vD5Pvzt8KS0/default.jpg&#39;, &#39;width&#39;: 120, &#39;height&#39;: 90}, &#39;medium&#39;: {&#39;url&#39;: &#39;https://i.ytimg.com/vi/vD5Pvzt8KS0/mqdefault.jpg&#39;, &#39;width&#39;: 320, &#39;height&#39;: 180}, &#39;high&#39;: {&#39;url&#39;: &#39;https://i.ytimg.com/vi/vD5Pvzt8KS0/hqdefault.jpg&#39;, &#39;width&#39;: 480, &#39;height&#39;: 360}}, &#39;channelTitle&#39;: &#39;GJLS channel&#39;, &#39;liveBroadcastContent&#39;: &#39;none&#39;, &#39;publishTime&#39;: &#39;2020-09-05T12:00:12Z&#39;}}\n{&#39;kind&#39;: &#39;youtube#searchResult&#39;, &#39;etag&#39;: &#39;_htLxBEGcOITla1X235dZkt7lKk&#39;, &#39;id&#39;: {&#39;kind&#39;: &#39;youtube#video&#39;, &#39;videoId&#39;: &#39;kNw8V_Fkw28&#39;}, &#39;snippet&#39;: {&#39;publishedAt&#39;: &#39;2019-12-05T14:00:12Z&#39;, &#39;channelId&#39;: &#39;UCnLuLSV-Oi0ctqjxGgxFlmg&#39;, &#39;title&#39;: &#39;Hair Love | Oscar®-Winning Short Film (Full) | Sony Pictures Animation&#39;, &#39;description&#39;: &quot;Hair Love, an Oscar®-winning animated short film from Matthew A. Cherry, tells the heartfelt story of an African American father learning to do his daughter&#39;s hair ...&quot;, &#39;thumbnails&#39;: {&#39;default&#39;: {&#39;url&#39;: &#39;https://i.ytimg.com/vi/kNw8V_Fkw28/default.jpg&#39;, &#39;width&#39;: 120, &#39;height&#39;: 90}, &#39;medium&#39;: {&#39;url&#39;: &#39;https://i.ytimg.com/vi/kNw8V_Fkw28/mqdefault.jpg&#39;, &#39;width&#39;: 320, &#39;height&#39;: 180}, &#39;high&#39;: {&#39;url&#39;: &#39;https://i.ytimg.com/vi/kNw8V_Fkw28/hqdefault.jpg&#39;, &#39;width&#39;: 480, &#39;height&#39;: 360}}, &#39;channelTitle&#39;: &#39;Sony Pictures Animation&#39;, &#39;liveBroadcastContent&#39;: &#39;none&#39;, &#39;publishTime&#39;: &#39;2019-12-05T14:00:12Z&#39;}}\n{&#39;kind&#39;: &#39;youtube#searchResult&#39;, &#39;etag&#39;: &#39;1JBaWk4Mb_sPUxoYbgm-EtdYq2Q&#39;, &#39;id&#39;: {&#39;kind&#39;: &#39;youtube#video&#39;, &#39;videoId&#39;: &#39;Y5neQNTNPO8&#39;}, &#39;snippet&#39;: {&#39;publishedAt&#39;: &#39;2020-10-03T10:46:08Z&#39;, &#39;channelId&#39;: &#39;UCbaC4CYzbiBRZmN5bBp07kA&#39;, &#39;title&#39;: &#39;ਮਾੜਾ ਸਮਾਂ true story #RishtayForever New punjabi short film&#39;, &#39;description&#39;: &#39;Hello friends, this is Raman Saroya the owner of @RISHTAY FOREVER Thank you for clicking and viewing my YouTube channel. @Mr Mrs Saroya Vlogs About ...&#39;, &#39;thumbnails&#39;: {&#39;default&#39;: {&#39;url&#39;: &#39;https://i.ytimg.com/vi/Y5neQNTNPO8/default.jpg&#39;, &#39;width&#39;: 120, &#39;height&#39;: 90}, &#39;medium&#39;: {&#39;url&#39;: &#39;https://i.ytimg.com/vi/Y5neQNTNPO8/mqdefault.jpg&#39;, &#39;width&#39;: 320, &#39;height&#39;: 180}, &#39;high&#39;: {&#39;url&#39;: &#39;https://i.ytimg.com/vi/Y5neQNTNPO8/hqdefault.jpg&#39;, &#39;width&#39;: 480, &#39;height&#39;: 360}}, &#39;channelTitle&#39;: &#39;RISHTAY FOREVER&#39;, &#39;liveBroadcastContent&#39;: &#39;none&#39;, &#39;publishTime&#39;: &#39;2020-10-03T10:46:08Z&#39;}}\n{&#39;kind&#39;: &#39;youtube#searchResult&#39;, &#39;etag&#39;: &#39;Q_C9TspquS8SUeD2CMy2CmmtSdI&#39;, &#39;id&#39;: {&#39;kind&#39;: &#39;youtube#video&#39;, &#39;videoId&#39;: &#39;_Sr11Bwsrs0&#39;}, &#39;snippet&#39;: {&#39;publishedAt&#39;: &#39;2020-08-09T22:58:01Z&#39;, &#39;channelId&#39;: &#39;UC-aLolhjMo7qyu3I7TFS6Bw&#39;, &#39;title&#39;: &#39;DOORBELL - a short film | SHOR Films&#39;, &#39;description&#39;: &#39;&quot;Doorbell&quot; is a short film based on domestic violence produced by SHOR films, sadly domestic violence in Pakistan can be seen from 30 to 50% of the whole ...&#39;, &#39;thumbnails&#39;: {&#39;default&#39;: {&#39;url&#39;: &#39;https://i.ytimg.com/vi/_Sr11Bwsrs0/default.jpg&#39;, &#39;width&#39;: 120, &#39;height&#39;: 90}, &#39;medium&#39;: {&#39;url&#39;: &#39;https://i.ytimg.com/vi/_Sr11Bwsrs0/mqdefault.jpg&#39;, &#39;width&#39;: 320, &#39;height&#39;: 180}, &#39;high&#39;: {&#39;url&#39;: &#39;https://i.ytimg.com/vi/_Sr11Bwsrs0/hqdefault.jpg&#39;, &#39;width&#39;: 480, &#39;height&#39;: 360}}, &#39;channelTitle&#39;: &#39;Fahad Qaseem&#39;, &#39;liveBroadcastContent&#39;: &#39;none&#39;, &#39;publishTime&#39;: &#39;2020-08-09T22:58:01Z&#39;}}\n{&#39;kind&#39;: &#39;youtube#searchResult&#39;, &#39;etag&#39;: &#39;szxDHa46IzNnW2b5dTeSG7EY43c&#39;, &#39;id&#39;: {&#39;kind&#39;: &#39;youtube#video&#39;, &#39;videoId&#39;: &#39;ujsI95u7jn4&#39;}, &#39;snippet&#39;: {&#39;publishedAt&#39;: &#39;2020-10-02T11:15:04Z&#39;, &#39;channelId&#39;: &#39;UCIqUEUngDpkY47xeB9RrHVQ&#39;, &#39;title&#39;: &#39;Wife In Private Party | Married Couple | Hindi Short Film&#39;, &#39;description&#39;: &quot;An opportunistic, sycophantic man takes his unwilling wife to an office party only to discover that his boss&#39;s wife used to be his ex-girlfriend, whom he had ...&quot;, &#39;thumbnails&#39;: {&#39;default&#39;: {&#39;url&#39;: &#39;https://i.ytimg.com/vi/ujsI95u7jn4/default.jpg&#39;, &#39;width&#39;: 120, &#39;height&#39;: 90}, &#39;medium&#39;: {&#39;url&#39;: &#39;https://i.ytimg.com/vi/ujsI95u7jn4/mqdefault.jpg&#39;, &#39;width&#39;: 320, &#39;height&#39;: 180}, &#39;high&#39;: {&#39;url&#39;: &#39;https://i.ytimg.com/vi/ujsI95u7jn4/hqdefault.jpg&#39;, &#39;width&#39;: 480, &#39;height&#39;: 360}}, &#39;channelTitle&#39;: &#39;Bollywood Box&#39;, &#39;liveBroadcastContent&#39;: &#39;none&#39;, &#39;publishTime&#39;: &#39;2020-10-02T11:15:04Z&#39;}}\n{&#39;kind&#39;: &#39;youtube#searchResult&#39;, &#39;etag&#39;: &#39;iqbJMN_n1fsb6X_uM0fPCcORcQM&#39;, &#39;id&#39;: {&#39;kind&#39;: &#39;youtube#video&#39;, &#39;videoId&#39;: &#39;CFRCAyfA1Xo&#39;}, &#39;snippet&#39;: {&#39;publishedAt&#39;: &#39;2020-09-12T05:27:26Z&#39;, &#39;channelId&#39;: &#39;UCpmlqW9RIQPqdwh-u0jNPiw&#39;, &#39;title&#39;: &#39;Award Winning Hindi Short Film | Tabeeb -The Physician | Six Sigma Films&#39;, &#39;description&#39;: &#39;This Hindi film is story of Doctor Sushanth who believes in humanity and risked his career to save a girl Gargi Ghosh. After her studies she starts to work as a ...&#39;, &#39;thumbnails&#39;: {&#39;default&#39;: {&#39;url&#39;: &#39;https://i.ytimg.com/vi/CFRCAyfA1Xo/default.jpg&#39;, &#39;width&#39;: 120, &#39;height&#39;: 90}, &#39;medium&#39;: {&#39;url&#39;: &#39;https://i.ytimg.com/vi/CFRCAyfA1Xo/mqdefault.jpg&#39;, &#39;width&#39;: 320, &#39;height&#39;: 180}, &#39;high&#39;: {&#39;url&#39;: &#39;https://i.ytimg.com/vi/CFRCAyfA1Xo/hqdefault.jpg&#39;, &#39;width&#39;: 480, &#39;height&#39;: 360}}, &#39;channelTitle&#39;: &#39;Six Sigma Films&#39;, &#39;liveBroadcastContent&#39;: &#39;none&#39;, &#39;publishTime&#39;: &#39;2020-09-12T05:27:26Z&#39;}}\n{&#39;kind&#39;: &#39;youtube#searchResult&#39;, &#39;etag&#39;: &#39;KTE34wHwrj_b2CdsAujo0FPQr7k&#39;, &#39;id&#39;: {&#39;kind&#39;: &#39;youtube#video&#39;, &#39;videoId&#39;: &#39;Xnu7TzNbMGc&#39;}, &#39;snippet&#39;: {&#39;publishedAt&#39;: &#39;2020-10-04T05:30:02Z&#39;, &#39;channelId&#39;: &#39;UCt_KDu-DtBqvIw7X-V7mlmQ&#39;, &#39;title&#39;: &#39;Monster Under Pari&amp;#39;s Sofa | Funny Short Film /Story | Pari&amp;#39;s Lifestyle&#39;, &#39;description&#39;: &#39;Hello friends today we are posting very interesting and funny video for you. Do like and share my video with your friends. Do Follow My Instagram ...&#39;, &#39;thumbnails&#39;: {&#39;default&#39;: {&#39;url&#39;: &#39;https://i.ytimg.com/vi/Xnu7TzNbMGc/default.jpg&#39;, &#39;width&#39;: 120, &#39;height&#39;: 90}, &#39;medium&#39;: {&#39;url&#39;: &#39;https://i.ytimg.com/vi/Xnu7TzNbMGc/mqdefault.jpg&#39;, &#39;width&#39;: 320, &#39;height&#39;: 180}, &#39;high&#39;: {&#39;url&#39;: &#39;https://i.ytimg.com/vi/Xnu7TzNbMGc/hqdefault.jpg&#39;, &#39;width&#39;: 480, &#39;height&#39;: 360}}, &#39;channelTitle&#39;: &quot;Pari&#39;s Lifestyle&quot;, &#39;liveBroadcastContent&#39;: &#39;none&#39;, &#39;publishTime&#39;: &#39;2020-10-04T05:30:02Z&#39;}}\n{&#39;kind&#39;: &#39;youtube#searchResult&#39;, &#39;etag&#39;: &#39;HXldPvsYIyZQ7rjEwHJVPQFw-OA&#39;, &#39;id&#39;: {&#39;kind&#39;: &#39;youtube#video&#39;, &#39;videoId&#39;: &#39;tD1JF7iqsjs&#39;}, &#39;snippet&#39;: {&#39;publishedAt&#39;: &#39;2020-05-09T02:00:14Z&#39;, &#39;channelId&#39;: &#39;UCrizWNKiL-iP72MulX5C3CA&#39;, &#39;title&#39;: &#39;Suara Kirana (2020) - OFFICIAL SHORT MOVIE&#39;, &#39;description&#39;: &#39;Setelah melihat berita viral tentang remaja yang hilang di pantai Cisolok, Anggi (17) dan Indra (17) memutuskan untuk meliput peristiwa tersebut untuk tugas ...&#39;, &#39;thumbnails&#39;: {&#39;default&#39;: {&#39;url&#39;: &#39;https://i.ytimg.com/vi/tD1JF7iqsjs/default.jpg&#39;, &#39;width&#39;: 120, &#39;height&#39;: 90}, &#39;medium&#39;: {&#39;url&#39;: &#39;https://i.ytimg.com/vi/tD1JF7iqsjs/mqdefault.jpg&#39;, &#39;width&#39;: 320, &#39;height&#39;: 180}, &#39;high&#39;: {&#39;url&#39;: &#39;https://i.ytimg.com/vi/tD1JF7iqsjs/hqdefault.jpg&#39;, &#39;width&#39;: 480, &#39;height&#39;: 360}}, &#39;channelTitle&#39;: &#39;Plan Indonesia Official Channel&#39;, &#39;liveBroadcastContent&#39;: &#39;none&#39;, &#39;publishTime&#39;: &#39;2020-05-09T02:00:14Z&#39;}}\n{&#39;kind&#39;: &#39;youtube#searchResult&#39;, &#39;etag&#39;: &#39;rOrbTRcchWJrj_bdJ69ThxNLeDU&#39;, &#39;id&#39;: {&#39;kind&#39;: &#39;youtube#video&#39;, &#39;videoId&#39;: &#39;2rez70TaUq4&#39;}, &#39;snippet&#39;: {&#39;publishedAt&#39;: &#39;2020-10-02T11:30:00Z&#39;, &#39;channelId&#39;: &#39;UCK-llMZ6bHi9x1oVv2vOK6g&#39;, &#39;title&#39;: &#39;Michael - Tamil Official Short Film | Tea Podu&#39;, &#39;description&#39;: &#39;Michael - A Suspense Thriller Short Film with Comedy Mixed. Cast - Himak Anver ,Baeboy, Umar, Muhammed , Ziyad , Inaz , Musharraf, Fazeel, Shakir, ...&#39;, &#39;thumbnails&#39;: {&#39;default&#39;: {&#39;url&#39;: &#39;https://i.ytimg.com/vi/2rez70TaUq4/default.jpg&#39;, &#39;width&#39;: 120, &#39;height&#39;: 90}, &#39;medium&#39;: {&#39;url&#39;: &#39;https://i.ytimg.com/vi/2rez70TaUq4/mqdefault.jpg&#39;, &#39;width&#39;: 320, &#39;height&#39;: 180}, &#39;high&#39;: {&#39;url&#39;: &#39;https://i.ytimg.com/vi/2rez70TaUq4/hqdefault.jpg&#39;, &#39;width&#39;: 480, &#39;height&#39;: 360}}, &#39;channelTitle&#39;: &#39;Tea Podu&#39;, &#39;liveBroadcastContent&#39;: &#39;none&#39;, &#39;publishTime&#39;: &#39;2020-10-02T11:30:00Z&#39;}}\n700\n700\n"
    }
   ],
   "source": [
    "#Get videos id and titles for all videos in all the search terms.\n",
    "\n",
    "vid_id = []\n",
    "vid_title = []\n",
    "category = []\n",
    "\n",
    "for elem in search_terms:\n",
    "    request_vid = youtube.search().list(\n",
    "                    q = elem,\n",
    "                    part='snippet',\n",
    "                    type='video',\n",
    "                    maxResults=50\n",
    "                    \n",
    "\n",
    "\n",
    "    )\n",
    "\n",
    "    response_vid = request_vid.execute()\n",
    "   \n",
    "    for item in response_vid['items']:\n",
    "\n",
    "        if 'workout' in elem:\n",
    "            category.append('Workout')\n",
    "        if 'stretch' in elem:\n",
    "            category.append('Stretch')\n",
    "        if 'meditation' in elem:\n",
    "            category.append('Meditation')\n",
    "        if 'talk' in elem:\n",
    "            category.append('Educational')\n",
    "        if 'funny' in elem:\n",
    "            category.append('Funny')\n",
    "        if 'movie' in elem:\n",
    "            category.append('Short Movie')\n",
    "\n",
    "        print(item)\n",
    "        vid_id.append(item['id']['videoId'])\n",
    "        vid_title.append(item['snippet']['title'])\n",
    "\n",
    "print(len(vid_title))\n",
    "print(len(vid_id))\n",
    "\n",
    "#hier ook de tags zoeken en toevoegen!\n",
    "    "
   ]
  },
  {
   "cell_type": "code",
   "execution_count": 78,
   "metadata": {
    "tags": []
   },
   "outputs": [],
   "source": [
    "#getting description and tags of each video. \n",
    "descriptions = []\n",
    "tags = []\n",
    "\n",
    "for elem in vid_id:\n",
    "    vid_request = youtube.videos().list(\n",
    "                part='snippet',\n",
    "                id= elem\n",
    "        )\n",
    "\n",
    "    vid_response = vid_request.execute()\n",
    "    for elem in vid_response['items']:\n",
    "        descriptions.append(elem['snippet']['description'])\n",
    "        if 'tags' in elem['snippet']:\n",
    "            tags.append(elem['snippet']['tags'])\n",
    "        else: \n",
    "            tags.append(None)\n"
   ]
  },
  {
   "cell_type": "code",
   "execution_count": 18,
   "metadata": {
    "tags": []
   },
   "outputs": [
    {
     "output_type": "stream",
     "name": "stdout",
     "text": "700\n"
    }
   ],
   "source": [
    "#getting url of the videos\n",
    "url = []\n",
    "start_point = 'https://www.youtube.com/watch?v='\n",
    "for elem in vid_id:\n",
    "    url.append(start_point + elem)\n",
    "print(len(url))"
   ]
  },
  {
   "cell_type": "code",
   "execution_count": 19,
   "metadata": {
    "tags": []
   },
   "outputs": [
    {
     "output_type": "stream",
     "name": "stdout",
     "text": "700\n"
    }
   ],
   "source": [
    "#Getting length of the videos\n",
    "duration_in_minutes = []\n",
    "#for elem in vid_id:\n",
    "for elem in vid_id:\n",
    "    vid_request = youtube.videos().list(\n",
    "            part='contentDetails',\n",
    "            id= elem\n",
    "    )\n",
    "\n",
    "\n",
    "    vid_response = vid_request.execute()\n",
    "\n",
    "    for item in vid_response['items']:\n",
    "        duration = item['contentDetails']['duration']\n",
    "\n",
    "        \n",
    "        hours_pattern = re.compile(r'(\\d+)H')\n",
    "        minutes_pattern = re.compile(r'(\\d+)M')\n",
    "        seconds_pattern = re.compile(r'(\\d+)S')\n",
    "\n",
    "\n",
    "        hours = hours_pattern.search(duration)\n",
    "        minutes = minutes_pattern.search(duration)\n",
    "        seconds = seconds_pattern.search(duration)\n",
    "\n",
    "        hours = int(hours.group(1)) if hours else 0\n",
    "        minutes = int(minutes.group(1)) if minutes else 0\n",
    "        seconds = int(seconds.group(1)) if seconds else 0\n",
    "        \n",
    "        video_minutes = round(timedelta(\n",
    "            hours = hours,\n",
    "            minutes= minutes,\n",
    "            seconds= seconds\n",
    "        ).total_seconds() / 60, 2)\n",
    "\n",
    "        \n",
    "        duration_in_minutes.append(video_minutes)\n",
    "\n",
    "print(len(duration_in_minutes))\n"
   ]
  },
  {
   "cell_type": "code",
   "execution_count": 20,
   "metadata": {
    "tags": []
   },
   "outputs": [
    {
     "output_type": "stream",
     "name": "stdout",
     "text": "700\n700\n"
    }
   ],
   "source": [
    "#get the likes of a video\n",
    "likes = []\n",
    "views = []\n",
    "#for elem in vid_id:\n",
    "\n",
    "for elem in vid_id:\n",
    "    vid_request_likes = youtube.videos().list(\n",
    "            part='statistics',\n",
    "            id= elem\n",
    "    )\n",
    "\n",
    "\n",
    "    vid_response_likes = vid_request_likes.execute()\n",
    "            \n",
    "            \n",
    "\n",
    "    for item in vid_response_likes['items']:\n",
    "        views.append(item['statistics']['viewCount'])\n",
    "        if 'likeCount' in item['statistics']:\n",
    "                likes.append(item['statistics']['likeCount']) #Some videos don't have like coun\n",
    "        else:\n",
    "                likes.append(0)\n",
    "\n",
    "print(len(likes))\n",
    "print(len(views))"
   ]
  },
  {
   "cell_type": "code",
   "execution_count": 20,
   "metadata": {},
   "outputs": [
    {
     "output_type": "execute_result",
     "data": {
      "text/plain": "&#39;5zjZIHsHuDI&#39;"
     },
     "metadata": {},
     "execution_count": 20
    }
   ],
   "source": [
    "vid_id[0]"
   ]
  },
  {
   "cell_type": "code",
   "execution_count": 79,
   "metadata": {},
   "outputs": [],
   "source": [
    "import pandas as pd\n",
    "content_df = pd.DataFrame({'vid_title' : vid_title,\n",
    "                                'vid_id' : vid_id,\n",
    "                                'category' : category,\n",
    "                                'duration': duration_in_minutes,\n",
    "                                'views' : views,\n",
    "                                'likes': likes,\n",
    "                                'url': url,\n",
    "                                'description': descriptions,\n",
    "                                'tags' : tags}, \n",
    "                                columns=['vid_title','vid_id', 'category', 'duration', 'views', 'likes', 'url', 'description', 'tags'])"
   ]
  },
  {
   "cell_type": "code",
   "execution_count": 99,
   "metadata": {},
   "outputs": [
    {
     "output_type": "execute_result",
     "data": {
      "text/plain": "(44, 9)"
     },
     "metadata": {},
     "execution_count": 99
    }
   ],
   "source": [
    "#Finding duplicated rows\n",
    "dupl1 = content_df[content_df.drop('tags', axis=1).duplicated() == True]\n",
    "dupl1.shape"
   ]
  },
  {
   "cell_type": "code",
   "execution_count": 100,
   "metadata": {},
   "outputs": [
    {
     "output_type": "execute_result",
     "data": {
      "text/plain": "(700, 9)"
     },
     "metadata": {},
     "execution_count": 100
    }
   ],
   "source": [
    "content_df.shape"
   ]
  },
  {
   "cell_type": "code",
   "execution_count": 1,
   "metadata": {},
   "outputs": [
    {
     "output_type": "error",
     "ename": "NameError",
     "evalue": "name &#39;content_df&#39; is not defined",
     "traceback": [
      "\u001b[1;31m---------------------------------------------------------------------------\u001b[0m",
      "\u001b[1;31mNameError\u001b[0m                                 Traceback (most recent call last)",
      "\u001b[1;32m&lt;ipython-input-1-d7cd077cbb69&gt;\u001b[0m in \u001b[0;36m&lt;module&gt;\u001b[1;34m\u001b[0m\n\u001b[1;32m----&gt; 1\u001b[1;33m \u001b[0mcontent_df\u001b[0m\u001b[1;33m.\u001b[0m\u001b[0mhead\u001b[0m\u001b[1;33m(\u001b[0m\u001b[1;36m30\u001b[0m\u001b[1;33m)\u001b[0m\u001b[1;33m\u001b[0m\u001b[1;33m\u001b[0m\u001b[0m\n\u001b[0m",
      "\u001b[1;31mNameError\u001b[0m: name &#39;content_df&#39; is not defined"
     ]
    }
   ],
   "source": [
    "content_df.head(30)"
   ]
  },
  {
   "cell_type": "code",
   "execution_count": 81,
   "metadata": {},
   "outputs": [],
   "source": [
    "#Saving dataframe for later use. \n",
    "content_df.to_csv(r\"df_content_v2.csv\", index = False)"
   ]
  },
  {
   "source": [
    "----------------------------"
   ],
   "cell_type": "markdown",
   "metadata": {}
  },
  {
   "cell_type": "code",
   "execution_count": 3,
   "metadata": {},
   "outputs": [],
   "source": [
    "import pandas as pd\n",
    "df = pd.read_csv(\"df_content_v2.csv\")"
   ]
  },
  {
   "cell_type": "code",
   "execution_count": 4,
   "metadata": {
    "tags": []
   },
   "outputs": [
    {
     "output_type": "execute_result",
     "data": {
      "text/plain": "vid_title       0\nvid_id          0\ncategory        0\nduration        0\nviews           0\nlikes           0\nurl             0\ndescription     1\ntags           26\ndtype: int64"
     },
     "metadata": {},
     "execution_count": 4
    }
   ],
   "source": [
    "df.isna().sum()"
   ]
  },
  {
   "cell_type": "code",
   "execution_count": 5,
   "metadata": {
    "tags": []
   },
   "outputs": [],
   "source": [
    "#Filter dataframe for duration of more then 5 minutes and less then 15\n",
    "df = df[(df.duration >= 5) & (df.duration <= 15) ]"
   ]
  },
  {
   "cell_type": "code",
   "execution_count": 6,
   "metadata": {
    "tags": []
   },
   "outputs": [],
   "source": [
    "#Creating likes to views ratio column\n",
    "\n",
    "#The average is 40 likes per 1000 views, that’s 4%. Source: https://pixelvalleystudio.com/pmf-articles/4-key-youtube-channel-statistics-and-how-to-calculate-them\n",
    "df[\"Likes_Views_ratio\"] = (df.likes / df.views) * 100"
   ]
  },
  {
   "cell_type": "code",
   "execution_count": 7,
   "metadata": {},
   "outputs": [
    {
     "output_type": "execute_result",
     "data": {
      "text/plain": "(494, 10)"
     },
     "metadata": {},
     "execution_count": 7
    }
   ],
   "source": [
    "df.shape"
   ]
  },
  {
   "source": [
    "\n",
    "Voor emotions misschien 3 verschillende dataframes maken?"
   ],
   "cell_type": "markdown",
   "metadata": {}
  }
 ]
}