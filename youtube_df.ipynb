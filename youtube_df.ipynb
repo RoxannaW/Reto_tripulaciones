{
 "metadata": {
  "language_info": {
   "codemirror_mode": {
    "name": "ipython",
    "version": 3
   },
   "file_extension": ".py",
   "mimetype": "text/x-python",
   "name": "python",
   "nbconvert_exporter": "python",
   "pygments_lexer": "ipython3",
   "version": "3.8.3-final"
  },
  "orig_nbformat": 2,
  "kernelspec": {
   "name": "Python 3.8.3 64-bit",
   "display_name": "Python 3.8.3 64-bit",
   "metadata": {
    "interpreter": {
     "hash": "1baa965d5efe3ac65b79dfc60c0d706280b1da80fedb7760faf2759126c4f253"
    }
   }
  }
 },
 "nbformat": 4,
 "nbformat_minor": 2,
 "cells": [
  {
   "cell_type": "code",
   "execution_count": 1,
   "metadata": {},
   "outputs": [],
   "source": [
    "import re\n",
    "from datetime import timedelta\n",
    "from key_test import api_key"
   ]
  },
  {
   "cell_type": "code",
   "execution_count": 2,
   "metadata": {},
   "outputs": [],
   "source": [
    "from googleapiclient.discovery import build\n",
    "key = api_key\n",
    "youtube = build('youtube', 'v3', developerKey=key)"
   ]
  },
  {
   "cell_type": "code",
   "execution_count": 33,
   "metadata": {},
   "outputs": [],
   "source": [
    "video_suggestions = [\"M_heu5pg2IQ\"]"
   ]
  },
  {
   "cell_type": "code",
   "execution_count": 34,
   "metadata": {},
   "outputs": [],
   "source": [
    "vid_id = []\n",
    "title = []\n",
    "url_pic = []\n",
    "for elem in video_suggestions:\n",
    "    vid_request = youtube.videos().list(\n",
    "                part='snippet',\n",
    "                id= elem\n",
    "        )\n",
    "    response_vid = vid_request.execute()\n",
    "    for elem in response_vid[\"items\"]:\n",
    "        try:\n",
    "            vid_id.append(elem['id'])\n",
    "            title.append(elem['snippet']['title'])\n",
    "            url_pic.append(elem['snippet']['thumbnails']['maxres']['url'])\n",
    "        except:\n",
    "            vid_id.append(elem['id'])\n",
    "            title.append(elem['snippet']['title'])\n",
    "            url_pic.append(elem['snippet']['thumbnails']['standard']['url'])\n",
    "\n",
    "        \n",
    " "
   ]
  },
  {
   "cell_type": "code",
   "execution_count": null,
   "metadata": {},
   "outputs": [],
   "source": []
  },
  {
   "cell_type": "code",
   "execution_count": 35,
   "metadata": {},
   "outputs": [
    {
     "output_type": "stream",
     "name": "stdout",
     "text": [
      "['M_heu5pg2IQ']\n1\n['https://i.ytimg.com/vi/M_heu5pg2IQ/maxresdefault.jpg']\n"
     ]
    }
   ],
   "source": [
    "print(vid_id)\n",
    "print(len(title))\n",
    "print(url_pic)"
   ]
  },
  {
   "cell_type": "code",
   "execution_count": null,
   "metadata": {},
   "outputs": [],
   "source": [
    "for ele"
   ]
  },
  {
   "cell_type": "code",
   "execution_count": 14,
   "metadata": {},
   "outputs": [
    {
     "output_type": "stream",
     "name": "stdout",
     "text": [
      "tAUf7aajBWE\n",
      "Yoga at Your Desk\n",
      "https://i.ytimg.com/vi/tAUf7aajBWE/maxresdefault.jpg\n",
      "----------------------\n",
      "6XpGQ2EhfUQ\n",
      "5-Minute Squat Workout for a Tight Booty\n",
      "6XpGQ2EhfUQ\n",
      "5-Minute Squat Workout for a Tight Booty\n",
      "https://i.ytimg.com/vi/6XpGQ2EhfUQ/sddefault.jpg\n",
      "----------------------\n",
      "inpok4MKVLM\n",
      "5-Minute Meditation You Can Do Anywhere\n",
      "https://i.ytimg.com/vi/inpok4MKVLM/maxresdefault.jpg\n",
      "----------------------\n",
      "X7iBnp8T6nY\n",
      "GUIDED MEDITATION - Deep Relaxation\n",
      "https://i.ytimg.com/vi/X7iBnp8T6nY/maxresdefault.jpg\n",
      "----------------------\n",
      "OCorElLKFQE\n",
      "5 Minute Guided Meditation for Gratitude / Mindful Movement\n",
      "https://i.ytimg.com/vi/OCorElLKFQE/maxresdefault.jpg\n",
      "----------------------\n",
      "3E7hkPZ-HTk\n",
      "Quit social media | Dr. Cal Newport | TEDxTysons\n",
      "https://i.ytimg.com/vi/3E7hkPZ-HTk/maxresdefault.jpg\n",
      "----------------------\n",
      "B6uuIHpFkuo\n",
      "Purl | Pixar SparkShorts\n",
      "https://i.ytimg.com/vi/B6uuIHpFkuo/maxresdefault.jpg\n",
      "----------------------\n",
      "ZVpB8b0cYLY\n",
      "THE PASSENGER || Animated short film || Horror film || CGI Animation\n",
      "https://i.ytimg.com/vi/ZVpB8b0cYLY/maxresdefault.jpg\n",
      "----------------------\n",
      "DKxCvAc-DvU\n",
      "🤣 Funniest 🐶 Dogs and 😻 Cats - Awesome Funny  Animals Videos 😇\n",
      "https://i.ytimg.com/vi/DKxCvAc-DvU/maxresdefault.jpg\n",
      "----------------------\n"
     ]
    }
   ],
   "source": [
    "#info ={}\n",
    "info = {\"vid_id\", \"title\", \"url_pic\"}\n",
    "for elem in video_suggestions:\n",
    "    vid_request = youtube.videos().list(\n",
    "                part='snippet',\n",
    "                id= elem\n",
    "        )\n",
    "    response_vid = vid_request.execute()\n",
    "    for elem in response_vid[\"items\"]:\n",
    "        info[\"vid_id\"].append(elem['id'])\n",
    "        info[\"title\"].append(elem['snippet']['title'])\n",
    "        info['url_pic'].append(elem['snippet']['thumbnails']['default']['url']) \n",
    "    print(\"----------------------\")"
   ]
  },
  {
   "cell_type": "code",
   "execution_count": 9,
   "metadata": {},
   "outputs": [
    {
     "output_type": "execute_result",
     "data": {
      "text/plain": [
       "{'vid_id': ['tAUf7aajBWE',\n",
       "  '6XpGQ2EhfUQ',\n",
       "  'inpok4MKVLM',\n",
       "  'X7iBnp8T6nY',\n",
       "  'OCorElLKFQE',\n",
       "  'iz-IXKMF0G4',\n",
       "  'a9WC_eLmP30',\n",
       "  'GwRzjFQa_Og',\n",
       "  '3E7hkPZ-HTk',\n",
       "  'B6uuIHpFkuo',\n",
       "  'ZVpB8b0cYLY',\n",
       "  'DKxCvAc-DvU'],\n",
       " 'title': ['Yoga at Your Desk',\n",
       "  '5-Minute Squat Workout for a Tight Booty',\n",
       "  '5-Minute Meditation You Can Do Anywhere',\n",
       "  'GUIDED MEDITATION - Deep Relaxation',\n",
       "  '5 Minute Guided Meditation for Gratitude / Mindful Movement',\n",
       "  '10 Minute Standing Stretches | Pilates at Your Desk',\n",
       "  'Relaxing Stretching Workout for Stiff Muscles & Stress Relief - Easy Stretches to Do at Work',\n",
       "  'The Magic of Not Giving a F*** | Sarah Knight | TEDxCoconutGrove',\n",
       "  'Quit social media | Dr. Cal Newport | TEDxTysons',\n",
       "  'Purl | Pixar SparkShorts',\n",
       "  'THE PASSENGER || Animated short film || Horror film || CGI Animation',\n",
       "  '🤣 Funniest 🐶 Dogs and 😻 Cats - Awesome Funny  Animals Videos 😇'],\n",
       " 'url_pic': ['https://i.ytimg.com/vi/tAUf7aajBWE/default.jpg',\n",
       "  'https://i.ytimg.com/vi/6XpGQ2EhfUQ/default.jpg',\n",
       "  'https://i.ytimg.com/vi/inpok4MKVLM/default.jpg',\n",
       "  'https://i.ytimg.com/vi/X7iBnp8T6nY/default.jpg',\n",
       "  'https://i.ytimg.com/vi/OCorElLKFQE/default.jpg',\n",
       "  'https://i.ytimg.com/vi/iz-IXKMF0G4/default.jpg',\n",
       "  'https://i.ytimg.com/vi/a9WC_eLmP30/default.jpg',\n",
       "  'https://i.ytimg.com/vi/GwRzjFQa_Og/default.jpg',\n",
       "  'https://i.ytimg.com/vi/3E7hkPZ-HTk/default.jpg',\n",
       "  'https://i.ytimg.com/vi/B6uuIHpFkuo/default.jpg',\n",
       "  'https://i.ytimg.com/vi/ZVpB8b0cYLY/default.jpg',\n",
       "  'https://i.ytimg.com/vi/DKxCvAc-DvU/default.jpg']}"
      ]
     },
     "metadata": {},
     "execution_count": 9
    }
   ],
   "source": [
    "info"
   ]
  },
  {
   "cell_type": "code",
   "execution_count": null,
   "metadata": {},
   "outputs": [],
   "source": []
  },
  {
   "cell_type": "code",
   "execution_count": null,
   "metadata": {},
   "outputs": [],
   "source": []
  },
  {
   "cell_type": "code",
   "execution_count": 4,
   "metadata": {},
   "outputs": [
    {
     "output_type": "execute_result",
     "data": {
      "text/plain": "700"
     },
     "metadata": {},
     "execution_count": 4
    }
   ],
   "source": [
    "search_terms = ['desk workout', '5 minute workout', '10 minute workout', 'desk stretches', 'stretching exercises during work', '5 minute office workout', '5 minute guided meditation ', '10 minute guided meditation ', '15 minute guided meditation', 'short guided meditation for work ', 'ted talk', 'funny animal videos', 'funny videos', 'short movie animation', 'powernap short', 'power nap 10 minutes guided', 'power nap 10 minutes music']\n",
    "\n",
    "14 * 50"
   ]
  },
  {
   "cell_type": "code",
   "execution_count": 5,
   "metadata": {
    "tags": []
   },
   "outputs": [
    {
     "output_type": "stream",
     "name": "stdout",
     "text": "700\n700\n"
    }
   ],
   "source": [
    "#Get videos id and titles for all videos in all the search terms.\n",
    "\n",
    "vid_id = []\n",
    "vid_title = []\n",
    "category = []\n",
    "\n",
    "for elem in search_terms:\n",
    "    request_vid = youtube.search().list(\n",
    "                    q = elem,\n",
    "                    part='snippet',\n",
    "                    type='video',\n",
    "                    maxResults=50\n",
    "                    \n",
    "\n",
    "\n",
    "    )\n",
    "\n",
    "    response_vid = request_vid.execute()\n",
    "   \n",
    "    for item in response_vid['items']:\n",
    "\n",
    "        if 'workout' in elem:\n",
    "            category.append('Workout')\n",
    "        if 'stretch' in elem:\n",
    "            category.append('Stretch')\n",
    "        if 'meditation' in elem:\n",
    "            category.append('Meditation')\n",
    "        if 'talk' in elem:\n",
    "            category.append('Educational')\n",
    "        if 'funny' in elem:\n",
    "            category.append('Funny')\n",
    "        if 'movie' in elem:\n",
    "            category.append('Short Movie')\n",
    "\n",
    "        #print(item)\n",
    "        vid_id.append(item['id']['videoId'])\n",
    "        vid_title.append(item['snippet']['title'])\n",
    "\n",
    "print(len(vid_title))\n",
    "print(len(vid_id))\n",
    "\n",
    "#hier ook de tags zoeken en toevoegen!\n",
    "    "
   ]
  },
  {
   "cell_type": "code",
   "execution_count": 6,
   "metadata": {
    "tags": []
   },
   "outputs": [],
   "source": [
    "#getting description and tags of each video. \n",
    "descriptions = []\n",
    "tags = []\n",
    "\n",
    "for elem in vid_id:\n",
    "    vid_request = youtube.videos().list(\n",
    "                part='snippet',\n",
    "                id= elem\n",
    "        )\n",
    "\n",
    "    vid_response = vid_request.execute()\n",
    "    for elem in vid_response['items']:\n",
    "        descriptions.append(elem['snippet']['description'])\n",
    "        if 'tags' in elem['snippet']:\n",
    "            tags.append(elem['snippet']['tags'])\n",
    "        else: \n",
    "            tags.append(None)\n"
   ]
  },
  {
   "cell_type": "code",
   "execution_count": 7,
   "metadata": {
    "tags": []
   },
   "outputs": [
    {
     "output_type": "stream",
     "name": "stdout",
     "text": "700\n"
    }
   ],
   "source": [
    "#getting url of the videos\n",
    "url = []\n",
    "start_point = 'https://www.youtube.com/watch?v='\n",
    "for elem in vid_id:\n",
    "    url.append(start_point + elem)\n",
    "print(len(url))"
   ]
  },
  {
   "cell_type": "code",
   "execution_count": 8,
   "metadata": {
    "tags": []
   },
   "outputs": [
    {
     "output_type": "stream",
     "name": "stdout",
     "text": "700\n"
    }
   ],
   "source": [
    "#Getting length of the videos\n",
    "duration_in_minutes = []\n",
    "#for elem in vid_id:\n",
    "for elem in vid_id:\n",
    "    vid_request = youtube.videos().list(\n",
    "            part='contentDetails',\n",
    "            id= elem\n",
    "    )\n",
    "\n",
    "\n",
    "    vid_response = vid_request.execute()\n",
    "\n",
    "    for item in vid_response['items']:\n",
    "        duration = item['contentDetails']['duration']\n",
    "\n",
    "        \n",
    "        hours_pattern = re.compile(r'(\\d+)H')\n",
    "        minutes_pattern = re.compile(r'(\\d+)M')\n",
    "        seconds_pattern = re.compile(r'(\\d+)S')\n",
    "\n",
    "\n",
    "        hours = hours_pattern.search(duration)\n",
    "        minutes = minutes_pattern.search(duration)\n",
    "        seconds = seconds_pattern.search(duration)\n",
    "\n",
    "        hours = int(hours.group(1)) if hours else 0\n",
    "        minutes = int(minutes.group(1)) if minutes else 0\n",
    "        seconds = int(seconds.group(1)) if seconds else 0\n",
    "        \n",
    "        video_minutes = round(timedelta(\n",
    "            hours = hours,\n",
    "            minutes= minutes,\n",
    "            seconds= seconds\n",
    "        ).total_seconds() / 60, 2)\n",
    "\n",
    "        \n",
    "        duration_in_minutes.append(video_minutes)\n",
    "\n",
    "print(len(duration_in_minutes))\n"
   ]
  },
  {
   "cell_type": "code",
   "execution_count": 9,
   "metadata": {
    "tags": []
   },
   "outputs": [
    {
     "output_type": "stream",
     "name": "stdout",
     "text": "700\n700\n"
    }
   ],
   "source": [
    "#get the likes of a video\n",
    "likes = []\n",
    "views = []\n",
    "#for elem in vid_id:\n",
    "\n",
    "for elem in vid_id:\n",
    "    vid_request_likes = youtube.videos().list(\n",
    "            part='statistics',\n",
    "            id= elem\n",
    "    )\n",
    "\n",
    "\n",
    "    vid_response_likes = vid_request_likes.execute()\n",
    "            \n",
    "            \n",
    "\n",
    "    for item in vid_response_likes['items']:\n",
    "        views.append(item['statistics']['viewCount'])\n",
    "        if 'likeCount' in item['statistics']:\n",
    "                likes.append(item['statistics']['likeCount']) #Some videos don't have like coun\n",
    "        else:\n",
    "                likes.append(0)\n",
    "\n",
    "print(len(likes))\n",
    "print(len(views))"
   ]
  },
  {
   "cell_type": "code",
   "execution_count": 20,
   "metadata": {},
   "outputs": [
    {
     "output_type": "execute_result",
     "data": {
      "text/plain": "&#39;5zjZIHsHuDI&#39;"
     },
     "metadata": {},
     "execution_count": 20
    }
   ],
   "source": [
    "vid_id[0]"
   ]
  },
  {
   "cell_type": "code",
   "execution_count": 10,
   "metadata": {},
   "outputs": [],
   "source": [
    "import pandas as pd\n",
    "content_df = pd.DataFrame({'vid_title' : vid_title,\n",
    "                                'vid_id' : vid_id,\n",
    "                                'category' : category,\n",
    "                                'duration': duration_in_minutes,\n",
    "                                'views' : views,\n",
    "                                'likes': likes,\n",
    "                                'url': url,\n",
    "                                'description': descriptions,\n",
    "                                'tags' : tags}, \n",
    "                                columns=['vid_title','vid_id', 'category', 'duration', 'views', 'likes', 'url', 'description', 'tags'])"
   ]
  },
  {
   "cell_type": "code",
   "execution_count": 99,
   "metadata": {},
   "outputs": [
    {
     "output_type": "execute_result",
     "data": {
      "text/plain": "(44, 9)"
     },
     "metadata": {},
     "execution_count": 99
    }
   ],
   "source": [
    "#Finding duplicated rows\n",
    "dupl1 = content_df[content_df.drop('tags', axis=1).duplicated() == True]\n",
    "dupl1.shape"
   ]
  },
  {
   "cell_type": "code",
   "execution_count": 11,
   "metadata": {},
   "outputs": [
    {
     "output_type": "execute_result",
     "data": {
      "text/plain": "(700, 9)"
     },
     "metadata": {},
     "execution_count": 11
    }
   ],
   "source": [
    "content_df.shape"
   ]
  },
  {
   "cell_type": "code",
   "execution_count": 12,
   "metadata": {},
   "outputs": [
    {
     "output_type": "execute_result",
     "data": {
      "text/plain": "                                            vid_title       vid_id category  \\\n0   5 Minute Abs Desk Workout | Exercises For a Fl...  5zjZIHsHuDI  Workout   \n1   Real Time Desk Exercises &amp;amp; Stretches - Ask...  CAq9vV7gkrs  Workout   \n2   Standing Desk Workout - 5 Exercises to do at Work  9N6ZQz-CV44  Workout   \n3      Easy 10-Minute Workout You Can Do at Your Desk  0Dp2rL397jA  Workout   \n4    How to Get Your Daily Workout at Your Desk | WSJ  XEm9QuABBKs  Workout   \n5   Lose hanging lower belly fat sitting - Beginne...  0x_MsUr3tag  Workout   \n6                  Stretch Breaks at Your Desk (2018)  vE1idGTZOIY  Workout   \n7   12 Core Strengthening Exercises You Can Do In ...  dM0rrWFbMpg  Workout   \n8                              Full Body Desk Workout  FABeW2UYbMI  Workout   \n9                 The 5 Minute Desk Workout | Fitness  eR1AWOp6t30  Workout   \n10  Exercise at Your Desk! Seated Office Workout f...  U8tB5wtdZnY  Workout   \n11       Deskercise -  Lower Back and Torso Stretches  5M-b1c2spPE  Workout   \n12               INTENSE Exercises To Do At Your Desk  DgxuAKSa6OM  Workout   \n13                                  Yoga at Your Desk  tAUf7aajBWE  Workout   \n14  10 Min Office Workout Exercises - Quick Office...  M_heu5pg2IQ  Workout   \n15                    7-MINUTE STANDING DESK WORKOUT!  tjVE9zaISRQ  Workout   \n16  Easy At-Work Stretches for Neck Pain and Back ...  XkT7jxFfPHA  Workout   \n17  2 Minutes office chair workout | Stress Reliev...  GWTpAJW0q9M  Workout   \n18  Chair Cardio for Fat Loss: Seated No Impact Fi...  _nZ07OVtSmQ  Workout   \n19  5 Minute Desk Chair Workout--Get Moving During...  oPjdR-yU0PQ  Workout   \n20  Office Exercises You Can Do In Secret. Get in ...  GIUwLNAxesA  Workout   \n21                                     Desk exercises  Lg8PFfd85ts  Workout   \n22                                       Desk Workout  H1UHEtUmRT4  Workout   \n23  Office Mobility Routine: Desk Workout for Stif...  6Kr6KEADhoU  Workout   \n24  Do This: 4 minute, intense arm workout at your...  biqnsa9j6Bc  Workout   \n25  Ultimate OFFICE CHAIR Ab Workout | No Excuses ...  8c5pGC_8_5E  Workout   \n26         sitting arms series (do this at your desk)  h1dpwovNnxA  Workout   \n27  30-Minute Desk Workout With Dolvett Quince | T...  OSGR805EOUc  Workout   \n28       Mini-Desk Workout: Fixing a Slouched Posture  -cw0X0NAwUw  Workout   \n29                   Stand Up Desk Energising Workout  7_L3SMHhxjM  Workout   \n\n    duration    views  likes                                          url  \\\n0       6.42    36974   1261  https://www.youtube.com/watch?v=5zjZIHsHuDI   \n1      11.12    14449    230  https://www.youtube.com/watch?v=CAq9vV7gkrs   \n2       5.23    22612    313  https://www.youtube.com/watch?v=9N6ZQz-CV44   \n3       2.45    76774    686  https://www.youtube.com/watch?v=0Dp2rL397jA   \n4       3.92    27482    818  https://www.youtube.com/watch?v=XEm9QuABBKs   \n5      14.32   906033  19711  https://www.youtube.com/watch?v=0x_MsUr3tag   \n6       1.98   100565    929  https://www.youtube.com/watch?v=vE1idGTZOIY   \n7       5.97   161880   1828  https://www.youtube.com/watch?v=dM0rrWFbMpg   \n8      11.25    11116    245  https://www.youtube.com/watch?v=FABeW2UYbMI   \n9       5.62    34603    204  https://www.youtube.com/watch?v=eR1AWOp6t30   \n10     11.25    97013   1374  https://www.youtube.com/watch?v=U8tB5wtdZnY   \n11      2.17    68704    569  https://www.youtube.com/watch?v=5M-b1c2spPE   \n12     10.52   155046   3356  https://www.youtube.com/watch?v=DgxuAKSa6OM   \n13      6.40  1353109  15635  https://www.youtube.com/watch?v=tAUf7aajBWE   \n14     10.47    99561      0  https://www.youtube.com/watch?v=M_heu5pg2IQ   \n15      7.97     1866     24  https://www.youtube.com/watch?v=tjVE9zaISRQ   \n16      3.47    59106    717  https://www.youtube.com/watch?v=XkT7jxFfPHA   \n17      4.12    15738    118  https://www.youtube.com/watch?v=GWTpAJW0q9M   \n18     24.05   227845   6880  https://www.youtube.com/watch?v=_nZ07OVtSmQ   \n19      7.18     6681     81  https://www.youtube.com/watch?v=oPjdR-yU0PQ   \n20      3.35     3422    114  https://www.youtube.com/watch?v=GIUwLNAxesA   \n21      3.30    94321    861  https://www.youtube.com/watch?v=Lg8PFfd85ts   \n22      6.02      311     12  https://www.youtube.com/watch?v=H1UHEtUmRT4   \n23      4.93    26298    390  https://www.youtube.com/watch?v=6Kr6KEADhoU   \n24      6.87     3672     38  https://www.youtube.com/watch?v=biqnsa9j6Bc   \n25      4.77    89496   1567  https://www.youtube.com/watch?v=8c5pGC_8_5E   \n26      4.43   177994   2816  https://www.youtube.com/watch?v=h1dpwovNnxA   \n27      6.72    65986    910  https://www.youtube.com/watch?v=OSGR805EOUc   \n28      3.28      610     10  https://www.youtube.com/watch?v=-cw0X0NAwUw   \n29      2.37    18018    185  https://www.youtube.com/watch?v=7_L3SMHhxjM   \n\n                                          description  \\\n0   This 5 minute seated abs workout is perfect to...   \n1   These desk exercises and stretches are easy to...   \n2   5 Exercises to do at a Stand-Up Desk, benefits...   \n3   Don&#39;t worry about rushing home after work to g...   \n4   While an hour-long workout might not offset th...   \n5   Members share their journeys https://www.insta...   \n6   https://youtu.be/vE1idGTZOIY\\nSit at a desk al...   \n7   Try ANY of these 12 exercises while you&#39;re sti...   \n8   🍑 Booty Bands® - Step Into Your Best! \\n🛍️ Sho...   \n9   Subscribe to follow the challenge!\\nhttp://po....   \n10  CUSTOM CORPORATE WELLNESS TO IMPROVE THE HEALT...   \n11  Sitting for long periods of time can make area...   \n12  Hello Fitness Family! \\n\\nBack again with a wo...   \n13  SNEAK IN SOME YOGA! Because you are worth it -...   \n14  This is a training video:\\n\\n10 Min Office Wor...   \n15  Dr. Dan takes you through a comprehensive 7-mi...   \n16  Is sitting at a computer all day taking a toll...   \n17  There’s simply no way around it: You must sit ...   \n18  Burn calories and boost your metabolism with t...   \n19  Take a break from work with this 5 minute work...   \n20  Famous Physical Therapists Bob Schrupp and Bra...   \n21  These are some easy exercises you can perform ...   \n22  Workout at your workplace. Implement these few...   \n23  (0:03) - Chest Opener\\n(0:50) - Upper Thoracic...   \n24  If you spend time sitting at a desk, take 4 mi...   \n25  1.99/month for Weekly Ab Workout, Workout Card...   \n26  Please subscribe! http://bit.ly/LHefezSub\\n\\nA...   \n27  Get the full how-to → http://bit.ly/2IgUWFt\\n&quot;...   \n28  www.coreadvantage.com.au\\n\\nWho else had paren...   \n29  A 2 Minute Workout with standing exercises at ...   \n\n                                                 tags  \n0   [abs, abs workout, desk workout, desk workout ...  \n1   [desk exercises, desk exercise, exercise at yo...  \n2   [stand up desk converter, best stand up desk c...  \n3   [workout, work, muscle, fat, tone, exercise, f...  \n4   [DONOVAN GREEN, HOW TO WORKOUT AT YOUR DESK, W...  \n5   [hanamilly, cardio hiit workout, home workout ...  \n6   [desk job, desk stretches, physical therapy, e...  \n7   [core exercises, core strengthening, core stre...  \n8   [Booty bands, healthy living, exercise, slim, ...  \n9   [workout, workouts, workout routines, workouts...  \n10  [Physical Exercise (Interest), Physical Fitnes...  \n11  [Mayo Clinic, Healthcare, Health care, Arizona...  \n12  [shoulders, inner thigh, arm toning exercises ...  \n13  [yoga at your desk, desk yoga, office yoga, yo...  \n14  [1 workout a day, fitness blender, blogilates,...  \n15  [standing desk exercises, standing desk, turak...  \n16  [Relief from back pain, back stretches, back s...  \n17  [bookmystyle, office workout, 3 Amazing office...  \n18  [chair workout, caroline jordan, seated exerci...  \n19  [Weight Training (Hobby), six pack, 6 pack, bo...  \n20  [physical therapy, physicaltherapyvideo, bob s...  \n21  [exercise, office exercise, desk exercise, via...  \n22  [desk workout, desk stretches, office desk str...  \n23  [office mobility, office workout, desk workout...  \n24  [Carolyn Barnes, TRICEP, Mydietisbetterthanyou...  \n25  [workout, abs workout, ab workout, zumba, danc...  \n26  [arms, workout, desk, strength, stretch, stron...  \n27  [Physical Exercise (Interest), Physical Fitnes...  \n28                                               None  \n29  [Stand up desk, workout, exercise, home, work,...  ",
      "text/html": "<div>\n<style scoped>\n    .dataframe tbody tr th:only-of-type {\n        vertical-align: middle;\n    }\n\n    .dataframe tbody tr th {\n        vertical-align: top;\n    }\n\n    .dataframe thead th {\n        text-align: right;\n    }\n</style>\n<table border=\"1\" class=\"dataframe\">\n  <thead>\n    <tr style=\"text-align: right;\">\n      <th></th>\n      <th>vid_title</th>\n      <th>vid_id</th>\n      <th>category</th>\n      <th>duration</th>\n      <th>views</th>\n      <th>likes</th>\n      <th>url</th>\n      <th>description</th>\n      <th>tags</th>\n    </tr>\n  </thead>\n  <tbody>\n    <tr>\n      <th>0</th>\n      <td>5 Minute Abs Desk Workout | Exercises For a Fl...</td>\n      <td>5zjZIHsHuDI</td>\n      <td>Workout</td>\n      <td>6.42</td>\n      <td>36974</td>\n      <td>1261</td>\n      <td>https://www.youtube.com/watch?v=5zjZIHsHuDI</td>\n      <td>This 5 minute seated abs workout is perfect to...</td>\n      <td>[abs, abs workout, desk workout, desk workout ...</td>\n    </tr>\n    <tr>\n      <th>1</th>\n      <td>Real Time Desk Exercises &amp;amp; Stretches - Ask...</td>\n      <td>CAq9vV7gkrs</td>\n      <td>Workout</td>\n      <td>11.12</td>\n      <td>14449</td>\n      <td>230</td>\n      <td>https://www.youtube.com/watch?v=CAq9vV7gkrs</td>\n      <td>These desk exercises and stretches are easy to...</td>\n      <td>[desk exercises, desk exercise, exercise at yo...</td>\n    </tr>\n    <tr>\n      <th>2</th>\n      <td>Standing Desk Workout - 5 Exercises to do at Work</td>\n      <td>9N6ZQz-CV44</td>\n      <td>Workout</td>\n      <td>5.23</td>\n      <td>22612</td>\n      <td>313</td>\n      <td>https://www.youtube.com/watch?v=9N6ZQz-CV44</td>\n      <td>5 Exercises to do at a Stand-Up Desk, benefits...</td>\n      <td>[stand up desk converter, best stand up desk c...</td>\n    </tr>\n    <tr>\n      <th>3</th>\n      <td>Easy 10-Minute Workout You Can Do at Your Desk</td>\n      <td>0Dp2rL397jA</td>\n      <td>Workout</td>\n      <td>2.45</td>\n      <td>76774</td>\n      <td>686</td>\n      <td>https://www.youtube.com/watch?v=0Dp2rL397jA</td>\n      <td>Don't worry about rushing home after work to g...</td>\n      <td>[workout, work, muscle, fat, tone, exercise, f...</td>\n    </tr>\n    <tr>\n      <th>4</th>\n      <td>How to Get Your Daily Workout at Your Desk | WSJ</td>\n      <td>XEm9QuABBKs</td>\n      <td>Workout</td>\n      <td>3.92</td>\n      <td>27482</td>\n      <td>818</td>\n      <td>https://www.youtube.com/watch?v=XEm9QuABBKs</td>\n      <td>While an hour-long workout might not offset th...</td>\n      <td>[DONOVAN GREEN, HOW TO WORKOUT AT YOUR DESK, W...</td>\n    </tr>\n    <tr>\n      <th>5</th>\n      <td>Lose hanging lower belly fat sitting - Beginne...</td>\n      <td>0x_MsUr3tag</td>\n      <td>Workout</td>\n      <td>14.32</td>\n      <td>906033</td>\n      <td>19711</td>\n      <td>https://www.youtube.com/watch?v=0x_MsUr3tag</td>\n      <td>Members share their journeys https://www.insta...</td>\n      <td>[hanamilly, cardio hiit workout, home workout ...</td>\n    </tr>\n    <tr>\n      <th>6</th>\n      <td>Stretch Breaks at Your Desk (2018)</td>\n      <td>vE1idGTZOIY</td>\n      <td>Workout</td>\n      <td>1.98</td>\n      <td>100565</td>\n      <td>929</td>\n      <td>https://www.youtube.com/watch?v=vE1idGTZOIY</td>\n      <td>https://youtu.be/vE1idGTZOIY\\nSit at a desk al...</td>\n      <td>[desk job, desk stretches, physical therapy, e...</td>\n    </tr>\n    <tr>\n      <th>7</th>\n      <td>12 Core Strengthening Exercises You Can Do In ...</td>\n      <td>dM0rrWFbMpg</td>\n      <td>Workout</td>\n      <td>5.97</td>\n      <td>161880</td>\n      <td>1828</td>\n      <td>https://www.youtube.com/watch?v=dM0rrWFbMpg</td>\n      <td>Try ANY of these 12 exercises while you're sti...</td>\n      <td>[core exercises, core strengthening, core stre...</td>\n    </tr>\n    <tr>\n      <th>8</th>\n      <td>Full Body Desk Workout</td>\n      <td>FABeW2UYbMI</td>\n      <td>Workout</td>\n      <td>11.25</td>\n      <td>11116</td>\n      <td>245</td>\n      <td>https://www.youtube.com/watch?v=FABeW2UYbMI</td>\n      <td>🍑 Booty Bands® - Step Into Your Best! \\n🛍️ Sho...</td>\n      <td>[Booty bands, healthy living, exercise, slim, ...</td>\n    </tr>\n    <tr>\n      <th>9</th>\n      <td>The 5 Minute Desk Workout | Fitness</td>\n      <td>eR1AWOp6t30</td>\n      <td>Workout</td>\n      <td>5.62</td>\n      <td>34603</td>\n      <td>204</td>\n      <td>https://www.youtube.com/watch?v=eR1AWOp6t30</td>\n      <td>Subscribe to follow the challenge!\\nhttp://po....</td>\n      <td>[workout, workouts, workout routines, workouts...</td>\n    </tr>\n    <tr>\n      <th>10</th>\n      <td>Exercise at Your Desk! Seated Office Workout f...</td>\n      <td>U8tB5wtdZnY</td>\n      <td>Workout</td>\n      <td>11.25</td>\n      <td>97013</td>\n      <td>1374</td>\n      <td>https://www.youtube.com/watch?v=U8tB5wtdZnY</td>\n      <td>CUSTOM CORPORATE WELLNESS TO IMPROVE THE HEALT...</td>\n      <td>[Physical Exercise (Interest), Physical Fitnes...</td>\n    </tr>\n    <tr>\n      <th>11</th>\n      <td>Deskercise -  Lower Back and Torso Stretches</td>\n      <td>5M-b1c2spPE</td>\n      <td>Workout</td>\n      <td>2.17</td>\n      <td>68704</td>\n      <td>569</td>\n      <td>https://www.youtube.com/watch?v=5M-b1c2spPE</td>\n      <td>Sitting for long periods of time can make area...</td>\n      <td>[Mayo Clinic, Healthcare, Health care, Arizona...</td>\n    </tr>\n    <tr>\n      <th>12</th>\n      <td>INTENSE Exercises To Do At Your Desk</td>\n      <td>DgxuAKSa6OM</td>\n      <td>Workout</td>\n      <td>10.52</td>\n      <td>155046</td>\n      <td>3356</td>\n      <td>https://www.youtube.com/watch?v=DgxuAKSa6OM</td>\n      <td>Hello Fitness Family! \\n\\nBack again with a wo...</td>\n      <td>[shoulders, inner thigh, arm toning exercises ...</td>\n    </tr>\n    <tr>\n      <th>13</th>\n      <td>Yoga at Your Desk</td>\n      <td>tAUf7aajBWE</td>\n      <td>Workout</td>\n      <td>6.40</td>\n      <td>1353109</td>\n      <td>15635</td>\n      <td>https://www.youtube.com/watch?v=tAUf7aajBWE</td>\n      <td>SNEAK IN SOME YOGA! Because you are worth it -...</td>\n      <td>[yoga at your desk, desk yoga, office yoga, yo...</td>\n    </tr>\n    <tr>\n      <th>14</th>\n      <td>10 Min Office Workout Exercises - Quick Office...</td>\n      <td>M_heu5pg2IQ</td>\n      <td>Workout</td>\n      <td>10.47</td>\n      <td>99561</td>\n      <td>0</td>\n      <td>https://www.youtube.com/watch?v=M_heu5pg2IQ</td>\n      <td>This is a training video:\\n\\n10 Min Office Wor...</td>\n      <td>[1 workout a day, fitness blender, blogilates,...</td>\n    </tr>\n    <tr>\n      <th>15</th>\n      <td>7-MINUTE STANDING DESK WORKOUT!</td>\n      <td>tjVE9zaISRQ</td>\n      <td>Workout</td>\n      <td>7.97</td>\n      <td>1866</td>\n      <td>24</td>\n      <td>https://www.youtube.com/watch?v=tjVE9zaISRQ</td>\n      <td>Dr. Dan takes you through a comprehensive 7-mi...</td>\n      <td>[standing desk exercises, standing desk, turak...</td>\n    </tr>\n    <tr>\n      <th>16</th>\n      <td>Easy At-Work Stretches for Neck Pain and Back ...</td>\n      <td>XkT7jxFfPHA</td>\n      <td>Workout</td>\n      <td>3.47</td>\n      <td>59106</td>\n      <td>717</td>\n      <td>https://www.youtube.com/watch?v=XkT7jxFfPHA</td>\n      <td>Is sitting at a computer all day taking a toll...</td>\n      <td>[Relief from back pain, back stretches, back s...</td>\n    </tr>\n    <tr>\n      <th>17</th>\n      <td>2 Minutes office chair workout | Stress Reliev...</td>\n      <td>GWTpAJW0q9M</td>\n      <td>Workout</td>\n      <td>4.12</td>\n      <td>15738</td>\n      <td>118</td>\n      <td>https://www.youtube.com/watch?v=GWTpAJW0q9M</td>\n      <td>There’s simply no way around it: You must sit ...</td>\n      <td>[bookmystyle, office workout, 3 Amazing office...</td>\n    </tr>\n    <tr>\n      <th>18</th>\n      <td>Chair Cardio for Fat Loss: Seated No Impact Fi...</td>\n      <td>_nZ07OVtSmQ</td>\n      <td>Workout</td>\n      <td>24.05</td>\n      <td>227845</td>\n      <td>6880</td>\n      <td>https://www.youtube.com/watch?v=_nZ07OVtSmQ</td>\n      <td>Burn calories and boost your metabolism with t...</td>\n      <td>[chair workout, caroline jordan, seated exerci...</td>\n    </tr>\n    <tr>\n      <th>19</th>\n      <td>5 Minute Desk Chair Workout--Get Moving During...</td>\n      <td>oPjdR-yU0PQ</td>\n      <td>Workout</td>\n      <td>7.18</td>\n      <td>6681</td>\n      <td>81</td>\n      <td>https://www.youtube.com/watch?v=oPjdR-yU0PQ</td>\n      <td>Take a break from work with this 5 minute work...</td>\n      <td>[Weight Training (Hobby), six pack, 6 pack, bo...</td>\n    </tr>\n    <tr>\n      <th>20</th>\n      <td>Office Exercises You Can Do In Secret. Get in ...</td>\n      <td>GIUwLNAxesA</td>\n      <td>Workout</td>\n      <td>3.35</td>\n      <td>3422</td>\n      <td>114</td>\n      <td>https://www.youtube.com/watch?v=GIUwLNAxesA</td>\n      <td>Famous Physical Therapists Bob Schrupp and Bra...</td>\n      <td>[physical therapy, physicaltherapyvideo, bob s...</td>\n    </tr>\n    <tr>\n      <th>21</th>\n      <td>Desk exercises</td>\n      <td>Lg8PFfd85ts</td>\n      <td>Workout</td>\n      <td>3.30</td>\n      <td>94321</td>\n      <td>861</td>\n      <td>https://www.youtube.com/watch?v=Lg8PFfd85ts</td>\n      <td>These are some easy exercises you can perform ...</td>\n      <td>[exercise, office exercise, desk exercise, via...</td>\n    </tr>\n    <tr>\n      <th>22</th>\n      <td>Desk Workout</td>\n      <td>H1UHEtUmRT4</td>\n      <td>Workout</td>\n      <td>6.02</td>\n      <td>311</td>\n      <td>12</td>\n      <td>https://www.youtube.com/watch?v=H1UHEtUmRT4</td>\n      <td>Workout at your workplace. Implement these few...</td>\n      <td>[desk workout, desk stretches, office desk str...</td>\n    </tr>\n    <tr>\n      <th>23</th>\n      <td>Office Mobility Routine: Desk Workout for Stif...</td>\n      <td>6Kr6KEADhoU</td>\n      <td>Workout</td>\n      <td>4.93</td>\n      <td>26298</td>\n      <td>390</td>\n      <td>https://www.youtube.com/watch?v=6Kr6KEADhoU</td>\n      <td>(0:03) - Chest Opener\\n(0:50) - Upper Thoracic...</td>\n      <td>[office mobility, office workout, desk workout...</td>\n    </tr>\n    <tr>\n      <th>24</th>\n      <td>Do This: 4 minute, intense arm workout at your...</td>\n      <td>biqnsa9j6Bc</td>\n      <td>Workout</td>\n      <td>6.87</td>\n      <td>3672</td>\n      <td>38</td>\n      <td>https://www.youtube.com/watch?v=biqnsa9j6Bc</td>\n      <td>If you spend time sitting at a desk, take 4 mi...</td>\n      <td>[Carolyn Barnes, TRICEP, Mydietisbetterthanyou...</td>\n    </tr>\n    <tr>\n      <th>25</th>\n      <td>Ultimate OFFICE CHAIR Ab Workout | No Excuses ...</td>\n      <td>8c5pGC_8_5E</td>\n      <td>Workout</td>\n      <td>4.77</td>\n      <td>89496</td>\n      <td>1567</td>\n      <td>https://www.youtube.com/watch?v=8c5pGC_8_5E</td>\n      <td>1.99/month for Weekly Ab Workout, Workout Card...</td>\n      <td>[workout, abs workout, ab workout, zumba, danc...</td>\n    </tr>\n    <tr>\n      <th>26</th>\n      <td>sitting arms series (do this at your desk)</td>\n      <td>h1dpwovNnxA</td>\n      <td>Workout</td>\n      <td>4.43</td>\n      <td>177994</td>\n      <td>2816</td>\n      <td>https://www.youtube.com/watch?v=h1dpwovNnxA</td>\n      <td>Please subscribe! http://bit.ly/LHefezSub\\n\\nA...</td>\n      <td>[arms, workout, desk, strength, stretch, stron...</td>\n    </tr>\n    <tr>\n      <th>27</th>\n      <td>30-Minute Desk Workout With Dolvett Quince | T...</td>\n      <td>OSGR805EOUc</td>\n      <td>Workout</td>\n      <td>6.72</td>\n      <td>65986</td>\n      <td>910</td>\n      <td>https://www.youtube.com/watch?v=OSGR805EOUc</td>\n      <td>Get the full how-to → http://bit.ly/2IgUWFt\\n\"...</td>\n      <td>[Physical Exercise (Interest), Physical Fitnes...</td>\n    </tr>\n    <tr>\n      <th>28</th>\n      <td>Mini-Desk Workout: Fixing a Slouched Posture</td>\n      <td>-cw0X0NAwUw</td>\n      <td>Workout</td>\n      <td>3.28</td>\n      <td>610</td>\n      <td>10</td>\n      <td>https://www.youtube.com/watch?v=-cw0X0NAwUw</td>\n      <td>www.coreadvantage.com.au\\n\\nWho else had paren...</td>\n      <td>None</td>\n    </tr>\n    <tr>\n      <th>29</th>\n      <td>Stand Up Desk Energising Workout</td>\n      <td>7_L3SMHhxjM</td>\n      <td>Workout</td>\n      <td>2.37</td>\n      <td>18018</td>\n      <td>185</td>\n      <td>https://www.youtube.com/watch?v=7_L3SMHhxjM</td>\n      <td>A 2 Minute Workout with standing exercises at ...</td>\n      <td>[Stand up desk, workout, exercise, home, work,...</td>\n    </tr>\n  </tbody>\n</table>\n</div>"
     },
     "metadata": {},
     "execution_count": 12
    }
   ],
   "source": [
    "content_df.head(30)"
   ]
  },
  {
   "cell_type": "code",
   "execution_count": 13,
   "metadata": {},
   "outputs": [],
   "source": [
    "#Saving dataframe for later use. \n",
    "content_df.to_csv(r\"df_content_v3.csv\", index = False)"
   ]
  },
  {
   "source": [
    "----------------------------"
   ],
   "cell_type": "markdown",
   "metadata": {}
  },
  {
   "cell_type": "code",
   "execution_count": 14,
   "metadata": {},
   "outputs": [],
   "source": [
    "import pandas as pd\n",
    "df = pd.read_csv(\"df_content_v3.csv\")"
   ]
  },
  {
   "cell_type": "code",
   "execution_count": 15,
   "metadata": {
    "tags": []
   },
   "outputs": [
    {
     "output_type": "execute_result",
     "data": {
      "text/plain": "vid_title       0\nvid_id          0\ncategory        0\nduration        0\nviews           0\nlikes           0\nurl             0\ndescription     3\ntags           27\ndtype: int64"
     },
     "metadata": {},
     "execution_count": 15
    }
   ],
   "source": [
    "df.isna().sum()"
   ]
  },
  {
   "cell_type": "code",
   "execution_count": 16,
   "metadata": {
    "tags": []
   },
   "outputs": [],
   "source": [
    "#Filter dataframe for duration of more then 5 minutes and less then 15\n",
    "df = df[(df.duration >= 5) & (df.duration <= 15) ]"
   ]
  },
  {
   "cell_type": "code",
   "execution_count": 17,
   "metadata": {
    "tags": []
   },
   "outputs": [],
   "source": [
    "#Creating likes to views ratio column\n",
    "\n",
    "#The average is 40 likes per 1000 views, that’s 4%. Source: https://pixelvalleystudio.com/pmf-articles/4-key-youtube-channel-statistics-and-how-to-calculate-them\n",
    "df[\"Likes_Views_ratio\"] = (df.likes / df.views) * 100"
   ]
  },
  {
   "cell_type": "code",
   "execution_count": 18,
   "metadata": {},
   "outputs": [],
   "source": [
    "df.to_csv(r\"df_content_v4.csv\", index = False)"
   ]
  },
  {
   "cell_type": "code",
   "execution_count": null,
   "metadata": {},
   "outputs": [],
   "source": [
    "HAve to make a new one!"
   ]
  },
  {
   "source": [
    "--------------------"
   ],
   "cell_type": "markdown",
   "metadata": {}
  },
  {
   "cell_type": "code",
   "execution_count": null,
   "metadata": {},
   "outputs": [],
   "source": [
    "def add_sentiment(row):\n",
    "\n",
    "    \"\"\"\n",
    "    1 -> Happy/content\n",
    "    2 -> Tired\n",
    "    3 -> Stressed/unhappy\n",
    "\n",
    "    categories: 'Workout', 'Stretch', 'Meditation', 'Educational', 'Funny',\n",
    "        'Short Movie'\n",
    "    \"\"\"\n",
    "\n",
    "    if row['category'] == 'Workout' :\n",
    "      return [1, 2]\n",
    "    if row['category'] == 'Stretch' :\n",
    "      return [3]\n",
    "    if row['category'] == 'Meditation' :\n",
    "      return [1, 3]\n",
    "    if row['category'] == 'Educational' :\n",
    "      return [1]\n",
    "    if row['category'] == 'Funny' :\n",
    "      return [1, 2, 3]\n",
    "    if row['category'] == 'Short Movie' :\n",
    "      return [1, 3]\n",
    "\n",
    "   \n",
    "\n",
    "df['sentiment_target'] = df.apply (lambda row: add_sentiment(row), axis=1)"
   ]
  },
  {
   "cell_type": "code",
   "execution_count": 24,
   "metadata": {},
   "outputs": [],
   "source": [
    "import pandas as pd\n",
    "df = pd.read_csv(\"df_content_v5.csv\")"
   ]
  },
  {
   "cell_type": "code",
   "execution_count": 26,
   "metadata": {},
   "outputs": [
    {
     "output_type": "execute_result",
     "data": {
      "text/plain": [
       "                                             vid_title       vid_id  \\\n",
       "367  5 Minute Guided Meditation for Gratitude / Min...  OCorElLKFQE   \n",
       "368  5 Minute Guided Meditation for Gratitude / Min...  OCorElLKFQE   \n",
       "369            5-Minute Meditation You Can Do Anywhere  inpok4MKVLM   \n",
       "370            5-Minute Meditation You Can Do Anywhere  inpok4MKVLM   \n",
       "371  5 Minute Guided Meditation | Quick 5 Minute Me...  8Xdwr4cRTVA   \n",
       "..                                                 ...          ...   \n",
       "654  15 Minute Meditation for Stress Relief and Bui...  -KMngzCWgTw   \n",
       "655                        GUIDED MEDITATION FOR FOCUS  Knqsy-Q8GpU   \n",
       "656                        GUIDED MEDITATION FOR FOCUS  Knqsy-Q8GpU   \n",
       "657                GUIDED MEDITATION - Deep Relaxation  X7iBnp8T6nY   \n",
       "658                GUIDED MEDITATION - Deep Relaxation  X7iBnp8T6nY   \n",
       "\n",
       "       category  duration    views   likes  \\\n",
       "367  Meditation      5.95   681273   10241   \n",
       "368  Meditation      5.95   681273   10241   \n",
       "369  Meditation      5.28  4854471  114041   \n",
       "370  Meditation      5.28  4854471  114041   \n",
       "371  Meditation      5.98   328271    3691   \n",
       "..          ...       ...      ...     ...   \n",
       "654  Meditation     14.72   559362    7970   \n",
       "655  Meditation      5.03    15883     103   \n",
       "656  Meditation      5.03    15883     103   \n",
       "657  Meditation     12.12  1921705    9632   \n",
       "658  Meditation     12.12  1921705    9632   \n",
       "\n",
       "                                             url  \\\n",
       "367  https://www.youtube.com/watch?v=OCorElLKFQE   \n",
       "368  https://www.youtube.com/watch?v=OCorElLKFQE   \n",
       "369  https://www.youtube.com/watch?v=inpok4MKVLM   \n",
       "370  https://www.youtube.com/watch?v=inpok4MKVLM   \n",
       "371  https://www.youtube.com/watch?v=8Xdwr4cRTVA   \n",
       "..                                           ...   \n",
       "654  https://www.youtube.com/watch?v=-KMngzCWgTw   \n",
       "655  https://www.youtube.com/watch?v=Knqsy-Q8GpU   \n",
       "656  https://www.youtube.com/watch?v=Knqsy-Q8GpU   \n",
       "657  https://www.youtube.com/watch?v=X7iBnp8T6nY   \n",
       "658  https://www.youtube.com/watch?v=X7iBnp8T6nY   \n",
       "\n",
       "                                           description  \\\n",
       "367  Take 5 minutes out of your busy day to practic...   \n",
       "368  Take 5 minutes out of your busy day to practic...   \n",
       "369  In just 5 minutes you can reset your day in a ...   \n",
       "370  In just 5 minutes you can reset your day in a ...   \n",
       "371  Life is hard. People are soft. But we’re meant...   \n",
       "..                                                 ...   \n",
       "654  This guided meditation and relaxation is a gre...   \n",
       "655  Time out meditation for focus, calming the min...   \n",
       "656  Time out meditation for focus, calming the min...   \n",
       "657  This classic Guided Meditation will lull you i...   \n",
       "658  This classic Guided Meditation will lull you i...   \n",
       "\n",
       "                                                  tags  Likes_Views_ratio  \\\n",
       "367  ['5 minute meditation for gratitude', 'gratitu...           1.503215   \n",
       "368  ['5 minute meditation for gratitude', 'gratitu...           1.503215   \n",
       "369  ['meditation', 'goodful', '5-minute', '5-minut...           2.349195   \n",
       "370  ['meditation', 'goodful', '5-minute', '5-minut...           2.349195   \n",
       "371  ['guided meditation', 'OMG. I Can Meditate!', ...           1.124376   \n",
       "..                                                 ...                ...   \n",
       "654  ['guided meditation', 'reduce stress', 'confid...           1.424838   \n",
       "655  ['guided meditation', 'short meditation', '10 ...           0.648492   \n",
       "656  ['guided meditation', 'short meditation', '10 ...           0.648492   \n",
       "657  ['guided meditation', 'guided', 'meditation', ...           0.501222   \n",
       "658  ['guided meditation', 'guided', 'meditation', ...           0.501222   \n",
       "\n",
       "     sentiment_target  \n",
       "367                 1  \n",
       "368                 3  \n",
       "369                 1  \n",
       "370                 3  \n",
       "371                 1  \n",
       "..                ...  \n",
       "654                 3  \n",
       "655                 1  \n",
       "656                 3  \n",
       "657                 1  \n",
       "658                 3  \n",
       "\n",
       "[292 rows x 11 columns]"
      ],
      "text/html": "<div>\n<style scoped>\n    .dataframe tbody tr th:only-of-type {\n        vertical-align: middle;\n    }\n\n    .dataframe tbody tr th {\n        vertical-align: top;\n    }\n\n    .dataframe thead th {\n        text-align: right;\n    }\n</style>\n<table border=\"1\" class=\"dataframe\">\n  <thead>\n    <tr style=\"text-align: right;\">\n      <th></th>\n      <th>vid_title</th>\n      <th>vid_id</th>\n      <th>category</th>\n      <th>duration</th>\n      <th>views</th>\n      <th>likes</th>\n      <th>url</th>\n      <th>description</th>\n      <th>tags</th>\n      <th>Likes_Views_ratio</th>\n      <th>sentiment_target</th>\n    </tr>\n  </thead>\n  <tbody>\n    <tr>\n      <th>367</th>\n      <td>5 Minute Guided Meditation for Gratitude / Min...</td>\n      <td>OCorElLKFQE</td>\n      <td>Meditation</td>\n      <td>5.95</td>\n      <td>681273</td>\n      <td>10241</td>\n      <td>https://www.youtube.com/watch?v=OCorElLKFQE</td>\n      <td>Take 5 minutes out of your busy day to practic...</td>\n      <td>['5 minute meditation for gratitude', 'gratitu...</td>\n      <td>1.503215</td>\n      <td>1</td>\n    </tr>\n    <tr>\n      <th>368</th>\n      <td>5 Minute Guided Meditation for Gratitude / Min...</td>\n      <td>OCorElLKFQE</td>\n      <td>Meditation</td>\n      <td>5.95</td>\n      <td>681273</td>\n      <td>10241</td>\n      <td>https://www.youtube.com/watch?v=OCorElLKFQE</td>\n      <td>Take 5 minutes out of your busy day to practic...</td>\n      <td>['5 minute meditation for gratitude', 'gratitu...</td>\n      <td>1.503215</td>\n      <td>3</td>\n    </tr>\n    <tr>\n      <th>369</th>\n      <td>5-Minute Meditation You Can Do Anywhere</td>\n      <td>inpok4MKVLM</td>\n      <td>Meditation</td>\n      <td>5.28</td>\n      <td>4854471</td>\n      <td>114041</td>\n      <td>https://www.youtube.com/watch?v=inpok4MKVLM</td>\n      <td>In just 5 minutes you can reset your day in a ...</td>\n      <td>['meditation', 'goodful', '5-minute', '5-minut...</td>\n      <td>2.349195</td>\n      <td>1</td>\n    </tr>\n    <tr>\n      <th>370</th>\n      <td>5-Minute Meditation You Can Do Anywhere</td>\n      <td>inpok4MKVLM</td>\n      <td>Meditation</td>\n      <td>5.28</td>\n      <td>4854471</td>\n      <td>114041</td>\n      <td>https://www.youtube.com/watch?v=inpok4MKVLM</td>\n      <td>In just 5 minutes you can reset your day in a ...</td>\n      <td>['meditation', 'goodful', '5-minute', '5-minut...</td>\n      <td>2.349195</td>\n      <td>3</td>\n    </tr>\n    <tr>\n      <th>371</th>\n      <td>5 Minute Guided Meditation | Quick 5 Minute Me...</td>\n      <td>8Xdwr4cRTVA</td>\n      <td>Meditation</td>\n      <td>5.98</td>\n      <td>328271</td>\n      <td>3691</td>\n      <td>https://www.youtube.com/watch?v=8Xdwr4cRTVA</td>\n      <td>Life is hard. People are soft. But we’re meant...</td>\n      <td>['guided meditation', 'OMG. I Can Meditate!', ...</td>\n      <td>1.124376</td>\n      <td>1</td>\n    </tr>\n    <tr>\n      <th>...</th>\n      <td>...</td>\n      <td>...</td>\n      <td>...</td>\n      <td>...</td>\n      <td>...</td>\n      <td>...</td>\n      <td>...</td>\n      <td>...</td>\n      <td>...</td>\n      <td>...</td>\n      <td>...</td>\n    </tr>\n    <tr>\n      <th>654</th>\n      <td>15 Minute Meditation for Stress Relief and Bui...</td>\n      <td>-KMngzCWgTw</td>\n      <td>Meditation</td>\n      <td>14.72</td>\n      <td>559362</td>\n      <td>7970</td>\n      <td>https://www.youtube.com/watch?v=-KMngzCWgTw</td>\n      <td>This guided meditation and relaxation is a gre...</td>\n      <td>['guided meditation', 'reduce stress', 'confid...</td>\n      <td>1.424838</td>\n      <td>3</td>\n    </tr>\n    <tr>\n      <th>655</th>\n      <td>GUIDED MEDITATION FOR FOCUS</td>\n      <td>Knqsy-Q8GpU</td>\n      <td>Meditation</td>\n      <td>5.03</td>\n      <td>15883</td>\n      <td>103</td>\n      <td>https://www.youtube.com/watch?v=Knqsy-Q8GpU</td>\n      <td>Time out meditation for focus, calming the min...</td>\n      <td>['guided meditation', 'short meditation', '10 ...</td>\n      <td>0.648492</td>\n      <td>1</td>\n    </tr>\n    <tr>\n      <th>656</th>\n      <td>GUIDED MEDITATION FOR FOCUS</td>\n      <td>Knqsy-Q8GpU</td>\n      <td>Meditation</td>\n      <td>5.03</td>\n      <td>15883</td>\n      <td>103</td>\n      <td>https://www.youtube.com/watch?v=Knqsy-Q8GpU</td>\n      <td>Time out meditation for focus, calming the min...</td>\n      <td>['guided meditation', 'short meditation', '10 ...</td>\n      <td>0.648492</td>\n      <td>3</td>\n    </tr>\n    <tr>\n      <th>657</th>\n      <td>GUIDED MEDITATION - Deep Relaxation</td>\n      <td>X7iBnp8T6nY</td>\n      <td>Meditation</td>\n      <td>12.12</td>\n      <td>1921705</td>\n      <td>9632</td>\n      <td>https://www.youtube.com/watch?v=X7iBnp8T6nY</td>\n      <td>This classic Guided Meditation will lull you i...</td>\n      <td>['guided meditation', 'guided', 'meditation', ...</td>\n      <td>0.501222</td>\n      <td>1</td>\n    </tr>\n    <tr>\n      <th>658</th>\n      <td>GUIDED MEDITATION - Deep Relaxation</td>\n      <td>X7iBnp8T6nY</td>\n      <td>Meditation</td>\n      <td>12.12</td>\n      <td>1921705</td>\n      <td>9632</td>\n      <td>https://www.youtube.com/watch?v=X7iBnp8T6nY</td>\n      <td>This classic Guided Meditation will lull you i...</td>\n      <td>['guided meditation', 'guided', 'meditation', ...</td>\n      <td>0.501222</td>\n      <td>3</td>\n    </tr>\n  </tbody>\n</table>\n<p>292 rows × 11 columns</p>\n</div>"
     },
     "metadata": {},
     "execution_count": 26
    }
   ],
   "source": [
    "df[df.category == \"Meditation\"].loc[40:]"
   ]
  },
  {
   "cell_type": "code",
   "execution_count": null,
   "metadata": {},
   "outputs": [],
   "source": []
  }
 ]
}